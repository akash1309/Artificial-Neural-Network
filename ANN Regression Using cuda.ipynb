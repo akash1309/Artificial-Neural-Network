{
  "nbformat": 4,
  "nbformat_minor": 0,
  "metadata": {
    "colab": {
      "name": "Untitled1.ipynb",
      "provenance": [],
      "toc_visible": true
    },
    "kernelspec": {
      "name": "python3",
      "display_name": "Python 3"
    },
    "accelerator": "GPU"
  },
  "cells": [
    {
      "cell_type": "markdown",
      "metadata": {
        "id": "KL9dcv8REByh",
        "colab_type": "text"
      },
      "source": [
        "# Basic Simple 1 layer Artificial Neural Network and Training the model on GPU(if available)\n",
        "\n",
        "Here, we will be working with a simple regression problem containing a single feature and a single label."
      ]
    },
    {
      "cell_type": "markdown",
      "metadata": {
        "id": "fZi88UnPrYiT",
        "colab_type": "text"
      },
      "source": [
        "## In this code, we will be training on the GPU contains a lot of ALUs, So,training on Gpu is faster."
      ]
    },
    {
      "cell_type": "code",
      "metadata": {
        "id": "VYc3v54ZsDqr",
        "colab_type": "code",
        "colab": {}
      },
      "source": [
        "import torch\n",
        "import torch.nn as nn\n",
        "import numpy as np"
      ],
      "execution_count": 0,
      "outputs": []
    },
    {
      "cell_type": "code",
      "metadata": {
        "id": "tuRFnx4ksJP9",
        "colab_type": "code",
        "colab": {
          "base_uri": "https://localhost:8080/",
          "height": 34
        },
        "outputId": "6228e74a-ba11-4c2e-fe7e-2b9f17aa55d0"
      },
      "source": [
        "# To check if cuda is available or not \n",
        "torch.cuda.is_available()"
      ],
      "execution_count": 2,
      "outputs": [
        {
          "output_type": "execute_result",
          "data": {
            "text/plain": [
              "True"
            ]
          },
          "metadata": {
            "tags": []
          },
          "execution_count": 2
        }
      ]
    },
    {
      "cell_type": "code",
      "metadata": {
        "id": "Kvs2HihesaZv",
        "colab_type": "code",
        "colab": {
          "base_uri": "https://localhost:8080/",
          "height": 34
        },
        "outputId": "f6bd6cfb-b84d-4902-8c91-5cf52c321b2f"
      },
      "source": [
        "# Lets check if Gpu/Cpu is working\n",
        "a = torch.tensor([1,2,3])\n",
        "a.device"
      ],
      "execution_count": 3,
      "outputs": [
        {
          "output_type": "execute_result",
          "data": {
            "text/plain": [
              "device(type='cpu')"
            ]
          },
          "metadata": {
            "tags": []
          },
          "execution_count": 3
        }
      ]
    },
    {
      "cell_type": "code",
      "metadata": {
        "id": "ib5uXskOtGQT",
        "colab_type": "code",
        "colab": {
          "base_uri": "https://localhost:8080/",
          "height": 34
        },
        "outputId": "656816f5-c98a-4f4b-c88f-63f8aa01f8b2"
      },
      "source": [
        "# Lets choose GPU as gpu is available on our system\n",
        "a = torch.tensor([1,2,3]).cuda()\n",
        "a.device"
      ],
      "execution_count": 4,
      "outputs": [
        {
          "output_type": "execute_result",
          "data": {
            "text/plain": [
              "device(type='cuda', index=0)"
            ]
          },
          "metadata": {
            "tags": []
          },
          "execution_count": 4
        }
      ]
    },
    {
      "cell_type": "markdown",
      "metadata": {
        "id": "Cy-5NTqNtk83",
        "colab_type": "text"
      },
      "source": [
        "- Above, we have seen that GPU should be used for larger data as it is vary fast as compared to CPU. \n",
        "- Moreover, if we want to use gpu in our code then we simply have to check whether it is available or not.\n",
        "- If it is available, then the complete code can be shifted to the GPU by using cuda() function."
      ]
    },
    {
      "cell_type": "markdown",
      "metadata": {
        "id": "WOlipyUhuQ5z",
        "colab_type": "text"
      },
      "source": [
        "## Lets train a simple regression problem on GPU for complete understanding."
      ]
    },
    {
      "cell_type": "markdown",
      "metadata": {
        "id": "E58BT-2kEXdP",
        "colab_type": "text"
      },
      "source": [
        "## 1) Importing the libraries"
      ]
    },
    {
      "cell_type": "code",
      "metadata": {
        "id": "8NQLH4qZDr6Y",
        "colab_type": "code",
        "colab": {}
      },
      "source": [
        "import numpy as np\n",
        "import matplotlib.pyplot as plt\n",
        "import pandas as pd\n",
        "import torch\n",
        "import torch.nn as nn"
      ],
      "execution_count": 0,
      "outputs": []
    },
    {
      "cell_type": "markdown",
      "metadata": {
        "id": "d_N9eINiEcMT",
        "colab_type": "text"
      },
      "source": [
        "## 2) Creating a simple dataset"
      ]
    },
    {
      "cell_type": "code",
      "metadata": {
        "id": "RsHUydgUD_5T",
        "colab_type": "code",
        "colab": {}
      },
      "source": [
        "# Feature\n",
        "X = torch.linspace(1,1000,1000).reshape(-1,1)\n",
        "\n",
        "#adding some noise to label\n",
        "noise = np.random.randint(-5,5,size = 1000).reshape(-1,1)\n",
        "y = 5*X + noise\n"
      ],
      "execution_count": 0,
      "outputs": []
    },
    {
      "cell_type": "markdown",
      "metadata": {
        "id": "ntp941gOxlJ9",
        "colab_type": "text"
      },
      "source": [
        "### 2.1) Sending everything to cuda"
      ]
    },
    {
      "cell_type": "code",
      "metadata": {
        "id": "dypYNYRtxkpk",
        "colab_type": "code",
        "colab": {
          "base_uri": "https://localhost:8080/",
          "height": 119
        },
        "outputId": "cbc2c850-f349-4628-ef9d-104f285e2fac"
      },
      "source": [
        "X = X.cuda()\n",
        "y = y.cuda()\n",
        "\n",
        "len(X), len(y), type(X), type(y), X.shape, y.shape"
      ],
      "execution_count": 7,
      "outputs": [
        {
          "output_type": "execute_result",
          "data": {
            "text/plain": [
              "(1000,\n",
              " 1000,\n",
              " torch.Tensor,\n",
              " torch.Tensor,\n",
              " torch.Size([1000, 1]),\n",
              " torch.Size([1000, 1]))"
            ]
          },
          "metadata": {
            "tags": []
          },
          "execution_count": 7
        }
      ]
    },
    {
      "cell_type": "markdown",
      "metadata": {
        "id": "_cgL0oPzIpRj",
        "colab_type": "text"
      },
      "source": [
        "## 3) Dividing the data into train and test data"
      ]
    },
    {
      "cell_type": "code",
      "metadata": {
        "id": "eYq5hxrbEtNm",
        "colab_type": "code",
        "outputId": "899e6371-b028-41d9-a4f0-7e5a553e9e18",
        "colab": {
          "base_uri": "https://localhost:8080/",
          "height": 34
        }
      },
      "source": [
        "# we will be using our 90% data as train set and the remaining data as test set\n",
        "train_size = 0.9 \n",
        "s = int(len(X)*0.9)\n",
        "X_train = X[:s]\n",
        "X_test = X[s:]\n",
        "y_train = y[:s]\n",
        "y_test = y[s:]\n",
        "\n",
        "len(X_train), len(X_test), len(y_train), len(y_test)"
      ],
      "execution_count": 8,
      "outputs": [
        {
          "output_type": "execute_result",
          "data": {
            "text/plain": [
              "(900, 100, 900, 100)"
            ]
          },
          "metadata": {
            "tags": []
          },
          "execution_count": 8
        }
      ]
    },
    {
      "cell_type": "markdown",
      "metadata": {
        "id": "OKZozUmlJ8Si",
        "colab_type": "text"
      },
      "source": [
        "## 4) Defining the ANN model"
      ]
    },
    {
      "cell_type": "code",
      "metadata": {
        "id": "TaylFAbeJotp",
        "colab_type": "code",
        "colab": {}
      },
      "source": [
        "class ANN(nn.Module):\n",
        "  def __init__(self,in_features,out_features,hidden_dim):\n",
        "    super().__init__()\n",
        "\n",
        "    self.in_features = in_features\n",
        "    self.out_features = out_features\n",
        "    \n",
        "    # Our model :   Input layer ----> Output\n",
        "\n",
        "    self.fc1 = nn.Linear(self.in_features,hidden_dim)\n",
        "    self.fc2 = nn.Linear(hidden_dim,self.out_features)\n",
        "\n",
        "  def forward(self,X):\n",
        "    X = self.fc1(X)\n",
        "    y_pred = self.fc2(X)\n",
        "    return y_pred\n",
        "    "
      ],
      "execution_count": 0,
      "outputs": []
    },
    {
      "cell_type": "markdown",
      "metadata": {
        "id": "AuxT_tWuMPk_",
        "colab_type": "text"
      },
      "source": [
        "## 5) Instantiating the model and shifting it to cuda"
      ]
    },
    {
      "cell_type": "code",
      "metadata": {
        "id": "QPxuxjKTMGht",
        "colab_type": "code",
        "colab": {}
      },
      "source": [
        "model = ANN(1,1,256)\n",
        "gpu_model = model.cuda()  #shifting everything to cuda"
      ],
      "execution_count": 0,
      "outputs": []
    },
    {
      "cell_type": "markdown",
      "metadata": {
        "id": "T1WL5IGbMlMz",
        "colab_type": "text"
      },
      "source": [
        "## 6) Training the model\n"
      ]
    },
    {
      "cell_type": "markdown",
      "metadata": {
        "id": "e8BbGMerNSFN",
        "colab_type": "text"
      },
      "source": [
        " Defining the loss function and the optimizer"
      ]
    },
    {
      "cell_type": "code",
      "metadata": {
        "id": "p-KrTJkoNaxz",
        "colab_type": "code",
        "colab": {}
      },
      "source": [
        "criterion = nn.MSELoss()\n",
        "optimizer = torch.optim.Adam(model.parameters(),lr=0.001)"
      ],
      "execution_count": 0,
      "outputs": []
    },
    {
      "cell_type": "code",
      "metadata": {
        "id": "cCA-yrq_MjUQ",
        "colab_type": "code",
        "outputId": "0b974a46-d305-4fd2-b741-047d694092dc",
        "colab": {
          "base_uri": "https://localhost:8080/",
          "height": 204
        }
      },
      "source": [
        "# Training\n",
        "import time\n",
        "epochs = 1000\n",
        "losses = []\n",
        "start = time.time()\n",
        "\n",
        "for i in range(epochs):\n",
        "  i+=1\n",
        "\n",
        "  #Predicting the output by GPU model\n",
        "  y_pred = gpu_model.forward(X_train)\n",
        "\n",
        "  #calculating the loss\n",
        "  loss = criterion(y_train,y_pred)\n",
        "\n",
        "  losses.append(loss)\n",
        "\n",
        "  if i%100 == 0:\n",
        "    print(f'Epoch : {i}    Loss : {loss.item()}')\n",
        "\n",
        "  # Making the gradients zero for backward propagation\n",
        "  optimizer.zero_grad()\n",
        "\n",
        "  # Backward Propagation\n",
        "  loss.backward()\n",
        "  \n",
        "  optimizer.step()\n",
        "\n",
        "print(f'Total Time Taken : {time.time() - start}')"
      ],
      "execution_count": 13,
      "outputs": [
        {
          "output_type": "stream",
          "text": [
            "Epoch : 100    Loss : 10.151750240584576\n",
            "Epoch : 200    Loss : 8.603925081145166\n",
            "Epoch : 300    Loss : 8.599301297444434\n",
            "Epoch : 400    Loss : 8.598555799416289\n",
            "Epoch : 500    Loss : 8.597654133960711\n",
            "Epoch : 600    Loss : 8.596733868775367\n",
            "Epoch : 700    Loss : 8.595638967824314\n",
            "Epoch : 800    Loss : 8.594439600305547\n",
            "Epoch : 900    Loss : 8.593136252451325\n",
            "Epoch : 1000    Loss : 8.591808041591257\n",
            "Total Time Taken : 1.6404380798339844\n"
          ],
          "name": "stdout"
        }
      ]
    },
    {
      "cell_type": "markdown",
      "metadata": {
        "id": "ASGBCqQtXzwV",
        "colab_type": "text"
      },
      "source": [
        "## 7) Plotting the curve between loss and epochs"
      ]
    },
    {
      "cell_type": "code",
      "metadata": {
        "id": "aXpcjU8VO6hG",
        "colab_type": "code",
        "outputId": "0413d93e-e186-4eb3-d337-d1234e1485ee",
        "colab": {
          "base_uri": "https://localhost:8080/",
          "height": 307
        }
      },
      "source": [
        "plt.plot(range(epochs),losses)\n",
        "plt.xlabel('Epochs')\n",
        "plt.ylabel('Losses')"
      ],
      "execution_count": 14,
      "outputs": [
        {
          "output_type": "execute_result",
          "data": {
            "text/plain": [
              "Text(0, 0.5, 'Losses')"
            ]
          },
          "metadata": {
            "tags": []
          },
          "execution_count": 14
        },
        {
          "output_type": "display_data",
          "data": {
            "image/png": "[encoded data removed]",
            "text/plain": [
              "<Figure size 432x288 with 1 Axes>"
            ]
          },
          "metadata": {
            "tags": [],
            "needs_background": "light"
          }
        }
      ]
    },
    {
      "cell_type": "markdown",
      "metadata": {
        "id": "zMbitRKmYzdJ",
        "colab_type": "text"
      },
      "source": [
        "## 8) Predicting the output for test data"
      ]
    },
    {
      "cell_type": "code",
      "metadata": {
        "id": "92clA3bdYFsV",
        "colab_type": "code",
        "outputId": "37c5deb4-f7c7-4f0e-d346-771d4e01f177",
        "colab": {
          "base_uri": "https://localhost:8080/",
          "height": 51
        }
      },
      "source": [
        "print(model.parameters())\n",
        "print(gpu_model.parameters())"
      ],
      "execution_count": 15,
      "outputs": [
        {
          "output_type": "stream",
          "text": [
            "<generator object Module.parameters at 0x7fd2b1c6c0f8>\n",
            "<generator object Module.parameters at 0x7fd2b1c6c0f8>\n"
          ],
          "name": "stdout"
        }
      ]
    },
    {
      "cell_type": "code",
      "metadata": {
        "id": "Ua_vLVHtY_HY",
        "colab_type": "code",
        "outputId": "163fea9f-7eb7-4e4f-8bcc-a3c762348156",
        "colab": {
          "base_uri": "https://localhost:8080/",
          "height": 34
        }
      },
      "source": [
        "#Predicting the output\n",
        "with torch.no_grad():\n",
        "  y_p = gpu_model(X_test)\n",
        "\n",
        "  loss = criterion(y_test,y_p)\n",
        "\n",
        "  print(f'Loss : {loss.item()}')"
      ],
      "execution_count": 16,
      "outputs": [
        {
          "output_type": "stream",
          "text": [
            "Loss : 9.350973156296313\n"
          ],
          "name": "stdout"
        }
      ]
    },
    {
      "cell_type": "markdown",
      "metadata": {
        "id": "TuXH3MyewiXb",
        "colab_type": "text"
      },
      "source": [
        "- To plot a graph between the predicted and the test data, we can't directly plot the graphs as GPU does not support Numpy.\n",
        "- So,first we have to come out of gpu to plot the graph using cpu() and then convert the pytorch tensor to numpy and after that we can plot it."
      ]
    },
    {
      "cell_type": "code",
      "metadata": {
        "id": "o8V1ccKyZDMs",
        "colab_type": "code",
        "outputId": "f5dff9a4-5988-4682-a98e-60bfdbadf19c",
        "colab": {
          "base_uri": "https://localhost:8080/",
          "height": 282
        }
      },
      "source": [
        "plt.plot(y_test.cpu().numpy(),'r')\n",
        "plt.plot(y_p.cpu().numpy(),'b')"
      ],
      "execution_count": 17,
      "outputs": [
        {
          "output_type": "execute_result",
          "data": {
            "text/plain": [
              "[<matplotlib.lines.Line2D at 0x7fd2b1c79ba8>]"
            ]
          },
          "metadata": {
            "tags": []
          },
          "execution_count": 17
        },
        {
          "output_type": "display_data",
          "data": {
            "image/png": "[encoded data removed]",
            "text/plain": [
              "<Figure size 432x288 with 1 Axes>"
            ]
          },
          "metadata": {
            "tags": [],
            "needs_background": "light"
          }
        }
      ]
    },
    {
      "cell_type": "code",
      "metadata": {
        "id": "KFRsG6f5aLX6",
        "colab_type": "code",
        "outputId": "03a13c7a-e429-4974-bf29-e1fcbc2e4d4c",
        "colab": {
          "base_uri": "https://localhost:8080/",
          "height": 419
        }
      },
      "source": [
        "df = pd.DataFrame(y_test.cpu().numpy().reshape(1,-1).flatten())\n",
        "df[\"Predicted\"] = y_p.cpu().numpy().reshape(1,-1).flatten()\n",
        "df.rename(columns= {0:'Actual'},inplace = True)\n",
        "df"
      ],
      "execution_count": 18,
      "outputs": [
        {
          "output_type": "execute_result",
          "data": {
            "text/html": [
              "<div>\n",
              "<style scoped>\n",
              "    .dataframe tbody tr th:only-of-type {\n",
              "        vertical-align: middle;\n",
              "    }\n",
              "\n",
              "    .dataframe tbody tr th {\n",
              "        vertical-align: top;\n",
              "    }\n",
              "\n",
              "    .dataframe thead th {\n",
              "        text-align: right;\n",
              "    }\n",
              "</style>\n",
              "<table border=\"1\" class=\"dataframe\">\n",
              "  <thead>\n",
              "    <tr style=\"text-align: right;\">\n",
              "      <th></th>\n",
              "      <th>Actual</th>\n",
              "      <th>Predicted</th>\n",
              "    </tr>\n",
              "  </thead>\n",
              "  <tbody>\n",
              "    <tr>\n",
              "      <th>0</th>\n",
              "      <td>4501.0</td>\n",
              "      <td>4503.610352</td>\n",
              "    </tr>\n",
              "    <tr>\n",
              "      <th>1</th>\n",
              "      <td>4508.0</td>\n",
              "      <td>4508.607910</td>\n",
              "    </tr>\n",
              "    <tr>\n",
              "      <th>2</th>\n",
              "      <td>4518.0</td>\n",
              "      <td>4513.605469</td>\n",
              "    </tr>\n",
              "    <tr>\n",
              "      <th>3</th>\n",
              "      <td>4523.0</td>\n",
              "      <td>4518.603027</td>\n",
              "    </tr>\n",
              "    <tr>\n",
              "      <th>4</th>\n",
              "      <td>4523.0</td>\n",
              "      <td>4523.600586</td>\n",
              "    </tr>\n",
              "    <tr>\n",
              "      <th>...</th>\n",
              "      <td>...</td>\n",
              "      <td>...</td>\n",
              "    </tr>\n",
              "    <tr>\n",
              "      <th>95</th>\n",
              "      <td>4975.0</td>\n",
              "      <td>4978.374023</td>\n",
              "    </tr>\n",
              "    <tr>\n",
              "      <th>96</th>\n",
              "      <td>4985.0</td>\n",
              "      <td>4983.371094</td>\n",
              "    </tr>\n",
              "    <tr>\n",
              "      <th>97</th>\n",
              "      <td>4994.0</td>\n",
              "      <td>4988.369141</td>\n",
              "    </tr>\n",
              "    <tr>\n",
              "      <th>98</th>\n",
              "      <td>4998.0</td>\n",
              "      <td>4993.366211</td>\n",
              "    </tr>\n",
              "    <tr>\n",
              "      <th>99</th>\n",
              "      <td>5003.0</td>\n",
              "      <td>4998.363770</td>\n",
              "    </tr>\n",
              "  </tbody>\n",
              "</table>\n",
              "<p>100 rows × 2 columns</p>\n",
              "</div>"
            ],
            "text/plain": [
              "    Actual    Predicted\n",
              "0   4501.0  4503.610352\n",
              "1   4508.0  4508.607910\n",
              "2   4518.0  4513.605469\n",
              "3   4523.0  4518.603027\n",
              "4   4523.0  4523.600586\n",
              "..     ...          ...\n",
              "95  4975.0  4978.374023\n",
              "96  4985.0  4983.371094\n",
              "97  4994.0  4988.369141\n",
              "98  4998.0  4993.366211\n",
              "99  5003.0  4998.363770\n",
              "\n",
              "[100 rows x 2 columns]"
            ]
          },
          "metadata": {
            "tags": []
          },
          "execution_count": 18
        }
      ]
    },
    {
      "cell_type": "code",
      "metadata": {
        "id": "skGqikYiajd8",
        "colab_type": "code",
        "colab": {}
      },
      "source": [
        ""
      ],
      "execution_count": 0,
      "outputs": []
    }
  ]
}