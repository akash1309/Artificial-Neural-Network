{
  "nbformat": 4,
  "nbformat_minor": 0,
  "metadata": {
    "colab": {
      "name": "MultiClass Classification .ipynb",
      "provenance": [],
      "toc_visible": true,
      "mount_file_id": "136IJLMHE6R85vE4hkMaR17c2QRTEL8Cr",
      "authorship_tag": "ABX9TyOmbWgsM+ITd8McXYy+YLrc"
    },
    "kernelspec": {
      "name": "python3",
      "display_name": "Python 3"
    },
    "accelerator": "GPU"
  },
  "cells": [
    {
      "cell_type": "markdown",
      "metadata": {
        "id": "iJLcW6fsVD3P",
        "colab_type": "text"
      },
      "source": [
        "# MultiClass Classification"
      ]
    },
    {
      "cell_type": "markdown",
      "metadata": {
        "id": "jPk_JZIsVKQw",
        "colab_type": "text"
      },
      "source": [
        "## 1) Importing the libraries"
      ]
    },
    {
      "cell_type": "code",
      "metadata": {
        "id": "7B3biU2rTlzy",
        "colab_type": "code",
        "colab": {}
      },
      "source": [
        "import numpy as np\n",
        "import pandas as pd\n",
        "import matplotlib.pyplot as plt\n",
        "import torch\n",
        "import torch.nn as nn\n",
        "import torch.nn.functional as F"
      ],
      "execution_count": 0,
      "outputs": []
    },
    {
      "cell_type": "markdown",
      "metadata": {
        "id": "2xl65EBuVaHD",
        "colab_type": "text"
      },
      "source": [
        "## 2) Checking for GPU"
      ]
    },
    {
      "cell_type": "code",
      "metadata": {
        "id": "6A0Ym1CNVYWN",
        "colab_type": "code",
        "outputId": "f5298e8f-d70d-409c-8c5e-4233132e5320",
        "colab": {
          "base_uri": "https://localhost:8080/",
          "height": 34
        }
      },
      "source": [
        "torch.cuda.is_available()"
      ],
      "execution_count": 2,
      "outputs": [
        {
          "output_type": "execute_result",
          "data": {
            "text/plain": [
              "True"
            ]
          },
          "metadata": {
            "tags": []
          },
          "execution_count": 2
        }
      ]
    },
    {
      "cell_type": "markdown",
      "metadata": {
        "id": "nq-JcQZEVriu",
        "colab_type": "text"
      },
      "source": [
        "## 3) Data Preprocessing"
      ]
    },
    {
      "cell_type": "code",
      "metadata": {
        "id": "i0srjbCVVe4x",
        "colab_type": "code",
        "outputId": "3768f9b0-c9d2-46f7-c576-30660d244166",
        "colab": {
          "base_uri": "https://localhost:8080/",
          "height": 238
        }
      },
      "source": [
        "df = pd.read_csv('drive/My Drive/Pytorch_DataSet/winequality-red.csv')\n",
        "df.head()"
      ],
      "execution_count": 3,
      "outputs": [
        {
          "output_type": "execute_result",
          "data": {
            "text/html": [
              "<div>\n",
              "<style scoped>\n",
              "    .dataframe tbody tr th:only-of-type {\n",
              "        vertical-align: middle;\n",
              "    }\n",
              "\n",
              "    .dataframe tbody tr th {\n",
              "        vertical-align: top;\n",
              "    }\n",
              "\n",
              "    .dataframe thead th {\n",
              "        text-align: right;\n",
              "    }\n",
              "</style>\n",
              "<table border=\"1\" class=\"dataframe\">\n",
              "  <thead>\n",
              "    <tr style=\"text-align: right;\">\n",
              "      <th></th>\n",
              "      <th>fixed acidity</th>\n",
              "      <th>volatile acidity</th>\n",
              "      <th>citric acid</th>\n",
              "      <th>residual sugar</th>\n",
              "      <th>chlorides</th>\n",
              "      <th>free sulfur dioxide</th>\n",
              "      <th>total sulfur dioxide</th>\n",
              "      <th>density</th>\n",
              "      <th>pH</th>\n",
              "      <th>sulphates</th>\n",
              "      <th>alcohol</th>\n",
              "      <th>quality</th>\n",
              "    </tr>\n",
              "  </thead>\n",
              "  <tbody>\n",
              "    <tr>\n",
              "      <th>0</th>\n",
              "      <td>7.4</td>\n",
              "      <td>0.70</td>\n",
              "      <td>0.00</td>\n",
              "      <td>1.9</td>\n",
              "      <td>0.076</td>\n",
              "      <td>11.0</td>\n",
              "      <td>34.0</td>\n",
              "      <td>0.9978</td>\n",
              "      <td>3.51</td>\n",
              "      <td>0.56</td>\n",
              "      <td>9.4</td>\n",
              "      <td>5</td>\n",
              "    </tr>\n",
              "    <tr>\n",
              "      <th>1</th>\n",
              "      <td>7.8</td>\n",
              "      <td>0.88</td>\n",
              "      <td>0.00</td>\n",
              "      <td>2.6</td>\n",
              "      <td>0.098</td>\n",
              "      <td>25.0</td>\n",
              "      <td>67.0</td>\n",
              "      <td>0.9968</td>\n",
              "      <td>3.20</td>\n",
              "      <td>0.68</td>\n",
              "      <td>9.8</td>\n",
              "      <td>5</td>\n",
              "    </tr>\n",
              "    <tr>\n",
              "      <th>2</th>\n",
              "      <td>7.8</td>\n",
              "      <td>0.76</td>\n",
              "      <td>0.04</td>\n",
              "      <td>2.3</td>\n",
              "      <td>0.092</td>\n",
              "      <td>15.0</td>\n",
              "      <td>54.0</td>\n",
              "      <td>0.9970</td>\n",
              "      <td>3.26</td>\n",
              "      <td>0.65</td>\n",
              "      <td>9.8</td>\n",
              "      <td>5</td>\n",
              "    </tr>\n",
              "    <tr>\n",
              "      <th>3</th>\n",
              "      <td>11.2</td>\n",
              "      <td>0.28</td>\n",
              "      <td>0.56</td>\n",
              "      <td>1.9</td>\n",
              "      <td>0.075</td>\n",
              "      <td>17.0</td>\n",
              "      <td>60.0</td>\n",
              "      <td>0.9980</td>\n",
              "      <td>3.16</td>\n",
              "      <td>0.58</td>\n",
              "      <td>9.8</td>\n",
              "      <td>6</td>\n",
              "    </tr>\n",
              "    <tr>\n",
              "      <th>4</th>\n",
              "      <td>7.4</td>\n",
              "      <td>0.70</td>\n",
              "      <td>0.00</td>\n",
              "      <td>1.9</td>\n",
              "      <td>0.076</td>\n",
              "      <td>11.0</td>\n",
              "      <td>34.0</td>\n",
              "      <td>0.9978</td>\n",
              "      <td>3.51</td>\n",
              "      <td>0.56</td>\n",
              "      <td>9.4</td>\n",
              "      <td>5</td>\n",
              "    </tr>\n",
              "  </tbody>\n",
              "</table>\n",
              "</div>"
            ],
            "text/plain": [
              "   fixed acidity  volatile acidity  citric acid  ...  sulphates  alcohol  quality\n",
              "0            7.4              0.70         0.00  ...       0.56      9.4        5\n",
              "1            7.8              0.88         0.00  ...       0.68      9.8        5\n",
              "2            7.8              0.76         0.04  ...       0.65      9.8        5\n",
              "3           11.2              0.28         0.56  ...       0.58      9.8        6\n",
              "4            7.4              0.70         0.00  ...       0.56      9.4        5\n",
              "\n",
              "[5 rows x 12 columns]"
            ]
          },
          "metadata": {
            "tags": []
          },
          "execution_count": 3
        }
      ]
    },
    {
      "cell_type": "code",
      "metadata": {
        "id": "Vq8s4gIMV1og",
        "colab_type": "code",
        "outputId": "de1988a0-37a1-4146-8743-0b943833c3f8",
        "colab": {
          "base_uri": "https://localhost:8080/",
          "height": 238
        }
      },
      "source": [
        "#Checking for null values in the columns\n",
        "\n",
        "df.isnull().sum()"
      ],
      "execution_count": 4,
      "outputs": [
        {
          "output_type": "execute_result",
          "data": {
            "text/plain": [
              "fixed acidity           0\n",
              "volatile acidity        0\n",
              "citric acid             0\n",
              "residual sugar          0\n",
              "chlorides               0\n",
              "free sulfur dioxide     0\n",
              "total sulfur dioxide    0\n",
              "density                 0\n",
              "pH                      0\n",
              "sulphates               0\n",
              "alcohol                 0\n",
              "quality                 0\n",
              "dtype: int64"
            ]
          },
          "metadata": {
            "tags": []
          },
          "execution_count": 4
        }
      ]
    },
    {
      "cell_type": "code",
      "metadata": {
        "id": "I4z4YsnHV7Br",
        "colab_type": "code",
        "outputId": "8d4984f5-be3a-449c-a216-4b560ae8c95f",
        "colab": {
          "base_uri": "https://localhost:8080/",
          "height": 340
        }
      },
      "source": [
        "# Checking the datatype of each column\n",
        "\n",
        "df.info()"
      ],
      "execution_count": 5,
      "outputs": [
        {
          "output_type": "stream",
          "text": [
            "<class 'pandas.core.frame.DataFrame'>\n",
            "RangeIndex: 1599 entries, 0 to 1598\n",
            "Data columns (total 12 columns):\n",
            " #   Column                Non-Null Count  Dtype  \n",
            "---  ------                --------------  -----  \n",
            " 0   fixed acidity         1599 non-null   float64\n",
            " 1   volatile acidity      1599 non-null   float64\n",
            " 2   citric acid           1599 non-null   float64\n",
            " 3   residual sugar        1599 non-null   float64\n",
            " 4   chlorides             1599 non-null   float64\n",
            " 5   free sulfur dioxide   1599 non-null   float64\n",
            " 6   total sulfur dioxide  1599 non-null   float64\n",
            " 7   density               1599 non-null   float64\n",
            " 8   pH                    1599 non-null   float64\n",
            " 9   sulphates             1599 non-null   float64\n",
            " 10  alcohol               1599 non-null   float64\n",
            " 11  quality               1599 non-null   int64  \n",
            "dtypes: float64(11), int64(1)\n",
            "memory usage: 150.0 KB\n"
          ],
          "name": "stdout"
        }
      ]
    },
    {
      "cell_type": "markdown",
      "metadata": {
        "id": "vP9rRBE_WKeU",
        "colab_type": "text"
      },
      "source": [
        "## 4) Splitting the dataset into features and labels"
      ]
    },
    {
      "cell_type": "code",
      "metadata": {
        "id": "fLeOL33WWGC4",
        "colab_type": "code",
        "outputId": "90d3fe4f-4173-46e2-c6a8-bf8353f88b69",
        "colab": {
          "base_uri": "https://localhost:8080/",
          "height": 221
        }
      },
      "source": [
        "X = df.drop('quality',axis = 1)\n",
        "y = df['quality']\n",
        "X.head()"
      ],
      "execution_count": 6,
      "outputs": [
        {
          "output_type": "execute_result",
          "data": {
            "text/html": [
              "<div>\n",
              "<style scoped>\n",
              "    .dataframe tbody tr th:only-of-type {\n",
              "        vertical-align: middle;\n",
              "    }\n",
              "\n",
              "    .dataframe tbody tr th {\n",
              "        vertical-align: top;\n",
              "    }\n",
              "\n",
              "    .dataframe thead th {\n",
              "        text-align: right;\n",
              "    }\n",
              "</style>\n",
              "<table border=\"1\" class=\"dataframe\">\n",
              "  <thead>\n",
              "    <tr style=\"text-align: right;\">\n",
              "      <th></th>\n",
              "      <th>fixed acidity</th>\n",
              "      <th>volatile acidity</th>\n",
              "      <th>citric acid</th>\n",
              "      <th>residual sugar</th>\n",
              "      <th>chlorides</th>\n",
              "      <th>free sulfur dioxide</th>\n",
              "      <th>total sulfur dioxide</th>\n",
              "      <th>density</th>\n",
              "      <th>pH</th>\n",
              "      <th>sulphates</th>\n",
              "      <th>alcohol</th>\n",
              "    </tr>\n",
              "  </thead>\n",
              "  <tbody>\n",
              "    <tr>\n",
              "      <th>0</th>\n",
              "      <td>7.4</td>\n",
              "      <td>0.70</td>\n",
              "      <td>0.00</td>\n",
              "      <td>1.9</td>\n",
              "      <td>0.076</td>\n",
              "      <td>11.0</td>\n",
              "      <td>34.0</td>\n",
              "      <td>0.9978</td>\n",
              "      <td>3.51</td>\n",
              "      <td>0.56</td>\n",
              "      <td>9.4</td>\n",
              "    </tr>\n",
              "    <tr>\n",
              "      <th>1</th>\n",
              "      <td>7.8</td>\n",
              "      <td>0.88</td>\n",
              "      <td>0.00</td>\n",
              "      <td>2.6</td>\n",
              "      <td>0.098</td>\n",
              "      <td>25.0</td>\n",
              "      <td>67.0</td>\n",
              "      <td>0.9968</td>\n",
              "      <td>3.20</td>\n",
              "      <td>0.68</td>\n",
              "      <td>9.8</td>\n",
              "    </tr>\n",
              "    <tr>\n",
              "      <th>2</th>\n",
              "      <td>7.8</td>\n",
              "      <td>0.76</td>\n",
              "      <td>0.04</td>\n",
              "      <td>2.3</td>\n",
              "      <td>0.092</td>\n",
              "      <td>15.0</td>\n",
              "      <td>54.0</td>\n",
              "      <td>0.9970</td>\n",
              "      <td>3.26</td>\n",
              "      <td>0.65</td>\n",
              "      <td>9.8</td>\n",
              "    </tr>\n",
              "    <tr>\n",
              "      <th>3</th>\n",
              "      <td>11.2</td>\n",
              "      <td>0.28</td>\n",
              "      <td>0.56</td>\n",
              "      <td>1.9</td>\n",
              "      <td>0.075</td>\n",
              "      <td>17.0</td>\n",
              "      <td>60.0</td>\n",
              "      <td>0.9980</td>\n",
              "      <td>3.16</td>\n",
              "      <td>0.58</td>\n",
              "      <td>9.8</td>\n",
              "    </tr>\n",
              "    <tr>\n",
              "      <th>4</th>\n",
              "      <td>7.4</td>\n",
              "      <td>0.70</td>\n",
              "      <td>0.00</td>\n",
              "      <td>1.9</td>\n",
              "      <td>0.076</td>\n",
              "      <td>11.0</td>\n",
              "      <td>34.0</td>\n",
              "      <td>0.9978</td>\n",
              "      <td>3.51</td>\n",
              "      <td>0.56</td>\n",
              "      <td>9.4</td>\n",
              "    </tr>\n",
              "  </tbody>\n",
              "</table>\n",
              "</div>"
            ],
            "text/plain": [
              "   fixed acidity  volatile acidity  citric acid  ...    pH  sulphates  alcohol\n",
              "0            7.4              0.70         0.00  ...  3.51       0.56      9.4\n",
              "1            7.8              0.88         0.00  ...  3.20       0.68      9.8\n",
              "2            7.8              0.76         0.04  ...  3.26       0.65      9.8\n",
              "3           11.2              0.28         0.56  ...  3.16       0.58      9.8\n",
              "4            7.4              0.70         0.00  ...  3.51       0.56      9.4\n",
              "\n",
              "[5 rows x 11 columns]"
            ]
          },
          "metadata": {
            "tags": []
          },
          "execution_count": 6
        }
      ]
    },
    {
      "cell_type": "code",
      "metadata": {
        "id": "OCHM7eivWyjM",
        "colab_type": "code",
        "outputId": "eed13f0f-aef2-48aa-9329-d709ee64d080",
        "colab": {
          "base_uri": "https://localhost:8080/",
          "height": 221
        }
      },
      "source": [
        "y"
      ],
      "execution_count": 7,
      "outputs": [
        {
          "output_type": "execute_result",
          "data": {
            "text/plain": [
              "0       5\n",
              "1       5\n",
              "2       5\n",
              "3       6\n",
              "4       5\n",
              "       ..\n",
              "1594    5\n",
              "1595    6\n",
              "1596    6\n",
              "1597    5\n",
              "1598    6\n",
              "Name: quality, Length: 1599, dtype: int64"
            ]
          },
          "metadata": {
            "tags": []
          },
          "execution_count": 7
        }
      ]
    },
    {
      "cell_type": "markdown",
      "metadata": {
        "id": "cSwK846jXQmS",
        "colab_type": "text"
      },
      "source": [
        "## 5) Conversion into train,val and test set"
      ]
    },
    {
      "cell_type": "code",
      "metadata": {
        "id": "NNQYlS_YW1vy",
        "colab_type": "code",
        "outputId": "6c0901c0-d053-4d8e-ef5b-d7e9dcd6893c",
        "colab": {
          "base_uri": "https://localhost:8080/",
          "height": 34
        }
      },
      "source": [
        "len(X), len(y)"
      ],
      "execution_count": 8,
      "outputs": [
        {
          "output_type": "execute_result",
          "data": {
            "text/plain": [
              "(1599, 1599)"
            ]
          },
          "metadata": {
            "tags": []
          },
          "execution_count": 8
        }
      ]
    },
    {
      "cell_type": "code",
      "metadata": {
        "id": "RNUeY69qedwC",
        "colab_type": "code",
        "outputId": "d2e9763f-44aa-4e43-c6e6-d72e82f0b68b",
        "colab": {
          "base_uri": "https://localhost:8080/",
          "height": 34
        }
      },
      "source": [
        "y.max(), y.min()"
      ],
      "execution_count": 9,
      "outputs": [
        {
          "output_type": "execute_result",
          "data": {
            "text/plain": [
              "(8, 3)"
            ]
          },
          "metadata": {
            "tags": []
          },
          "execution_count": 9
        }
      ]
    },
    {
      "cell_type": "markdown",
      "metadata": {
        "id": "NTZNWN4rNHZz",
        "colab_type": "text"
      },
      "source": [
        ""
      ]
    },
    {
      "cell_type": "code",
      "metadata": {
        "id": "OctGmE_CfHQz",
        "colab_type": "code",
        "outputId": "30b32d48-8458-472b-b74f-2880f35e372b",
        "colab": {
          "base_uri": "https://localhost:8080/",
          "height": 34
        }
      },
      "source": [
        "X = torch.tensor(X.values,dtype=torch.float)\n",
        "y = torch.LongTensor(y).reshape(-1,1)           # For softmax function, the label should be of Long Type\n",
        "\n",
        "# As the value of y lies in range [3,8] and softmax function takes continous class input.\n",
        "# So,first convert this in continous range i.e [0,n-1] ---> Here [0,5]\n",
        "y = y - 3       #Corrected class = 0 to N-1 = 0 to 6-1(5)\n",
        "\n",
        "X = X.cuda()\n",
        "y = y.cuda()\n",
        "type(X), type(y), y.dtype"
      ],
      "execution_count": 10,
      "outputs": [
        {
          "output_type": "execute_result",
          "data": {
            "text/plain": [
              "(torch.Tensor, torch.Tensor, torch.int64)"
            ]
          },
          "metadata": {
            "tags": []
          },
          "execution_count": 10
        }
      ]
    },
    {
      "cell_type": "code",
      "metadata": {
        "id": "s-YZ_AtQemhz",
        "colab_type": "code",
        "outputId": "7181fe7f-cb66-4db5-b374-08d529349e47",
        "colab": {
          "base_uri": "https://localhost:8080/",
          "height": 136
        }
      },
      "source": [
        "y.min(), y.max() , y"
      ],
      "execution_count": 11,
      "outputs": [
        {
          "output_type": "execute_result",
          "data": {
            "text/plain": [
              "(tensor(0, device='cuda:0'), tensor(5, device='cuda:0'), tensor([[2],\n",
              "         [2],\n",
              "         [2],\n",
              "         ...,\n",
              "         [3],\n",
              "         [2],\n",
              "         [3]], device='cuda:0'))"
            ]
          },
          "metadata": {
            "tags": []
          },
          "execution_count": 11
        }
      ]
    },
    {
      "cell_type": "code",
      "metadata": {
        "id": "D7lSxgRTYd1R",
        "colab_type": "code",
        "outputId": "77ccef36-2ba8-4d70-84b4-a325d85c396e",
        "colab": {
          "base_uri": "https://localhost:8080/",
          "height": 136
        }
      },
      "source": [
        "# we will take 80% as training data,val data, and test data\n",
        "size = int(0.8*len(X)) \n",
        "val = int(0.1*len(X))\n",
        "X_train, X_val, X_test = X[:size], X[size:size+val], X[size+val:] \n",
        "y_train, y_val, y_test = y[:size], y[size:size+val], y[size+val:] \n",
        "y_train.size(), y_train.dtype , y_train"
      ],
      "execution_count": 12,
      "outputs": [
        {
          "output_type": "execute_result",
          "data": {
            "text/plain": [
              "(torch.Size([1279, 1]), torch.int64, tensor([[2],\n",
              "         [2],\n",
              "         [2],\n",
              "         ...,\n",
              "         [1],\n",
              "         [3],\n",
              "         [3]], device='cuda:0'))"
            ]
          },
          "metadata": {
            "tags": []
          },
          "execution_count": 12
        }
      ]
    },
    {
      "cell_type": "markdown",
      "metadata": {
        "id": "6LsizCPV7cVI",
        "colab_type": "text"
      },
      "source": [
        "## 6) Building the model"
      ]
    },
    {
      "cell_type": "code",
      "metadata": {
        "id": "d0dPfu0Ifqrb",
        "colab_type": "code",
        "colab": {}
      },
      "source": [
        "class ANN(nn.Module):\n",
        "  \n",
        "  def __init__(self,in_features,out_features,layers,p=0.4):\n",
        "\n",
        "    super().__init__()\n",
        "    \n",
        "    self.bn_cont = nn.BatchNorm1d(in_features)\n",
        "    self.softmax = nn.Softmax(dim=0)\n",
        "\n",
        "    layerlist = []\n",
        "    tracker = 0\n",
        "    n_in = in_features\n",
        "    for i in layers:\n",
        "      layerlist.append(nn.Linear(n_in,i))\n",
        "      layerlist.append(nn.ReLU(inplace=True))\n",
        "      if tracker < 2:\n",
        "        layerlist.append(nn.BatchNorm1d(i))\n",
        "      layerlist.append(nn.Dropout(p))\n",
        "      n_in = i\n",
        "      tracker += 1\n",
        "\n",
        "    layerlist.append(nn.Linear(layers[-1],out_features))      \n",
        "    self.layers = nn.Sequential(*layerlist) \n",
        "\n",
        "  def forward(self,x):\n",
        "\n",
        "    x = self.bn_cont(x)\n",
        "    x = self.layers(x)\n",
        "    x = self.softmax(x)\n",
        "    return x"
      ],
      "execution_count": 0,
      "outputs": []
    },
    {
      "cell_type": "markdown",
      "metadata": {
        "id": "AIISTC1s_Dq4",
        "colab_type": "text"
      },
      "source": [
        "## 7) Initialising the model"
      ]
    },
    {
      "cell_type": "code",
      "metadata": {
        "id": "ZEKjK_BY-_tC",
        "colab_type": "code",
        "outputId": "c0f8a747-faea-48ad-846d-3ab4a247a54e",
        "colab": {
          "base_uri": "https://localhost:8080/",
          "height": 323
        }
      },
      "source": [
        "model = ANN(X_train.shape[1],6,[400,300,200],p=0.3)\n",
        "model"
      ],
      "execution_count": 14,
      "outputs": [
        {
          "output_type": "execute_result",
          "data": {
            "text/plain": [
              "ANN(\n",
              "  (bn_cont): BatchNorm1d(11, eps=1e-05, momentum=0.1, affine=True, track_running_stats=True)\n",
              "  (softmax): Softmax(dim=0)\n",
              "  (layers): Sequential(\n",
              "    (0): Linear(in_features=11, out_features=400, bias=True)\n",
              "    (1): ReLU(inplace=True)\n",
              "    (2): BatchNorm1d(400, eps=1e-05, momentum=0.1, affine=True, track_running_stats=True)\n",
              "    (3): Dropout(p=0.3, inplace=False)\n",
              "    (4): Linear(in_features=400, out_features=300, bias=True)\n",
              "    (5): ReLU(inplace=True)\n",
              "    (6): BatchNorm1d(300, eps=1e-05, momentum=0.1, affine=True, track_running_stats=True)\n",
              "    (7): Dropout(p=0.3, inplace=False)\n",
              "    (8): Linear(in_features=300, out_features=200, bias=True)\n",
              "    (9): ReLU(inplace=True)\n",
              "    (10): Dropout(p=0.3, inplace=False)\n",
              "    (11): Linear(in_features=200, out_features=6, bias=True)\n",
              "  )\n",
              ")"
            ]
          },
          "metadata": {
            "tags": []
          },
          "execution_count": 14
        }
      ]
    },
    {
      "cell_type": "code",
      "metadata": {
        "id": "9rIsVfnT_Sjq",
        "colab_type": "code",
        "colab": {}
      },
      "source": [
        "model = model.cuda() "
      ],
      "execution_count": 0,
      "outputs": []
    },
    {
      "cell_type": "markdown",
      "metadata": {
        "id": "WA_1G-wm_dRs",
        "colab_type": "text"
      },
      "source": [
        "## 8) Defining the Loss function and Optimizer"
      ]
    },
    {
      "cell_type": "code",
      "metadata": {
        "id": "-y0dQHOL_b_u",
        "colab_type": "code",
        "colab": {}
      },
      "source": [
        "criterion = nn.CrossEntropyLoss()\n",
        "optimizer = torch.optim.Adam(model.parameters(),lr=0.001)"
      ],
      "execution_count": 0,
      "outputs": []
    },
    {
      "cell_type": "markdown",
      "metadata": {
        "id": "DdvJD2K9_yFl",
        "colab_type": "text"
      },
      "source": [
        "## 9) Training the model"
      ]
    },
    {
      "cell_type": "code",
      "metadata": {
        "id": "sUni06qAi5w1",
        "colab_type": "code",
        "outputId": "94908960-29b3-4416-ae5e-c50056d9cb7d",
        "colab": {
          "base_uri": "https://localhost:8080/",
          "height": 34
        }
      },
      "source": [
        "y_train = y_train.flatten()\n",
        "y_val = y_val.flatten()\n",
        "y_train.size(), y_val.size(), y_train.dtype"
      ],
      "execution_count": 17,
      "outputs": [
        {
          "output_type": "execute_result",
          "data": {
            "text/plain": [
              "(torch.Size([1279]), torch.Size([159]), torch.int64)"
            ]
          },
          "metadata": {
            "tags": []
          },
          "execution_count": 17
        }
      ]
    },
    {
      "cell_type": "code",
      "metadata": {
        "id": "bsjKR6C9_xKV",
        "colab_type": "code",
        "outputId": "bcb4094e-81bf-4fc8-943d-1e1a78472bfb",
        "colab": {
          "base_uri": "https://localhost:8080/",
          "height": 204
        }
      },
      "source": [
        "epochs = 1001\n",
        "losses = []\n",
        "\n",
        "model.train()\n",
        "for i in range(epochs):\n",
        "  y_pred = model(X_train)\n",
        "  #print(y_train.size(),y_pred.size(),y_train.dtype, y_pred.dtype)\n",
        "\n",
        "  loss = criterion(y_pred,y_train)   #It should always be (predicted output,actual output,)\n",
        "\n",
        "  losses.append(loss.item())\n",
        "\n",
        "  if i%100 == 0:\n",
        "    model.eval()\n",
        "    val_y = model(X_val)\n",
        "    losse = criterion(val_y,y_val)\n",
        "    print(f'Epoch : {i}  Loss: {losse.item()}')\n",
        "    model.train()\n",
        "\n",
        "  optimizer.zero_grad()\n",
        "  loss.backward()\n",
        "  optimizer.step()\n"
      ],
      "execution_count": 18,
      "outputs": [
        {
          "output_type": "stream",
          "text": [
            "Epoch : 0  Loss: 1.7917526960372925\n",
            "Epoch : 100  Loss: 1.7805254459381104\n",
            "Epoch : 200  Loss: 1.7885749340057373\n",
            "Epoch : 300  Loss: 1.7904877662658691\n",
            "Epoch : 400  Loss: 1.785763144493103\n",
            "Epoch : 500  Loss: 1.787887454032898\n",
            "Epoch : 600  Loss: 1.78823983669281\n",
            "Epoch : 700  Loss: 1.7883707284927368\n",
            "Epoch : 800  Loss: 1.787732720375061\n",
            "Epoch : 900  Loss: 1.7880293130874634\n",
            "Epoch : 1000  Loss: 1.787436604499817\n"
          ],
          "name": "stdout"
        }
      ]
    },
    {
      "cell_type": "markdown",
      "metadata": {
        "id": "U2ICFwmccCWF",
        "colab_type": "text"
      },
      "source": [
        "## 10) Plotting the graph between epochs and loss "
      ]
    },
    {
      "cell_type": "code",
      "metadata": {
        "id": "z45g_IG_Au3w",
        "colab_type": "code",
        "colab": {
          "base_uri": "https://localhost:8080/",
          "height": 282
        },
        "outputId": "2fcdbf1d-8fb1-4736-c062-8722224ce203"
      },
      "source": [
        "plt.plot(range(epochs),losses)"
      ],
      "execution_count": 19,
      "outputs": [
        {
          "output_type": "execute_result",
          "data": {
            "text/plain": [
              "[<matplotlib.lines.Line2D at 0x7f8ec0779438>]"
            ]
          },
          "metadata": {
            "tags": []
          },
          "execution_count": 19
        },
        {
          "output_type": "display_data",
          "data": {
            "image/png": "[encoded data removed]",
            "text/plain": [
              "<Figure size 432x288 with 1 Axes>"
            ]
          },
          "metadata": {
            "tags": [],
            "needs_background": "light"
          }
        }
      ]
    },
    {
      "cell_type": "markdown",
      "metadata": {
        "id": "mMRJbQ4scKuN",
        "colab_type": "text"
      },
      "source": [
        "## 11) Predicting the output"
      ]
    },
    {
      "cell_type": "code",
      "metadata": {
        "id": "1fEiz-40W6kQ",
        "colab_type": "code",
        "colab": {
          "base_uri": "https://localhost:8080/",
          "height": 34
        },
        "outputId": "96c98c0e-3782-40e2-d4d0-578e36eaacae"
      },
      "source": [
        "y_test = y_test.flatten()\n",
        "with torch.no_grad():\n",
        "  model.eval()\n",
        "  y_pred_test = model(X_test)\n",
        "  loss = criterion(y_pred_test,y_test)\n",
        "\n",
        "print(f'Loss : {loss.item()}')  "
      ],
      "execution_count": 20,
      "outputs": [
        {
          "output_type": "stream",
          "text": [
            "Loss : 1.7891032695770264\n"
          ],
          "name": "stdout"
        }
      ]
    },
    {
      "cell_type": "code",
      "metadata": {
        "id": "ODmFktt0X2AP",
        "colab_type": "code",
        "colab": {
          "base_uri": "https://localhost:8080/",
          "height": 221
        },
        "outputId": "5391999c-769e-4500-cddd-18dd85b86fcd"
      },
      "source": [
        "y_pred_test.shape, y_pred_test[:10]"
      ],
      "execution_count": 21,
      "outputs": [
        {
          "output_type": "execute_result",
          "data": {
            "text/plain": [
              "(torch.Size([161, 6]),\n",
              " tensor([[4.9283e-07, 3.5246e-04, 1.3130e-07, 3.1752e-09, 5.0326e-05, 1.2952e-09],\n",
              "         [1.3103e-07, 6.9498e-06, 1.9139e-08, 1.5791e-02, 9.3696e-04, 2.0234e-08],\n",
              "         [9.0455e-08, 1.1554e-06, 1.3122e-08, 2.2916e-06, 5.0446e-03, 2.0234e-07],\n",
              "         [6.8152e-08, 6.5457e-06, 2.6402e-06, 3.0107e-07, 1.9167e-03, 1.1138e-08],\n",
              "         [6.6710e-08, 1.0542e-04, 4.2074e-08, 2.0371e-05, 3.4112e-04, 4.2800e-08],\n",
              "         [4.8274e-08, 1.5004e-04, 2.7840e-09, 3.6138e-02, 8.5610e-04, 1.2952e-06],\n",
              "         [1.2964e-07, 6.7041e-06, 1.7775e-08, 1.6503e-02, 9.4323e-04, 2.0519e-08],\n",
              "         [6.8850e-08, 6.3632e-06, 2.4161e-06, 3.0706e-07, 1.9781e-03, 1.1422e-08],\n",
              "         [6.6710e-08, 1.0542e-04, 4.2074e-08, 2.0371e-05, 3.4112e-04, 4.2800e-08],\n",
              "         [3.0860e-08, 3.1639e-04, 4.6927e-08, 3.6903e-05, 2.4470e-04, 2.3753e-08]],\n",
              "        device='cuda:0'))"
            ]
          },
          "metadata": {
            "tags": []
          },
          "execution_count": 21
        }
      ]
    },
    {
      "cell_type": "code",
      "metadata": {
        "id": "bFSHbVyxZMJj",
        "colab_type": "code",
        "colab": {
          "base_uri": "https://localhost:8080/",
          "height": 153
        },
        "outputId": "1945b3d7-9a72-4f26-bca9-c4a6bb164955"
      },
      "source": [
        "values, indices = torch.max(y_pred_test, 1)\n",
        "indices.dtype, indices"
      ],
      "execution_count": 22,
      "outputs": [
        {
          "output_type": "execute_result",
          "data": {
            "text/plain": [
              "(torch.int64,\n",
              " tensor([1, 3, 4, 4, 4, 3, 3, 4, 4, 1, 1, 4, 4, 4, 3, 1, 4, 1, 1, 1, 4, 4, 3, 0,\n",
              "         4, 4, 1, 1, 4, 0, 4, 1, 1, 4, 4, 3, 4, 4, 4, 4, 4, 4, 1, 4, 4, 4, 1, 1,\n",
              "         1, 4, 0, 4, 4, 0, 1, 2, 1, 4, 2, 4, 0, 4, 1, 4, 4, 4, 4, 1, 4, 4, 4, 4,\n",
              "         4, 1, 1, 1, 0, 0, 4, 3, 4, 1, 3, 1, 4, 3, 4, 4, 4, 4, 4, 1, 4, 0, 4, 1,\n",
              "         4, 1, 1, 1, 4, 4, 4, 4, 1, 4, 4, 1, 4, 3, 4, 4, 1, 1, 4, 1, 0, 4, 1, 0,\n",
              "         2, 2, 2, 2, 1, 1, 1, 3, 4, 1, 1, 3, 5, 4, 2, 5, 4, 4, 4, 4, 5, 1, 4, 1,\n",
              "         0, 4, 4, 4, 4, 1, 4, 4, 3, 1, 3, 3, 1, 3, 3, 1, 4], device='cuda:0'))"
            ]
          },
          "metadata": {
            "tags": []
          },
          "execution_count": 22
        }
      ]
    },
    {
      "cell_type": "code",
      "metadata": {
        "id": "IU4eqE7kaVfV",
        "colab_type": "code",
        "colab": {}
      },
      "source": [
        "y_test = y_test.cpu().numpy()\n",
        "indices = indices.cpu().numpy()"
      ],
      "execution_count": 0,
      "outputs": []
    },
    {
      "cell_type": "code",
      "metadata": {
        "id": "ZG4cBRU2ZtLM",
        "colab_type": "code",
        "colab": {
          "base_uri": "https://localhost:8080/",
          "height": 170
        },
        "outputId": "3851c968-aa04-47a2-8dbe-d212ea767386"
      },
      "source": [
        "indices = indices + 3\n",
        "from sklearn.metrics import confusion_matrix\n",
        "c = confusion_matrix(indices,y_test)\n",
        "c"
      ],
      "execution_count": 24,
      "outputs": [
        {
          "output_type": "execute_result",
          "data": {
            "text/plain": [
              "array([[ 0,  0,  0,  0,  0,  0,  0,  0,  0],\n",
              "       [ 0,  0,  0,  0,  0,  0,  0,  0,  0],\n",
              "       [ 0,  0,  0,  0,  0,  0,  0,  0,  0],\n",
              "       [ 0,  2,  4,  5,  0,  0,  0,  0,  0],\n",
              "       [ 2,  3, 28, 12,  1,  0,  0,  0,  0],\n",
              "       [ 0,  0,  7,  0,  0,  0,  0,  0,  0],\n",
              "       [ 0,  0,  4, 12,  1,  0,  0,  0,  0],\n",
              "       [ 1,  1, 23, 37, 13,  2,  0,  0,  0],\n",
              "       [ 0,  0,  0,  3,  0,  0,  0,  0,  0]])"
            ]
          },
          "metadata": {
            "tags": []
          },
          "execution_count": 24
        }
      ]
    },
    {
      "cell_type": "code",
      "metadata": {
        "id": "huBKf5KRaSku",
        "colab_type": "code",
        "colab": {
          "base_uri": "https://localhost:8080/",
          "height": 187
        },
        "outputId": "e24e52a8-4ff9-4aff-a338-c80113ea99b6"
      },
      "source": [
        "print(y_test)\n",
        "print(indices)"
      ],
      "execution_count": 25,
      "outputs": [
        {
          "output_type": "stream",
          "text": [
            "[2 3 4 3 2 2 3 3 2 2 2 5 4 4 4 2 3 3 3 2 2 4 3 1 3 3 2 2 4 1 4 0 2 2 3 2 2\n",
            " 4 2 4 0 2 1 2 1 2 1 2 2 2 2 3 3 2 2 2 4 3 2 3 3 3 2 2 2 3 3 0 3 3 3 2 3 2\n",
            " 3 3 3 3 2 3 2 2 3 1 2 2 3 2 3 3 3 3 3 2 3 2 4 3 3 3 2 2 3 4 3 3 4 3 2 2 2\n",
            " 5 2 2 3 2 3 4 2 3 2 2 2 2 2 2 2 3 3 2 2 3 3 3 2 3 3 3 3 3 3 2 3 2 2 2 4 3\n",
            " 3 3 3 2 3 3 3 3 2 3 3 2 3]\n",
            "[4 6 7 7 7 6 6 7 7 4 4 7 7 7 6 4 7 4 4 4 7 7 6 3 7 7 4 4 7 3 7 4 4 7 7 6 7\n",
            " 7 7 7 7 7 4 7 7 7 4 4 4 7 3 7 7 3 4 5 4 7 5 7 3 7 4 7 7 7 7 4 7 7 7 7 7 4\n",
            " 4 4 3 3 7 6 7 4 6 4 7 6 7 7 7 7 7 4 7 3 7 4 7 4 4 4 7 7 7 7 4 7 7 4 7 6 7\n",
            " 7 4 4 7 4 3 7 4 3 5 5 5 5 4 4 4 6 7 4 4 6 8 7 5 8 7 7 7 7 8 4 7 4 3 7 7 7\n",
            " 7 4 7 7 6 4 6 6 4 6 6 4 7]\n"
          ],
          "name": "stdout"
        }
      ]
    },
    {
      "cell_type": "markdown",
      "metadata": {
        "id": "LHW65G1vcQno",
        "colab_type": "text"
      },
      "source": [
        "## 12) Plotting the curve for output"
      ]
    },
    {
      "cell_type": "code",
      "metadata": {
        "id": "7JODgbiDa6gh",
        "colab_type": "code",
        "colab": {
          "base_uri": "https://localhost:8080/",
          "height": 282
        },
        "outputId": "331b37cd-b749-49c1-e5ed-54c4890b9333"
      },
      "source": [
        "plt.plot(y_test,'r',label='Actual')\n",
        "plt.plot(indices,'b',label='Predicted')\n",
        "plt.legend()"
      ],
      "execution_count": 26,
      "outputs": [
        {
          "output_type": "execute_result",
          "data": {
            "text/plain": [
              "<matplotlib.legend.Legend at 0x7f8e7ee5ccc0>"
            ]
          },
          "metadata": {
            "tags": []
          },
          "execution_count": 26
        },
        {
          "output_type": "display_data",
          "data": {
            "image/png": "[encoded data removed]",
            "text/plain": [
              "<Figure size 432x288 with 1 Axes>"
            ]
          },
          "metadata": {
            "tags": [],
            "needs_background": "light"
          }
        }
      ]
    },
    {
      "cell_type": "markdown",
      "metadata": {
        "id": "sCcVT7eLcZ9d",
        "colab_type": "text"
      },
      "source": [
        "<H1>Its efficiency can be increased by hyperparameter tuning</H1>\n",
        "\n",
        "Try changing:\n",
        "- No. Of epochs\n",
        "- No. of hidden layers\n",
        "- Learning rate\n",
        "- No. of hidden nodes in each layer\n",
        "- Normalization layers"
      ]
    },
    {
      "cell_type": "code",
      "metadata": {
        "id": "9BEj3S_Cb3Kx",
        "colab_type": "code",
        "colab": {}
      },
      "source": [
        ""
      ],
      "execution_count": 0,
      "outputs": []
    }
  ]
}