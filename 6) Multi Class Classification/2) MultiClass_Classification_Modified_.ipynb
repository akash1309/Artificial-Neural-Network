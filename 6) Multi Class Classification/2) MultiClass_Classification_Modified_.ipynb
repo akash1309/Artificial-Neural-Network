{
  "nbformat": 4,
  "nbformat_minor": 0,
  "metadata": {
    "colab": {
      "name": "MultiClass Classification Modified .ipynb",
      "provenance": [],
      "toc_visible": true,
      "mount_file_id": "136IJLMHE6R85vE4hkMaR17c2QRTEL8Cr",
      "authorship_tag": "ABX9TyMjySyj4Tg9jYXx2q9cVgbm"
    },
    "kernelspec": {
      "name": "python3",
      "display_name": "Python 3"
    },
    "accelerator": "GPU"
  },
  "cells": [
    {
      "cell_type": "markdown",
      "metadata": {
        "id": "iJLcW6fsVD3P",
        "colab_type": "text"
      },
      "source": [
        "# MultiClass Classification\n",
        "\n",
        "This code is modified in form such that it can run on both cpu and gpu. \n",
        "- If gpu is not there, it will work.\n",
        "- If gpu is there, then also it will work."
      ]
    },
    {
      "cell_type": "markdown",
      "metadata": {
        "id": "jPk_JZIsVKQw",
        "colab_type": "text"
      },
      "source": [
        "## 1) Importing the libraries"
      ]
    },
    {
      "cell_type": "code",
      "metadata": {
        "id": "7B3biU2rTlzy",
        "colab_type": "code",
        "colab": {}
      },
      "source": [
        "import numpy as np\n",
        "import pandas as pd\n",
        "import matplotlib.pyplot as plt\n",
        "import torch\n",
        "import torch.nn as nn\n",
        "import torch.nn.functional as F"
      ],
      "execution_count": 0,
      "outputs": []
    },
    {
      "cell_type": "markdown",
      "metadata": {
        "id": "2xl65EBuVaHD",
        "colab_type": "text"
      },
      "source": [
        "## 2) Checking for GPU"
      ]
    },
    {
      "cell_type": "code",
      "metadata": {
        "id": "6A0Ym1CNVYWN",
        "colab_type": "code",
        "outputId": "b25394ef-880c-4668-bbeb-90cc650303db",
        "colab": {
          "base_uri": "https://localhost:8080/",
          "height": 34
        }
      },
      "source": [
        "available = torch.cuda.is_available()\n",
        "available"
      ],
      "execution_count": 10,
      "outputs": [
        {
          "output_type": "execute_result",
          "data": {
            "text/plain": [
              "True"
            ]
          },
          "metadata": {
            "tags": []
          },
          "execution_count": 10
        }
      ]
    },
    {
      "cell_type": "markdown",
      "metadata": {
        "id": "nq-JcQZEVriu",
        "colab_type": "text"
      },
      "source": [
        "## 3) Data Preprocessing"
      ]
    },
    {
      "cell_type": "code",
      "metadata": {
        "id": "i0srjbCVVe4x",
        "colab_type": "code",
        "outputId": "4bd5133c-c4f4-413a-ecdf-6c5cae86330a",
        "colab": {
          "base_uri": "https://localhost:8080/",
          "height": 238
        }
      },
      "source": [
        "df = pd.read_csv('drive/My Drive/Pytorch_DataSet/winequality-red.csv')\n",
        "df.head()"
      ],
      "execution_count": 3,
      "outputs": [
        {
          "output_type": "execute_result",
          "data": {
            "text/html": [
              "<div>\n",
              "<style scoped>\n",
              "    .dataframe tbody tr th:only-of-type {\n",
              "        vertical-align: middle;\n",
              "    }\n",
              "\n",
              "    .dataframe tbody tr th {\n",
              "        vertical-align: top;\n",
              "    }\n",
              "\n",
              "    .dataframe thead th {\n",
              "        text-align: right;\n",
              "    }\n",
              "</style>\n",
              "<table border=\"1\" class=\"dataframe\">\n",
              "  <thead>\n",
              "    <tr style=\"text-align: right;\">\n",
              "      <th></th>\n",
              "      <th>fixed acidity</th>\n",
              "      <th>volatile acidity</th>\n",
              "      <th>citric acid</th>\n",
              "      <th>residual sugar</th>\n",
              "      <th>chlorides</th>\n",
              "      <th>free sulfur dioxide</th>\n",
              "      <th>total sulfur dioxide</th>\n",
              "      <th>density</th>\n",
              "      <th>pH</th>\n",
              "      <th>sulphates</th>\n",
              "      <th>alcohol</th>\n",
              "      <th>quality</th>\n",
              "    </tr>\n",
              "  </thead>\n",
              "  <tbody>\n",
              "    <tr>\n",
              "      <th>0</th>\n",
              "      <td>7.4</td>\n",
              "      <td>0.70</td>\n",
              "      <td>0.00</td>\n",
              "      <td>1.9</td>\n",
              "      <td>0.076</td>\n",
              "      <td>11.0</td>\n",
              "      <td>34.0</td>\n",
              "      <td>0.9978</td>\n",
              "      <td>3.51</td>\n",
              "      <td>0.56</td>\n",
              "      <td>9.4</td>\n",
              "      <td>5</td>\n",
              "    </tr>\n",
              "    <tr>\n",
              "      <th>1</th>\n",
              "      <td>7.8</td>\n",
              "      <td>0.88</td>\n",
              "      <td>0.00</td>\n",
              "      <td>2.6</td>\n",
              "      <td>0.098</td>\n",
              "      <td>25.0</td>\n",
              "      <td>67.0</td>\n",
              "      <td>0.9968</td>\n",
              "      <td>3.20</td>\n",
              "      <td>0.68</td>\n",
              "      <td>9.8</td>\n",
              "      <td>5</td>\n",
              "    </tr>\n",
              "    <tr>\n",
              "      <th>2</th>\n",
              "      <td>7.8</td>\n",
              "      <td>0.76</td>\n",
              "      <td>0.04</td>\n",
              "      <td>2.3</td>\n",
              "      <td>0.092</td>\n",
              "      <td>15.0</td>\n",
              "      <td>54.0</td>\n",
              "      <td>0.9970</td>\n",
              "      <td>3.26</td>\n",
              "      <td>0.65</td>\n",
              "      <td>9.8</td>\n",
              "      <td>5</td>\n",
              "    </tr>\n",
              "    <tr>\n",
              "      <th>3</th>\n",
              "      <td>11.2</td>\n",
              "      <td>0.28</td>\n",
              "      <td>0.56</td>\n",
              "      <td>1.9</td>\n",
              "      <td>0.075</td>\n",
              "      <td>17.0</td>\n",
              "      <td>60.0</td>\n",
              "      <td>0.9980</td>\n",
              "      <td>3.16</td>\n",
              "      <td>0.58</td>\n",
              "      <td>9.8</td>\n",
              "      <td>6</td>\n",
              "    </tr>\n",
              "    <tr>\n",
              "      <th>4</th>\n",
              "      <td>7.4</td>\n",
              "      <td>0.70</td>\n",
              "      <td>0.00</td>\n",
              "      <td>1.9</td>\n",
              "      <td>0.076</td>\n",
              "      <td>11.0</td>\n",
              "      <td>34.0</td>\n",
              "      <td>0.9978</td>\n",
              "      <td>3.51</td>\n",
              "      <td>0.56</td>\n",
              "      <td>9.4</td>\n",
              "      <td>5</td>\n",
              "    </tr>\n",
              "  </tbody>\n",
              "</table>\n",
              "</div>"
            ],
            "text/plain": [
              "   fixed acidity  volatile acidity  citric acid  ...  sulphates  alcohol  quality\n",
              "0            7.4              0.70         0.00  ...       0.56      9.4        5\n",
              "1            7.8              0.88         0.00  ...       0.68      9.8        5\n",
              "2            7.8              0.76         0.04  ...       0.65      9.8        5\n",
              "3           11.2              0.28         0.56  ...       0.58      9.8        6\n",
              "4            7.4              0.70         0.00  ...       0.56      9.4        5\n",
              "\n",
              "[5 rows x 12 columns]"
            ]
          },
          "metadata": {
            "tags": []
          },
          "execution_count": 3
        }
      ]
    },
    {
      "cell_type": "code",
      "metadata": {
        "id": "Vq8s4gIMV1og",
        "colab_type": "code",
        "outputId": "97a15d99-9bf5-4a0f-947b-039040dcb81f",
        "colab": {
          "base_uri": "https://localhost:8080/",
          "height": 238
        }
      },
      "source": [
        "#Checking for null values in the columns\n",
        "\n",
        "df.isnull().sum()"
      ],
      "execution_count": 4,
      "outputs": [
        {
          "output_type": "execute_result",
          "data": {
            "text/plain": [
              "fixed acidity           0\n",
              "volatile acidity        0\n",
              "citric acid             0\n",
              "residual sugar          0\n",
              "chlorides               0\n",
              "free sulfur dioxide     0\n",
              "total sulfur dioxide    0\n",
              "density                 0\n",
              "pH                      0\n",
              "sulphates               0\n",
              "alcohol                 0\n",
              "quality                 0\n",
              "dtype: int64"
            ]
          },
          "metadata": {
            "tags": []
          },
          "execution_count": 4
        }
      ]
    },
    {
      "cell_type": "code",
      "metadata": {
        "id": "I4z4YsnHV7Br",
        "colab_type": "code",
        "outputId": "b936c75c-f918-42de-9165-88ef189deb88",
        "colab": {
          "base_uri": "https://localhost:8080/",
          "height": 340
        }
      },
      "source": [
        "# Checking the datatype of each column\n",
        "\n",
        "df.info()"
      ],
      "execution_count": 5,
      "outputs": [
        {
          "output_type": "stream",
          "text": [
            "<class 'pandas.core.frame.DataFrame'>\n",
            "RangeIndex: 1599 entries, 0 to 1598\n",
            "Data columns (total 12 columns):\n",
            " #   Column                Non-Null Count  Dtype  \n",
            "---  ------                --------------  -----  \n",
            " 0   fixed acidity         1599 non-null   float64\n",
            " 1   volatile acidity      1599 non-null   float64\n",
            " 2   citric acid           1599 non-null   float64\n",
            " 3   residual sugar        1599 non-null   float64\n",
            " 4   chlorides             1599 non-null   float64\n",
            " 5   free sulfur dioxide   1599 non-null   float64\n",
            " 6   total sulfur dioxide  1599 non-null   float64\n",
            " 7   density               1599 non-null   float64\n",
            " 8   pH                    1599 non-null   float64\n",
            " 9   sulphates             1599 non-null   float64\n",
            " 10  alcohol               1599 non-null   float64\n",
            " 11  quality               1599 non-null   int64  \n",
            "dtypes: float64(11), int64(1)\n",
            "memory usage: 150.0 KB\n"
          ],
          "name": "stdout"
        }
      ]
    },
    {
      "cell_type": "markdown",
      "metadata": {
        "id": "vP9rRBE_WKeU",
        "colab_type": "text"
      },
      "source": [
        "## 4) Splitting the dataset into features and labels"
      ]
    },
    {
      "cell_type": "code",
      "metadata": {
        "id": "fLeOL33WWGC4",
        "colab_type": "code",
        "outputId": "a14342ac-9115-4dfe-98f9-4876b62cb0a8",
        "colab": {
          "base_uri": "https://localhost:8080/",
          "height": 221
        }
      },
      "source": [
        "X = df.drop('quality',axis = 1)\n",
        "y = df['quality']\n",
        "X.head()"
      ],
      "execution_count": 6,
      "outputs": [
        {
          "output_type": "execute_result",
          "data": {
            "text/html": [
              "<div>\n",
              "<style scoped>\n",
              "    .dataframe tbody tr th:only-of-type {\n",
              "        vertical-align: middle;\n",
              "    }\n",
              "\n",
              "    .dataframe tbody tr th {\n",
              "        vertical-align: top;\n",
              "    }\n",
              "\n",
              "    .dataframe thead th {\n",
              "        text-align: right;\n",
              "    }\n",
              "</style>\n",
              "<table border=\"1\" class=\"dataframe\">\n",
              "  <thead>\n",
              "    <tr style=\"text-align: right;\">\n",
              "      <th></th>\n",
              "      <th>fixed acidity</th>\n",
              "      <th>volatile acidity</th>\n",
              "      <th>citric acid</th>\n",
              "      <th>residual sugar</th>\n",
              "      <th>chlorides</th>\n",
              "      <th>free sulfur dioxide</th>\n",
              "      <th>total sulfur dioxide</th>\n",
              "      <th>density</th>\n",
              "      <th>pH</th>\n",
              "      <th>sulphates</th>\n",
              "      <th>alcohol</th>\n",
              "    </tr>\n",
              "  </thead>\n",
              "  <tbody>\n",
              "    <tr>\n",
              "      <th>0</th>\n",
              "      <td>7.4</td>\n",
              "      <td>0.70</td>\n",
              "      <td>0.00</td>\n",
              "      <td>1.9</td>\n",
              "      <td>0.076</td>\n",
              "      <td>11.0</td>\n",
              "      <td>34.0</td>\n",
              "      <td>0.9978</td>\n",
              "      <td>3.51</td>\n",
              "      <td>0.56</td>\n",
              "      <td>9.4</td>\n",
              "    </tr>\n",
              "    <tr>\n",
              "      <th>1</th>\n",
              "      <td>7.8</td>\n",
              "      <td>0.88</td>\n",
              "      <td>0.00</td>\n",
              "      <td>2.6</td>\n",
              "      <td>0.098</td>\n",
              "      <td>25.0</td>\n",
              "      <td>67.0</td>\n",
              "      <td>0.9968</td>\n",
              "      <td>3.20</td>\n",
              "      <td>0.68</td>\n",
              "      <td>9.8</td>\n",
              "    </tr>\n",
              "    <tr>\n",
              "      <th>2</th>\n",
              "      <td>7.8</td>\n",
              "      <td>0.76</td>\n",
              "      <td>0.04</td>\n",
              "      <td>2.3</td>\n",
              "      <td>0.092</td>\n",
              "      <td>15.0</td>\n",
              "      <td>54.0</td>\n",
              "      <td>0.9970</td>\n",
              "      <td>3.26</td>\n",
              "      <td>0.65</td>\n",
              "      <td>9.8</td>\n",
              "    </tr>\n",
              "    <tr>\n",
              "      <th>3</th>\n",
              "      <td>11.2</td>\n",
              "      <td>0.28</td>\n",
              "      <td>0.56</td>\n",
              "      <td>1.9</td>\n",
              "      <td>0.075</td>\n",
              "      <td>17.0</td>\n",
              "      <td>60.0</td>\n",
              "      <td>0.9980</td>\n",
              "      <td>3.16</td>\n",
              "      <td>0.58</td>\n",
              "      <td>9.8</td>\n",
              "    </tr>\n",
              "    <tr>\n",
              "      <th>4</th>\n",
              "      <td>7.4</td>\n",
              "      <td>0.70</td>\n",
              "      <td>0.00</td>\n",
              "      <td>1.9</td>\n",
              "      <td>0.076</td>\n",
              "      <td>11.0</td>\n",
              "      <td>34.0</td>\n",
              "      <td>0.9978</td>\n",
              "      <td>3.51</td>\n",
              "      <td>0.56</td>\n",
              "      <td>9.4</td>\n",
              "    </tr>\n",
              "  </tbody>\n",
              "</table>\n",
              "</div>"
            ],
            "text/plain": [
              "   fixed acidity  volatile acidity  citric acid  ...    pH  sulphates  alcohol\n",
              "0            7.4              0.70         0.00  ...  3.51       0.56      9.4\n",
              "1            7.8              0.88         0.00  ...  3.20       0.68      9.8\n",
              "2            7.8              0.76         0.04  ...  3.26       0.65      9.8\n",
              "3           11.2              0.28         0.56  ...  3.16       0.58      9.8\n",
              "4            7.4              0.70         0.00  ...  3.51       0.56      9.4\n",
              "\n",
              "[5 rows x 11 columns]"
            ]
          },
          "metadata": {
            "tags": []
          },
          "execution_count": 6
        }
      ]
    },
    {
      "cell_type": "code",
      "metadata": {
        "id": "OCHM7eivWyjM",
        "colab_type": "code",
        "outputId": "35d5c98f-f9c7-4687-af50-065153e3d7fb",
        "colab": {
          "base_uri": "https://localhost:8080/",
          "height": 221
        }
      },
      "source": [
        "y"
      ],
      "execution_count": 7,
      "outputs": [
        {
          "output_type": "execute_result",
          "data": {
            "text/plain": [
              "0       5\n",
              "1       5\n",
              "2       5\n",
              "3       6\n",
              "4       5\n",
              "       ..\n",
              "1594    5\n",
              "1595    6\n",
              "1596    6\n",
              "1597    5\n",
              "1598    6\n",
              "Name: quality, Length: 1599, dtype: int64"
            ]
          },
          "metadata": {
            "tags": []
          },
          "execution_count": 7
        }
      ]
    },
    {
      "cell_type": "markdown",
      "metadata": {
        "id": "cSwK846jXQmS",
        "colab_type": "text"
      },
      "source": [
        "## 5) Conversion into train,val and test set"
      ]
    },
    {
      "cell_type": "code",
      "metadata": {
        "id": "NNQYlS_YW1vy",
        "colab_type": "code",
        "outputId": "a8b4ac0b-c268-40c3-86ba-5f4696f4e5d8",
        "colab": {
          "base_uri": "https://localhost:8080/",
          "height": 34
        }
      },
      "source": [
        "len(X), len(y)"
      ],
      "execution_count": 8,
      "outputs": [
        {
          "output_type": "execute_result",
          "data": {
            "text/plain": [
              "(1599, 1599)"
            ]
          },
          "metadata": {
            "tags": []
          },
          "execution_count": 8
        }
      ]
    },
    {
      "cell_type": "code",
      "metadata": {
        "id": "RNUeY69qedwC",
        "colab_type": "code",
        "outputId": "e275d4e5-940c-497a-9859-09efea2fa238",
        "colab": {
          "base_uri": "https://localhost:8080/",
          "height": 34
        }
      },
      "source": [
        "y.max(), y.min()"
      ],
      "execution_count": 9,
      "outputs": [
        {
          "output_type": "execute_result",
          "data": {
            "text/plain": [
              "(8, 3)"
            ]
          },
          "metadata": {
            "tags": []
          },
          "execution_count": 9
        }
      ]
    },
    {
      "cell_type": "markdown",
      "metadata": {
        "id": "NTZNWN4rNHZz",
        "colab_type": "text"
      },
      "source": [
        ""
      ]
    },
    {
      "cell_type": "code",
      "metadata": {
        "id": "OctGmE_CfHQz",
        "colab_type": "code",
        "outputId": "b4594f36-bf18-464f-a99e-db1a7b242731",
        "colab": {
          "base_uri": "https://localhost:8080/",
          "height": 34
        }
      },
      "source": [
        "X = torch.tensor(X.values,dtype=torch.float)\n",
        "y = torch.LongTensor(y).reshape(-1,1)           # For softmax function, the label should be of Long Type\n",
        "\n",
        "# As the value of y lies in range [3,8] and softmax function takes continous class input.\n",
        "# So,first convert this in continous range i.e [0,n-1] ---> Here [0,5]\n",
        "y = y - 3       #Corrected class = 0 to N-1 = 0 to 6-1(5)\n",
        "\n",
        "if available == True:\n",
        "  X = X.cuda()\n",
        "  y = y.cuda()\n",
        "type(X), type(y), y.dtype"
      ],
      "execution_count": 11,
      "outputs": [
        {
          "output_type": "execute_result",
          "data": {
            "text/plain": [
              "(torch.Tensor, torch.Tensor, torch.int64)"
            ]
          },
          "metadata": {
            "tags": []
          },
          "execution_count": 11
        }
      ]
    },
    {
      "cell_type": "code",
      "metadata": {
        "id": "s-YZ_AtQemhz",
        "colab_type": "code",
        "outputId": "6802bc95-31b1-475f-ede7-88b78e4db17c",
        "colab": {
          "base_uri": "https://localhost:8080/",
          "height": 136
        }
      },
      "source": [
        "y.min(), y.max() , y"
      ],
      "execution_count": 12,
      "outputs": [
        {
          "output_type": "execute_result",
          "data": {
            "text/plain": [
              "(tensor(0, device='cuda:0'), tensor(5, device='cuda:0'), tensor([[2],\n",
              "         [2],\n",
              "         [2],\n",
              "         ...,\n",
              "         [3],\n",
              "         [2],\n",
              "         [3]], device='cuda:0'))"
            ]
          },
          "metadata": {
            "tags": []
          },
          "execution_count": 12
        }
      ]
    },
    {
      "cell_type": "code",
      "metadata": {
        "id": "D7lSxgRTYd1R",
        "colab_type": "code",
        "outputId": "6bcd8e5c-76e2-4b11-8e86-b66733799cdf",
        "colab": {
          "base_uri": "https://localhost:8080/",
          "height": 136
        }
      },
      "source": [
        "# we will take 80% as training data,val data, and test data\n",
        "size = int(0.8*len(X)) \n",
        "val = int(0.1*len(X))\n",
        "X_train, X_val, X_test = X[:size], X[size:size+val], X[size+val:] \n",
        "y_train, y_val, y_test = y[:size], y[size:size+val], y[size+val:] \n",
        "y_train.size(), y_train.dtype , y_train"
      ],
      "execution_count": 13,
      "outputs": [
        {
          "output_type": "execute_result",
          "data": {
            "text/plain": [
              "(torch.Size([1279, 1]), torch.int64, tensor([[2],\n",
              "         [2],\n",
              "         [2],\n",
              "         ...,\n",
              "         [1],\n",
              "         [3],\n",
              "         [3]], device='cuda:0'))"
            ]
          },
          "metadata": {
            "tags": []
          },
          "execution_count": 13
        }
      ]
    },
    {
      "cell_type": "markdown",
      "metadata": {
        "id": "6LsizCPV7cVI",
        "colab_type": "text"
      },
      "source": [
        "## 6) Building the model"
      ]
    },
    {
      "cell_type": "code",
      "metadata": {
        "id": "d0dPfu0Ifqrb",
        "colab_type": "code",
        "colab": {}
      },
      "source": [
        "class ANN(nn.Module):\n",
        "  \n",
        "  def __init__(self,in_features,out_features,layers,p=0.4):\n",
        "\n",
        "    super().__init__()\n",
        "    \n",
        "    self.bn_cont = nn.BatchNorm1d(in_features)\n",
        "    self.softmax = nn.Softmax(dim=0)\n",
        "\n",
        "    layerlist = []\n",
        "    tracker = 0\n",
        "    n_in = in_features\n",
        "    for i in layers:\n",
        "      layerlist.append(nn.Linear(n_in,i))\n",
        "      layerlist.append(nn.ReLU(inplace=True))\n",
        "      if tracker < 2:\n",
        "        layerlist.append(nn.BatchNorm1d(i))\n",
        "      layerlist.append(nn.Dropout(p))\n",
        "      n_in = i\n",
        "      tracker += 1\n",
        "\n",
        "    layerlist.append(nn.Linear(layers[-1],out_features))      \n",
        "    self.layers = nn.Sequential(*layerlist) \n",
        "\n",
        "  def forward(self,x):\n",
        "\n",
        "    x = self.bn_cont(x)\n",
        "    x = self.layers(x)\n",
        "    x = self.softmax(x)\n",
        "    return x"
      ],
      "execution_count": 0,
      "outputs": []
    },
    {
      "cell_type": "markdown",
      "metadata": {
        "id": "AIISTC1s_Dq4",
        "colab_type": "text"
      },
      "source": [
        "## 7) Initialising the model"
      ]
    },
    {
      "cell_type": "code",
      "metadata": {
        "id": "ZEKjK_BY-_tC",
        "colab_type": "code",
        "outputId": "be8494f2-c101-4680-d61e-19fc55e8fd51",
        "colab": {
          "base_uri": "https://localhost:8080/",
          "height": 323
        }
      },
      "source": [
        "model = ANN(X_train.shape[1],6,[400,300,200],p=0.3)\n",
        "model"
      ],
      "execution_count": 15,
      "outputs": [
        {
          "output_type": "execute_result",
          "data": {
            "text/plain": [
              "ANN(\n",
              "  (bn_cont): BatchNorm1d(11, eps=1e-05, momentum=0.1, affine=True, track_running_stats=True)\n",
              "  (softmax): Softmax(dim=0)\n",
              "  (layers): Sequential(\n",
              "    (0): Linear(in_features=11, out_features=400, bias=True)\n",
              "    (1): ReLU(inplace=True)\n",
              "    (2): BatchNorm1d(400, eps=1e-05, momentum=0.1, affine=True, track_running_stats=True)\n",
              "    (3): Dropout(p=0.3, inplace=False)\n",
              "    (4): Linear(in_features=400, out_features=300, bias=True)\n",
              "    (5): ReLU(inplace=True)\n",
              "    (6): BatchNorm1d(300, eps=1e-05, momentum=0.1, affine=True, track_running_stats=True)\n",
              "    (7): Dropout(p=0.3, inplace=False)\n",
              "    (8): Linear(in_features=300, out_features=200, bias=True)\n",
              "    (9): ReLU(inplace=True)\n",
              "    (10): Dropout(p=0.3, inplace=False)\n",
              "    (11): Linear(in_features=200, out_features=6, bias=True)\n",
              "  )\n",
              ")"
            ]
          },
          "metadata": {
            "tags": []
          },
          "execution_count": 15
        }
      ]
    },
    {
      "cell_type": "code",
      "metadata": {
        "id": "9rIsVfnT_Sjq",
        "colab_type": "code",
        "colab": {}
      },
      "source": [
        "if available == True:\n",
        "  model = model.cuda() "
      ],
      "execution_count": 0,
      "outputs": []
    },
    {
      "cell_type": "markdown",
      "metadata": {
        "id": "WA_1G-wm_dRs",
        "colab_type": "text"
      },
      "source": [
        "## 8) Defining the Loss function and Optimizer"
      ]
    },
    {
      "cell_type": "code",
      "metadata": {
        "id": "-y0dQHOL_b_u",
        "colab_type": "code",
        "colab": {}
      },
      "source": [
        "criterion = nn.CrossEntropyLoss()\n",
        "optimizer = torch.optim.Adam(model.parameters(),lr=0.001)"
      ],
      "execution_count": 0,
      "outputs": []
    },
    {
      "cell_type": "markdown",
      "metadata": {
        "id": "DdvJD2K9_yFl",
        "colab_type": "text"
      },
      "source": [
        "## 9) Training the model"
      ]
    },
    {
      "cell_type": "code",
      "metadata": {
        "id": "sUni06qAi5w1",
        "colab_type": "code",
        "outputId": "b92687ce-4300-4c3f-dcac-c4d844d5050d",
        "colab": {
          "base_uri": "https://localhost:8080/",
          "height": 34
        }
      },
      "source": [
        "y_train = y_train.flatten()\n",
        "y_val = y_val.flatten()\n",
        "y_train.size(), y_val.size(), y_train.dtype"
      ],
      "execution_count": 18,
      "outputs": [
        {
          "output_type": "execute_result",
          "data": {
            "text/plain": [
              "(torch.Size([1279]), torch.Size([159]), torch.int64)"
            ]
          },
          "metadata": {
            "tags": []
          },
          "execution_count": 18
        }
      ]
    },
    {
      "cell_type": "code",
      "metadata": {
        "id": "bsjKR6C9_xKV",
        "colab_type": "code",
        "outputId": "1ff1356b-ca55-4e01-ce08-59cab9f38546",
        "colab": {
          "base_uri": "https://localhost:8080/",
          "height": 204
        }
      },
      "source": [
        "epochs = 1001\n",
        "losses = []\n",
        "\n",
        "model.train()\n",
        "for i in range(epochs):\n",
        "  y_pred = model(X_train)\n",
        "  #print(y_train.size(),y_pred.size(),y_train.dtype, y_pred.dtype)\n",
        "\n",
        "  loss = criterion(y_pred,y_train)   #It should always be (predicted output,actual output,)\n",
        "\n",
        "  losses.append(loss.item())\n",
        "\n",
        "  if i%100 == 0:\n",
        "    model.eval()\n",
        "    val_y = model(X_val)\n",
        "    losse = criterion(val_y,y_val)\n",
        "    print(f'Epoch : {i}  Loss: {losse.item()}')\n",
        "    model.train()\n",
        "\n",
        "  optimizer.zero_grad()\n",
        "  loss.backward()\n",
        "  optimizer.step()\n"
      ],
      "execution_count": 19,
      "outputs": [
        {
          "output_type": "stream",
          "text": [
            "Epoch : 0  Loss: 1.791773796081543\n",
            "Epoch : 100  Loss: 1.7859041690826416\n",
            "Epoch : 200  Loss: 1.791727900505066\n",
            "Epoch : 300  Loss: 1.787855863571167\n",
            "Epoch : 400  Loss: 1.7879897356033325\n",
            "Epoch : 500  Loss: 1.788687825202942\n",
            "Epoch : 600  Loss: 1.7888457775115967\n",
            "Epoch : 700  Loss: 1.7864835262298584\n",
            "Epoch : 800  Loss: 1.7880955934524536\n",
            "Epoch : 900  Loss: 1.7881066799163818\n",
            "Epoch : 1000  Loss: 1.7882643938064575\n"
          ],
          "name": "stdout"
        }
      ]
    },
    {
      "cell_type": "markdown",
      "metadata": {
        "id": "U2ICFwmccCWF",
        "colab_type": "text"
      },
      "source": [
        "## 10) Plotting the graph between epochs and loss "
      ]
    },
    {
      "cell_type": "code",
      "metadata": {
        "id": "z45g_IG_Au3w",
        "colab_type": "code",
        "outputId": "31d20da3-418f-4286-fb31-db32292f3b75",
        "colab": {
          "base_uri": "https://localhost:8080/",
          "height": 282
        }
      },
      "source": [
        "plt.plot(range(epochs),losses)"
      ],
      "execution_count": 20,
      "outputs": [
        {
          "output_type": "execute_result",
          "data": {
            "text/plain": [
              "[<matplotlib.lines.Line2D at 0x7f7486216a58>]"
            ]
          },
          "metadata": {
            "tags": []
          },
          "execution_count": 20
        },
        {
          "output_type": "display_data",
          "data": {
            "image/png": "[encoded data removed]",
            "text/plain": [
              "<Figure size 432x288 with 1 Axes>"
            ]
          },
          "metadata": {
            "tags": [],
            "needs_background": "light"
          }
        }
      ]
    },
    {
      "cell_type": "markdown",
      "metadata": {
        "id": "mMRJbQ4scKuN",
        "colab_type": "text"
      },
      "source": [
        "## 11) Predicting the output"
      ]
    },
    {
      "cell_type": "code",
      "metadata": {
        "id": "1fEiz-40W6kQ",
        "colab_type": "code",
        "outputId": "5ad7660b-a246-40ea-d977-19fc55ee8b5c",
        "colab": {
          "base_uri": "https://localhost:8080/",
          "height": 34
        }
      },
      "source": [
        "y_test = y_test.flatten()\n",
        "with torch.no_grad():\n",
        "  model.eval()\n",
        "  y_pred_test = model(X_test)\n",
        "  loss = criterion(y_pred_test,y_test)\n",
        "\n",
        "print(f'Loss : {loss.item()}')  "
      ],
      "execution_count": 21,
      "outputs": [
        {
          "output_type": "stream",
          "text": [
            "Loss : 1.7795076370239258\n"
          ],
          "name": "stdout"
        }
      ]
    },
    {
      "cell_type": "code",
      "metadata": {
        "id": "ODmFktt0X2AP",
        "colab_type": "code",
        "outputId": "946fdb28-69af-4477-d17a-7f08add2d9f5",
        "colab": {
          "base_uri": "https://localhost:8080/",
          "height": 221
        }
      },
      "source": [
        "y_pred_test.shape, y_pred_test[:10]"
      ],
      "execution_count": 22,
      "outputs": [
        {
          "output_type": "execute_result",
          "data": {
            "text/plain": [
              "(torch.Size([161, 6]),\n",
              " tensor([[4.8436e-05, 3.2684e-03, 1.2449e-07, 5.2476e-07, 1.1265e-07, 1.7138e-11],\n",
              "         [2.1318e-05, 1.8524e-05, 1.2201e-07, 4.2337e-04, 5.8047e-08, 1.2484e-10],\n",
              "         [2.7018e-05, 4.2324e-06, 3.2961e-09, 2.5477e-06, 5.6757e-06, 1.8311e-10],\n",
              "         [6.2925e-06, 1.7505e-05, 1.8696e-05, 1.3280e-08, 5.2430e-08, 2.7587e-10],\n",
              "         [1.3248e-05, 2.0936e-06, 1.6339e-10, 5.2527e-07, 1.4492e-08, 2.0646e-11],\n",
              "         [1.9925e-05, 1.8444e-04, 3.0397e-09, 5.3621e-01, 9.9886e-08, 5.3431e-09],\n",
              "         [2.1892e-05, 1.8956e-05, 1.2472e-07, 4.9564e-04, 6.1737e-08, 1.3487e-10],\n",
              "         [6.2540e-06, 1.6488e-05, 1.6540e-05, 1.3700e-08, 4.8370e-08, 2.8365e-10],\n",
              "         [1.3248e-05, 2.0936e-06, 1.6339e-10, 5.2527e-07, 1.4492e-08, 2.0646e-11],\n",
              "         [1.4112e-05, 6.1023e-06, 7.1223e-10, 1.6654e-06, 1.5368e-08, 2.9244e-11]],\n",
              "        device='cuda:0'))"
            ]
          },
          "metadata": {
            "tags": []
          },
          "execution_count": 22
        }
      ]
    },
    {
      "cell_type": "code",
      "metadata": {
        "id": "bFSHbVyxZMJj",
        "colab_type": "code",
        "outputId": "9dadb380-d9df-4bd1-f9dd-6d0d9b85d1ba",
        "colab": {
          "base_uri": "https://localhost:8080/",
          "height": 153
        }
      },
      "source": [
        "values, indices = torch.max(y_pred_test, 1)\n",
        "indices.dtype, indices"
      ],
      "execution_count": 23,
      "outputs": [
        {
          "output_type": "execute_result",
          "data": {
            "text/plain": [
              "(torch.int64,\n",
              " tensor([1, 3, 0, 2, 0, 3, 3, 2, 0, 0, 1, 0, 0, 4, 3, 1, 0, 1, 1, 1, 0, 4, 0, 1,\n",
              "         1, 3, 1, 1, 0, 1, 0, 1, 1, 0, 0, 3, 1, 5, 1, 5, 0, 0, 1, 0, 1, 1, 1, 1,\n",
              "         1, 0, 1, 0, 0, 1, 3, 2, 0, 0, 2, 0, 1, 0, 1, 1, 0, 0, 0, 1, 1, 0, 0, 4,\n",
              "         0, 0, 1, 3, 0, 0, 0, 3, 0, 1, 3, 1, 0, 3, 0, 0, 0, 3, 0, 1, 0, 0, 3, 1,\n",
              "         3, 1, 1, 1, 0, 0, 0, 0, 3, 0, 4, 3, 3, 3, 0, 0, 1, 1, 0, 1, 1, 3, 1, 1,\n",
              "         2, 2, 2, 2, 1, 1, 1, 3, 0, 1, 1, 3, 0, 3, 1, 5, 1, 0, 0, 0, 3, 3, 0, 3,\n",
              "         1, 1, 0, 0, 0, 3, 0, 2, 3, 1, 3, 0, 1, 3, 3, 1, 0], device='cuda:0'))"
            ]
          },
          "metadata": {
            "tags": []
          },
          "execution_count": 23
        }
      ]
    },
    {
      "cell_type": "code",
      "metadata": {
        "id": "IU4eqE7kaVfV",
        "colab_type": "code",
        "colab": {}
      },
      "source": [
        "if available == True:\n",
        "  y_test = y_test.cpu().numpy()\n",
        "  indices = indices.cpu().numpy()"
      ],
      "execution_count": 0,
      "outputs": []
    },
    {
      "cell_type": "code",
      "metadata": {
        "id": "ZG4cBRU2ZtLM",
        "colab_type": "code",
        "outputId": "f348a91c-70aa-4cdf-bbfe-1c064003b2b8",
        "colab": {
          "base_uri": "https://localhost:8080/",
          "height": 170
        }
      },
      "source": [
        "indices = indices + 3\n",
        "from sklearn.metrics import confusion_matrix\n",
        "c = confusion_matrix(indices,y_test)\n",
        "c"
      ],
      "execution_count": 25,
      "outputs": [
        {
          "output_type": "execute_result",
          "data": {
            "text/plain": [
              "array([[ 0,  0,  0,  0,  0,  0,  0,  0,  0],\n",
              "       [ 0,  0,  0,  0,  0,  0,  0,  0,  0],\n",
              "       [ 0,  0,  0,  0,  0,  0,  0,  0,  0],\n",
              "       [ 1,  0, 18, 33,  7,  2,  0,  0,  0],\n",
              "       [ 2,  6, 32, 14,  0,  0,  0,  0,  0],\n",
              "       [ 0,  0,  7,  2,  0,  0,  0,  0,  0],\n",
              "       [ 0,  0,  8, 19,  3,  0,  0,  0,  0],\n",
              "       [ 0,  0,  1,  0,  3,  0,  0,  0,  0],\n",
              "       [ 0,  0,  0,  1,  2,  0,  0,  0,  0]])"
            ]
          },
          "metadata": {
            "tags": []
          },
          "execution_count": 25
        }
      ]
    },
    {
      "cell_type": "code",
      "metadata": {
        "id": "huBKf5KRaSku",
        "colab_type": "code",
        "outputId": "6c99755e-457a-4e6b-a5ae-6925850cab2f",
        "colab": {
          "base_uri": "https://localhost:8080/",
          "height": 187
        }
      },
      "source": [
        "print(y_test)\n",
        "print(indices)"
      ],
      "execution_count": 26,
      "outputs": [
        {
          "output_type": "stream",
          "text": [
            "[2 3 4 3 2 2 3 3 2 2 2 5 4 4 4 2 3 3 3 2 2 4 3 1 3 3 2 2 4 1 4 0 2 2 3 2 2\n",
            " 4 2 4 0 2 1 2 1 2 1 2 2 2 2 3 3 2 2 2 4 3 2 3 3 3 2 2 2 3 3 0 3 3 3 2 3 2\n",
            " 3 3 3 3 2 3 2 2 3 1 2 2 3 2 3 3 3 3 3 2 3 2 4 3 3 3 2 2 3 4 3 3 4 3 2 2 2\n",
            " 5 2 2 3 2 3 4 2 3 2 2 2 2 2 2 2 3 3 2 2 3 3 3 2 3 3 3 3 3 3 2 3 2 2 2 4 3\n",
            " 3 3 3 2 3 3 3 3 2 3 3 2 3]\n",
            "[4 6 3 5 3 6 6 5 3 3 4 3 3 7 6 4 3 4 4 4 3 7 3 4 4 6 4 4 3 4 3 4 4 3 3 6 4\n",
            " 8 4 8 3 3 4 3 4 4 4 4 4 3 4 3 3 4 6 5 3 3 5 3 4 3 4 4 3 3 3 4 4 3 3 7 3 3\n",
            " 4 6 3 3 3 6 3 4 6 4 3 6 3 3 3 6 3 4 3 3 6 4 6 4 4 4 3 3 3 3 6 3 7 6 6 6 3\n",
            " 3 4 4 3 4 4 6 4 4 5 5 5 5 4 4 4 6 3 4 4 6 3 6 4 8 4 3 3 3 6 6 3 6 4 4 3 3\n",
            " 3 6 3 5 6 4 6 3 4 6 6 4 3]\n"
          ],
          "name": "stdout"
        }
      ]
    },
    {
      "cell_type": "markdown",
      "metadata": {
        "id": "LHW65G1vcQno",
        "colab_type": "text"
      },
      "source": [
        "## 12) Plotting the curve for output"
      ]
    },
    {
      "cell_type": "code",
      "metadata": {
        "id": "7JODgbiDa6gh",
        "colab_type": "code",
        "outputId": "366cccd9-ee8c-4015-9479-e065e0cb78b1",
        "colab": {
          "base_uri": "https://localhost:8080/",
          "height": 282
        }
      },
      "source": [
        "plt.plot(y_test,'r',label='Actual')\n",
        "plt.plot(indices,'b',label='Predicted')\n",
        "plt.legend()"
      ],
      "execution_count": 27,
      "outputs": [
        {
          "output_type": "execute_result",
          "data": {
            "text/plain": [
              "<matplotlib.legend.Legend at 0x7f7434b1c048>"
            ]
          },
          "metadata": {
            "tags": []
          },
          "execution_count": 27
        },
        {
          "output_type": "display_data",
          "data": {
            "image/png": "[encoded data removed]",
            "text/plain": [
              "<Figure size 432x288 with 1 Axes>"
            ]
          },
          "metadata": {
            "tags": [],
            "needs_background": "light"
          }
        }
      ]
    },
    {
      "cell_type": "markdown",
      "metadata": {
        "id": "sCcVT7eLcZ9d",
        "colab_type": "text"
      },
      "source": [
        "<H1>Its efficiency can be increased by hyperparameter tuning</H1>\n",
        "\n",
        "Try changing:\n",
        "- No. Of epochs\n",
        "- No. of hidden layers\n",
        "- Learning rate\n",
        "- No. of hidden nodes in each layer\n",
        "- Normalization layers"
      ]
    },
    {
      "cell_type": "code",
      "metadata": {
        "id": "9BEj3S_Cb3Kx",
        "colab_type": "code",
        "colab": {}
      },
      "source": [
        ""
      ],
      "execution_count": 0,
      "outputs": []
    }
  ]
}