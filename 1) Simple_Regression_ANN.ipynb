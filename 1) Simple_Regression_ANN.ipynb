{
  "nbformat": 4,
  "nbformat_minor": 0,
  "metadata": {
    "colab": {
      "name": "Untitled1.ipynb",
      "provenance": []
    },
    "kernelspec": {
      "name": "python3",
      "display_name": "Python 3"
    },
    "accelerator": "GPU"
  },
  "cells": [
    {
      "cell_type": "markdown",
      "metadata": {
        "id": "KL9dcv8REByh",
        "colab_type": "text"
      },
      "source": [
        "# Basic Simple 1 layer Artificial Neural Network\n",
        "\n",
        "Here, we will be working with a simple regression problem containing a single feature and a single label."
      ]
    },
    {
      "cell_type": "markdown",
      "metadata": {
        "id": "E58BT-2kEXdP",
        "colab_type": "text"
      },
      "source": [
        "## 1) Importing the libraries"
      ]
    },
    {
      "cell_type": "code",
      "metadata": {
        "id": "8NQLH4qZDr6Y",
        "colab_type": "code",
        "colab": {}
      },
      "source": [
        "import numpy as np\n",
        "import matplotlib.pyplot as plt\n",
        "import pandas as pd\n",
        "import torch\n",
        "import torch.nn as nn"
      ],
      "execution_count": 0,
      "outputs": []
    },
    {
      "cell_type": "markdown",
      "metadata": {
        "id": "d_N9eINiEcMT",
        "colab_type": "text"
      },
      "source": [
        "## 2) Creating a simple dataset"
      ]
    },
    {
      "cell_type": "code",
      "metadata": {
        "id": "RsHUydgUD_5T",
        "colab_type": "code",
        "colab": {
          "base_uri": "https://localhost:8080/",
          "height": 119
        },
        "outputId": "eeac91e7-b375-49e8-dedf-0eaf443dd8e5"
      },
      "source": [
        "# Feature\n",
        "\n",
        "X = torch.linspace(1,1000,1000).reshape(-1,1)\n",
        "\n",
        "#adding some noise to label\n",
        "noise = np.random.randint(-5,5,size = 1000).reshape(-1,1)\n",
        "y = 5*X + noise\n",
        "#y = torch.FloatTensor(y).reshape(-1,1)\n",
        "\n",
        "len(X), len(y), type(X), type(y), X.shape, y.shape"
      ],
      "execution_count": 79,
      "outputs": [
        {
          "output_type": "execute_result",
          "data": {
            "text/plain": [
              "(1000,\n",
              " 1000,\n",
              " torch.Tensor,\n",
              " torch.Tensor,\n",
              " torch.Size([1000, 1]),\n",
              " torch.Size([1000, 1]))"
            ]
          },
          "metadata": {
            "tags": []
          },
          "execution_count": 79
        }
      ]
    },
    {
      "cell_type": "markdown",
      "metadata": {
        "id": "_cgL0oPzIpRj",
        "colab_type": "text"
      },
      "source": [
        "## 3) Dividing the data into train and test data"
      ]
    },
    {
      "cell_type": "code",
      "metadata": {
        "id": "eYq5hxrbEtNm",
        "colab_type": "code",
        "colab": {
          "base_uri": "https://localhost:8080/",
          "height": 34
        },
        "outputId": "ad4404dd-f855-414b-e034-2deee2b10d98"
      },
      "source": [
        "# we will be using our 90% data as train set and the remaining data as test set\n",
        "train_size = 0.9 \n",
        "s = int(len(X)*0.9)\n",
        "X_train = X[:s]\n",
        "X_test = X[s:]\n",
        "y_train = y[:s]\n",
        "y_test = y[s:]\n",
        "\n",
        "len(X_train), len(X_test), len(y_train), len(y_test)"
      ],
      "execution_count": 80,
      "outputs": [
        {
          "output_type": "execute_result",
          "data": {
            "text/plain": [
              "(900, 100, 900, 100)"
            ]
          },
          "metadata": {
            "tags": []
          },
          "execution_count": 80
        }
      ]
    },
    {
      "cell_type": "markdown",
      "metadata": {
        "id": "OKZozUmlJ8Si",
        "colab_type": "text"
      },
      "source": [
        "## 4) Defining the ANN model"
      ]
    },
    {
      "cell_type": "code",
      "metadata": {
        "id": "TaylFAbeJotp",
        "colab_type": "code",
        "colab": {}
      },
      "source": [
        "class ANN(nn.Module):\n",
        "  def __init__(self,in_features,out_features,hidden_dim):\n",
        "    super().__init__()\n",
        "\n",
        "    self.in_features = in_features\n",
        "    self.out_features = out_features\n",
        "    \n",
        "    # Our model :   Input layer ----> Output\n",
        "\n",
        "    self.fc1 = nn.Linear(self.in_features,hidden_dim)\n",
        "    self.fc2 = nn.Linear(hidden_dim,self.out_features)\n",
        "\n",
        "  def forward(self,X):\n",
        "    X = self.fc1(X)\n",
        "    y_pred = self.fc2(X)\n",
        "    return y_pred\n",
        "    "
      ],
      "execution_count": 0,
      "outputs": []
    },
    {
      "cell_type": "markdown",
      "metadata": {
        "id": "AuxT_tWuMPk_",
        "colab_type": "text"
      },
      "source": [
        "## 5) Instantiating the model"
      ]
    },
    {
      "cell_type": "code",
      "metadata": {
        "id": "QPxuxjKTMGht",
        "colab_type": "code",
        "colab": {
          "base_uri": "https://localhost:8080/",
          "height": 85
        },
        "outputId": "35b7a548-bba0-4a60-9cdd-0bc85b703d19"
      },
      "source": [
        "model = ANN(1,1,256)\n",
        "model"
      ],
      "execution_count": 82,
      "outputs": [
        {
          "output_type": "execute_result",
          "data": {
            "text/plain": [
              "ANN(\n",
              "  (fc1): Linear(in_features=1, out_features=256, bias=True)\n",
              "  (fc2): Linear(in_features=256, out_features=1, bias=True)\n",
              ")"
            ]
          },
          "metadata": {
            "tags": []
          },
          "execution_count": 82
        }
      ]
    },
    {
      "cell_type": "markdown",
      "metadata": {
        "id": "T1WL5IGbMlMz",
        "colab_type": "text"
      },
      "source": [
        "## 6) Training the model\n"
      ]
    },
    {
      "cell_type": "markdown",
      "metadata": {
        "id": "e8BbGMerNSFN",
        "colab_type": "text"
      },
      "source": [
        " Defining the loss function and the optimizer"
      ]
    },
    {
      "cell_type": "code",
      "metadata": {
        "id": "p-KrTJkoNaxz",
        "colab_type": "code",
        "colab": {}
      },
      "source": [
        "criterion = nn.MSELoss()\n",
        "optimizer = torch.optim.Adam(model.parameters(),lr=0.001)"
      ],
      "execution_count": 0,
      "outputs": []
    },
    {
      "cell_type": "code",
      "metadata": {
        "id": "cCA-yrq_MjUQ",
        "colab_type": "code",
        "colab": {
          "base_uri": "https://localhost:8080/",
          "height": 187
        },
        "outputId": "3ac4ba96-d002-487d-e551-9ad25219a827"
      },
      "source": [
        "# Training\n",
        "\n",
        "epochs = 1000\n",
        "losses = []\n",
        "\n",
        "for i in range(epochs):\n",
        "  i+=1\n",
        "\n",
        "  #Predicting the output\n",
        "  y_pred = model.forward(X_train)\n",
        "\n",
        "  #calculating the loss\n",
        "  loss = criterion(y_train,y_pred)\n",
        "\n",
        "  losses.append(loss)\n",
        "\n",
        "  if i%100 == 0:\n",
        "    print(f'Epoch : {i}    Loss : {loss.item()}')\n",
        "\n",
        "  # Making the gradients zero for backward propagation\n",
        "  optimizer.zero_grad()\n",
        "\n",
        "  # Backward Propagation\n",
        "  loss.backward()\n",
        "  \n",
        "  optimizer.step()\n"
      ],
      "execution_count": 84,
      "outputs": [
        {
          "output_type": "stream",
          "text": [
            "Epoch : 100    Loss : 237.23726120720403\n",
            "Epoch : 200    Loss : 8.276562848459825\n",
            "Epoch : 300    Loss : 8.266860271535055\n",
            "Epoch : 400    Loss : 8.266703430147416\n",
            "Epoch : 500    Loss : 8.266558231482001\n",
            "Epoch : 600    Loss : 8.266355142558513\n",
            "Epoch : 700    Loss : 8.26621124815657\n",
            "Epoch : 800    Loss : 8.265973842366671\n",
            "Epoch : 900    Loss : 8.265748363559698\n",
            "Epoch : 1000    Loss : 8.265524892462395\n"
          ],
          "name": "stdout"
        }
      ]
    },
    {
      "cell_type": "markdown",
      "metadata": {
        "id": "ASGBCqQtXzwV",
        "colab_type": "text"
      },
      "source": [
        "## 7) Plotting the curve between loss and epochs"
      ]
    },
    {
      "cell_type": "code",
      "metadata": {
        "id": "aXpcjU8VO6hG",
        "colab_type": "code",
        "colab": {
          "base_uri": "https://localhost:8080/",
          "height": 307
        },
        "outputId": "2f9b1aab-3e2b-4f93-d6e3-bd5058b0b790"
      },
      "source": [
        "plt.plot(range(epochs),losses)\n",
        "plt.xlabel('Epochs')\n",
        "plt.ylabel('Losses')"
      ],
      "execution_count": 87,
      "outputs": [
        {
          "output_type": "execute_result",
          "data": {
            "text/plain": [
              "Text(0, 0.5, 'Losses')"
            ]
          },
          "metadata": {
            "tags": []
          },
          "execution_count": 87
        },
        {
          "output_type": "display_data",
          "data": {
            "image/png": "[encoded data removed]",
            "text/plain": [
              "<Figure size 432x288 with 1 Axes>"
            ]
          },
          "metadata": {
            "tags": [],
            "needs_background": "light"
          }
        }
      ]
    },
    {
      "cell_type": "markdown",
      "metadata": {
        "id": "zMbitRKmYzdJ",
        "colab_type": "text"
      },
      "source": [
        "## 8) Predicting the output for test data"
      ]
    },
    {
      "cell_type": "code",
      "metadata": {
        "id": "92clA3bdYFsV",
        "colab_type": "code",
        "colab": {
          "base_uri": "https://localhost:8080/",
          "height": 34
        },
        "outputId": "75081877-19fc-42fa-e249-f2f31671268e"
      },
      "source": [
        "print(model.parameters())"
      ],
      "execution_count": 88,
      "outputs": [
        {
          "output_type": "stream",
          "text": [
            "<generator object Module.parameters at 0x7f668546ee08>\n"
          ],
          "name": "stdout"
        }
      ]
    },
    {
      "cell_type": "code",
      "metadata": {
        "id": "Ua_vLVHtY_HY",
        "colab_type": "code",
        "colab": {
          "base_uri": "https://localhost:8080/",
          "height": 34
        },
        "outputId": "4420c58f-7f4c-4306-d48d-dafc96a21385"
      },
      "source": [
        "#Predicting the output\n",
        "with torch.no_grad():\n",
        "  y_p = model(X_test)\n",
        "\n",
        "  loss = criterion(y_test,y_p)\n",
        "\n",
        "  print(f'Loss : {loss.item()}')"
      ],
      "execution_count": 93,
      "outputs": [
        {
          "output_type": "stream",
          "text": [
            "Loss : 8.406754851341248\n"
          ],
          "name": "stdout"
        }
      ]
    },
    {
      "cell_type": "code",
      "metadata": {
        "id": "o8V1ccKyZDMs",
        "colab_type": "code",
        "colab": {
          "base_uri": "https://localhost:8080/",
          "height": 299
        },
        "outputId": "d5b9ceb5-5c85-4c44-a5c6-88d1006fab3c"
      },
      "source": [
        "plt.plot(y_test,'r')\n",
        "plt.plot(y_p,'b')\n",
        "plt.legend()"
      ],
      "execution_count": 97,
      "outputs": [
        {
          "output_type": "stream",
          "text": [
            "No handles with labels found to put in legend.\n"
          ],
          "name": "stderr"
        },
        {
          "output_type": "execute_result",
          "data": {
            "text/plain": [
              "<matplotlib.legend.Legend at 0x7f6684f927f0>"
            ]
          },
          "metadata": {
            "tags": []
          },
          "execution_count": 97
        },
        {
          "output_type": "display_data",
          "data": {
            "image/png": "[encoded data removed]",
            "text/plain": [
              "<Figure size 432x288 with 1 Axes>"
            ]
          },
          "metadata": {
            "tags": [],
            "needs_background": "light"
          }
        }
      ]
    },
    {
      "cell_type": "code",
      "metadata": {
        "id": "KFRsG6f5aLX6",
        "colab_type": "code",
        "colab": {
          "base_uri": "https://localhost:8080/",
          "height": 510
        },
        "outputId": "1cf46ef7-2ba3-43a2-ac35-8e2bb22721fc"
      },
      "source": [
        "print(y_test.flatten()) , print(y_p.flatten())"
      ],
      "execution_count": 101,
      "outputs": [
        {
          "output_type": "stream",
          "text": [
            "tensor([4504., 4508., 4510., 4520., 4529., 4531., 4539., 4543., 4540., 4548.,\n",
            "        4556., 4559., 4567., 4565., 4574., 4583., 4589., 4590., 4597., 4596.,\n",
            "        4608., 4610., 4619., 4619., 4621., 4632., 4634., 4639., 4643., 4651.,\n",
            "        4657., 4664., 4660., 4666., 4677., 4682., 4682., 4688., 4694., 4703.,\n",
            "        4708., 4708., 4715., 4715., 4722., 4729., 4731., 4736., 4748., 4751.,\n",
            "        4755., 4762., 4760., 4771., 4776., 4775., 4783., 4793., 4795., 4795.,\n",
            "        4803., 4807., 4813., 4823., 4822., 4829., 4838., 4838., 4844., 4846.,\n",
            "        4858., 4863., 4860., 4873., 4871., 4884., 4884., 4887., 4896., 4903.,\n",
            "        4907., 4911., 4916., 4921., 4920., 4932., 4937., 4938., 4940., 4946.,\n",
            "        4954., 4959., 4960., 4970., 4977., 4975., 4982., 4993., 4996., 5002.],\n",
            "       dtype=torch.float64)\n",
            "tensor([4504.1016, 4509.1006, 4514.1001, 4519.0991, 4524.0977, 4529.0972,\n",
            "        4534.0957, 4539.0947, 4544.0938, 4549.0928, 4554.0918, 4559.0908,\n",
            "        4564.0898, 4569.0889, 4574.0879, 4579.0869, 4584.0859, 4589.0845,\n",
            "        4594.0835, 4599.0825, 4604.0820, 4609.0806, 4614.0791, 4619.0786,\n",
            "        4624.0776, 4629.0767, 4634.0757, 4639.0742, 4644.0732, 4649.0723,\n",
            "        4654.0718, 4659.0708, 4664.0693, 4669.0684, 4674.0674, 4679.0664,\n",
            "        4684.0654, 4689.0645, 4694.0635, 4699.0625, 4704.0615, 4709.0605,\n",
            "        4714.0596, 4719.0586, 4724.0571, 4729.0566, 4734.0552, 4739.0542,\n",
            "        4744.0532, 4749.0518, 4754.0513, 4759.0498, 4764.0488, 4769.0483,\n",
            "        4774.0469, 4779.0464, 4784.0449, 4789.0439, 4794.0430, 4799.0420,\n",
            "        4804.0410, 4809.0400, 4814.0391, 4819.0381, 4824.0371, 4829.0356,\n",
            "        4834.0352, 4839.0342, 4844.0327, 4849.0322, 4854.0312, 4859.0303,\n",
            "        4864.0288, 4869.0278, 4874.0269, 4879.0259, 4884.0249, 4889.0244,\n",
            "        4894.0225, 4899.0220, 4904.0210, 4909.0205, 4914.0186, 4919.0176,\n",
            "        4924.0166, 4929.0156, 4934.0146, 4939.0137, 4944.0127, 4949.0117,\n",
            "        4954.0107, 4959.0098, 4964.0088, 4969.0078, 4974.0063, 4979.0059,\n",
            "        4984.0049, 4989.0039, 4994.0029, 4999.0020])\n"
          ],
          "name": "stdout"
        },
        {
          "output_type": "execute_result",
          "data": {
            "text/plain": [
              "(None, None)"
            ]
          },
          "metadata": {
            "tags": []
          },
          "execution_count": 101
        }
      ]
    },
    {
      "cell_type": "code",
      "metadata": {
        "id": "skGqikYiajd8",
        "colab_type": "code",
        "colab": {}
      },
      "source": [
        ""
      ],
      "execution_count": 0,
      "outputs": []
    }
  ]
}