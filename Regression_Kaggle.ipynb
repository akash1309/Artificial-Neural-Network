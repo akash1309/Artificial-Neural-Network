{
  "nbformat": 4,
  "nbformat_minor": 0,
  "metadata": {
    "colab": {
      "name": "Regression_Kaggle.ipynb",
      "provenance": [],
      "toc_visible": true,
      "mount_file_id": "1f_-LPGvBJKlhEo8FRHYnsdKF8KVgCjgC",
      "authorship_tag": "ABX9TyOGtg1sG1Hhbjotd8eNzoUt"
    },
    "kernelspec": {
      "name": "python3",
      "display_name": "Python 3"
    },
    "accelerator": "GPU"
  },
  "cells": [
    {
      "cell_type": "markdown",
      "metadata": {
        "id": "8HY9ORyMAXhA",
        "colab_type": "text"
      },
      "source": [
        "# Kaggle Contest ----> House Price Predictions \n",
        "\n",
        "https://www.kaggle.com/c/house-prices-advanced-regression-techniques/overview/description\n",
        "\n",
        "We are given many features that a person wants to have in his house. On the basis of these feature, price of house is estimated.\n",
        "\n",
        "So, here we are given a number of features(almost 80) and we need to predict the price of the house."
      ]
    },
    {
      "cell_type": "markdown",
      "metadata": {
        "id": "u17fZR6PCcox",
        "colab_type": "text"
      },
      "source": [
        "## 1) Importing the libraries"
      ]
    },
    {
      "cell_type": "code",
      "metadata": {
        "id": "HUFDqktFACOs",
        "colab_type": "code",
        "colab": {}
      },
      "source": [
        "import numpy as np\n",
        "import pandas as pd\n",
        "import matplotlib.pyplot as plt\n",
        "import torch\n",
        "import torch.nn as nn\n",
        "import torch.functional as F"
      ],
      "execution_count": 0,
      "outputs": []
    },
    {
      "cell_type": "markdown",
      "metadata": {
        "id": "jK6_uxxrCtb8",
        "colab_type": "text"
      },
      "source": [
        "## 2) Checking for GPU"
      ]
    },
    {
      "cell_type": "code",
      "metadata": {
        "id": "_RUV31qjCsRw",
        "colab_type": "code",
        "colab": {
          "base_uri": "https://localhost:8080/",
          "height": 34
        },
        "outputId": "ff102a11-f163-4636-bee4-076f755ae2b0"
      },
      "source": [
        "torch.cuda.is_available()"
      ],
      "execution_count": 2,
      "outputs": [
        {
          "output_type": "execute_result",
          "data": {
            "text/plain": [
              "True"
            ]
          },
          "metadata": {
            "tags": []
          },
          "execution_count": 2
        }
      ]
    },
    {
      "cell_type": "markdown",
      "metadata": {
        "id": "iRKMKd7zDZzJ",
        "colab_type": "text"
      },
      "source": [
        "## 3) Data Preprocessing"
      ]
    },
    {
      "cell_type": "code",
      "metadata": {
        "id": "3R3SYBSmCxuO",
        "colab_type": "code",
        "colab": {
          "base_uri": "https://localhost:8080/",
          "height": 253
        },
        "outputId": "0f27ce93-1eda-427a-ddd2-c753ff064217"
      },
      "source": [
        "df = pd.read_csv('drive/My Drive/Pytorch_DataSet/house-prices/train.csv')\n",
        "df.head()"
      ],
      "execution_count": 3,
      "outputs": [
        {
          "output_type": "execute_result",
          "data": {
            "text/html": [
              "<div>\n",
              "<style scoped>\n",
              "    .dataframe tbody tr th:only-of-type {\n",
              "        vertical-align: middle;\n",
              "    }\n",
              "\n",
              "    .dataframe tbody tr th {\n",
              "        vertical-align: top;\n",
              "    }\n",
              "\n",
              "    .dataframe thead th {\n",
              "        text-align: right;\n",
              "    }\n",
              "</style>\n",
              "<table border=\"1\" class=\"dataframe\">\n",
              "  <thead>\n",
              "    <tr style=\"text-align: right;\">\n",
              "      <th></th>\n",
              "      <th>Id</th>\n",
              "      <th>MSSubClass</th>\n",
              "      <th>MSZoning</th>\n",
              "      <th>LotFrontage</th>\n",
              "      <th>LotArea</th>\n",
              "      <th>Street</th>\n",
              "      <th>Alley</th>\n",
              "      <th>LotShape</th>\n",
              "      <th>LandContour</th>\n",
              "      <th>Utilities</th>\n",
              "      <th>LotConfig</th>\n",
              "      <th>LandSlope</th>\n",
              "      <th>Neighborhood</th>\n",
              "      <th>Condition1</th>\n",
              "      <th>Condition2</th>\n",
              "      <th>BldgType</th>\n",
              "      <th>HouseStyle</th>\n",
              "      <th>OverallQual</th>\n",
              "      <th>OverallCond</th>\n",
              "      <th>YearBuilt</th>\n",
              "      <th>YearRemodAdd</th>\n",
              "      <th>RoofStyle</th>\n",
              "      <th>RoofMatl</th>\n",
              "      <th>Exterior1st</th>\n",
              "      <th>Exterior2nd</th>\n",
              "      <th>MasVnrType</th>\n",
              "      <th>MasVnrArea</th>\n",
              "      <th>ExterQual</th>\n",
              "      <th>ExterCond</th>\n",
              "      <th>Foundation</th>\n",
              "      <th>BsmtQual</th>\n",
              "      <th>BsmtCond</th>\n",
              "      <th>BsmtExposure</th>\n",
              "      <th>BsmtFinType1</th>\n",
              "      <th>BsmtFinSF1</th>\n",
              "      <th>BsmtFinType2</th>\n",
              "      <th>BsmtFinSF2</th>\n",
              "      <th>BsmtUnfSF</th>\n",
              "      <th>TotalBsmtSF</th>\n",
              "      <th>Heating</th>\n",
              "      <th>...</th>\n",
              "      <th>CentralAir</th>\n",
              "      <th>Electrical</th>\n",
              "      <th>1stFlrSF</th>\n",
              "      <th>2ndFlrSF</th>\n",
              "      <th>LowQualFinSF</th>\n",
              "      <th>GrLivArea</th>\n",
              "      <th>BsmtFullBath</th>\n",
              "      <th>BsmtHalfBath</th>\n",
              "      <th>FullBath</th>\n",
              "      <th>HalfBath</th>\n",
              "      <th>BedroomAbvGr</th>\n",
              "      <th>KitchenAbvGr</th>\n",
              "      <th>KitchenQual</th>\n",
              "      <th>TotRmsAbvGrd</th>\n",
              "      <th>Functional</th>\n",
              "      <th>Fireplaces</th>\n",
              "      <th>FireplaceQu</th>\n",
              "      <th>GarageType</th>\n",
              "      <th>GarageYrBlt</th>\n",
              "      <th>GarageFinish</th>\n",
              "      <th>GarageCars</th>\n",
              "      <th>GarageArea</th>\n",
              "      <th>GarageQual</th>\n",
              "      <th>GarageCond</th>\n",
              "      <th>PavedDrive</th>\n",
              "      <th>WoodDeckSF</th>\n",
              "      <th>OpenPorchSF</th>\n",
              "      <th>EnclosedPorch</th>\n",
              "      <th>3SsnPorch</th>\n",
              "      <th>ScreenPorch</th>\n",
              "      <th>PoolArea</th>\n",
              "      <th>PoolQC</th>\n",
              "      <th>Fence</th>\n",
              "      <th>MiscFeature</th>\n",
              "      <th>MiscVal</th>\n",
              "      <th>MoSold</th>\n",
              "      <th>YrSold</th>\n",
              "      <th>SaleType</th>\n",
              "      <th>SaleCondition</th>\n",
              "      <th>SalePrice</th>\n",
              "    </tr>\n",
              "  </thead>\n",
              "  <tbody>\n",
              "    <tr>\n",
              "      <th>0</th>\n",
              "      <td>1</td>\n",
              "      <td>60</td>\n",
              "      <td>RL</td>\n",
              "      <td>65.0</td>\n",
              "      <td>8450</td>\n",
              "      <td>Pave</td>\n",
              "      <td>NaN</td>\n",
              "      <td>Reg</td>\n",
              "      <td>Lvl</td>\n",
              "      <td>AllPub</td>\n",
              "      <td>Inside</td>\n",
              "      <td>Gtl</td>\n",
              "      <td>CollgCr</td>\n",
              "      <td>Norm</td>\n",
              "      <td>Norm</td>\n",
              "      <td>1Fam</td>\n",
              "      <td>2Story</td>\n",
              "      <td>7</td>\n",
              "      <td>5</td>\n",
              "      <td>2003</td>\n",
              "      <td>2003</td>\n",
              "      <td>Gable</td>\n",
              "      <td>CompShg</td>\n",
              "      <td>VinylSd</td>\n",
              "      <td>VinylSd</td>\n",
              "      <td>BrkFace</td>\n",
              "      <td>196.0</td>\n",
              "      <td>Gd</td>\n",
              "      <td>TA</td>\n",
              "      <td>PConc</td>\n",
              "      <td>Gd</td>\n",
              "      <td>TA</td>\n",
              "      <td>No</td>\n",
              "      <td>GLQ</td>\n",
              "      <td>706</td>\n",
              "      <td>Unf</td>\n",
              "      <td>0</td>\n",
              "      <td>150</td>\n",
              "      <td>856</td>\n",
              "      <td>GasA</td>\n",
              "      <td>...</td>\n",
              "      <td>Y</td>\n",
              "      <td>SBrkr</td>\n",
              "      <td>856</td>\n",
              "      <td>854</td>\n",
              "      <td>0</td>\n",
              "      <td>1710</td>\n",
              "      <td>1</td>\n",
              "      <td>0</td>\n",
              "      <td>2</td>\n",
              "      <td>1</td>\n",
              "      <td>3</td>\n",
              "      <td>1</td>\n",
              "      <td>Gd</td>\n",
              "      <td>8</td>\n",
              "      <td>Typ</td>\n",
              "      <td>0</td>\n",
              "      <td>NaN</td>\n",
              "      <td>Attchd</td>\n",
              "      <td>2003.0</td>\n",
              "      <td>RFn</td>\n",
              "      <td>2</td>\n",
              "      <td>548</td>\n",
              "      <td>TA</td>\n",
              "      <td>TA</td>\n",
              "      <td>Y</td>\n",
              "      <td>0</td>\n",
              "      <td>61</td>\n",
              "      <td>0</td>\n",
              "      <td>0</td>\n",
              "      <td>0</td>\n",
              "      <td>0</td>\n",
              "      <td>NaN</td>\n",
              "      <td>NaN</td>\n",
              "      <td>NaN</td>\n",
              "      <td>0</td>\n",
              "      <td>2</td>\n",
              "      <td>2008</td>\n",
              "      <td>WD</td>\n",
              "      <td>Normal</td>\n",
              "      <td>208500</td>\n",
              "    </tr>\n",
              "    <tr>\n",
              "      <th>1</th>\n",
              "      <td>2</td>\n",
              "      <td>20</td>\n",
              "      <td>RL</td>\n",
              "      <td>80.0</td>\n",
              "      <td>9600</td>\n",
              "      <td>Pave</td>\n",
              "      <td>NaN</td>\n",
              "      <td>Reg</td>\n",
              "      <td>Lvl</td>\n",
              "      <td>AllPub</td>\n",
              "      <td>FR2</td>\n",
              "      <td>Gtl</td>\n",
              "      <td>Veenker</td>\n",
              "      <td>Feedr</td>\n",
              "      <td>Norm</td>\n",
              "      <td>1Fam</td>\n",
              "      <td>1Story</td>\n",
              "      <td>6</td>\n",
              "      <td>8</td>\n",
              "      <td>1976</td>\n",
              "      <td>1976</td>\n",
              "      <td>Gable</td>\n",
              "      <td>CompShg</td>\n",
              "      <td>MetalSd</td>\n",
              "      <td>MetalSd</td>\n",
              "      <td>None</td>\n",
              "      <td>0.0</td>\n",
              "      <td>TA</td>\n",
              "      <td>TA</td>\n",
              "      <td>CBlock</td>\n",
              "      <td>Gd</td>\n",
              "      <td>TA</td>\n",
              "      <td>Gd</td>\n",
              "      <td>ALQ</td>\n",
              "      <td>978</td>\n",
              "      <td>Unf</td>\n",
              "      <td>0</td>\n",
              "      <td>284</td>\n",
              "      <td>1262</td>\n",
              "      <td>GasA</td>\n",
              "      <td>...</td>\n",
              "      <td>Y</td>\n",
              "      <td>SBrkr</td>\n",
              "      <td>1262</td>\n",
              "      <td>0</td>\n",
              "      <td>0</td>\n",
              "      <td>1262</td>\n",
              "      <td>0</td>\n",
              "      <td>1</td>\n",
              "      <td>2</td>\n",
              "      <td>0</td>\n",
              "      <td>3</td>\n",
              "      <td>1</td>\n",
              "      <td>TA</td>\n",
              "      <td>6</td>\n",
              "      <td>Typ</td>\n",
              "      <td>1</td>\n",
              "      <td>TA</td>\n",
              "      <td>Attchd</td>\n",
              "      <td>1976.0</td>\n",
              "      <td>RFn</td>\n",
              "      <td>2</td>\n",
              "      <td>460</td>\n",
              "      <td>TA</td>\n",
              "      <td>TA</td>\n",
              "      <td>Y</td>\n",
              "      <td>298</td>\n",
              "      <td>0</td>\n",
              "      <td>0</td>\n",
              "      <td>0</td>\n",
              "      <td>0</td>\n",
              "      <td>0</td>\n",
              "      <td>NaN</td>\n",
              "      <td>NaN</td>\n",
              "      <td>NaN</td>\n",
              "      <td>0</td>\n",
              "      <td>5</td>\n",
              "      <td>2007</td>\n",
              "      <td>WD</td>\n",
              "      <td>Normal</td>\n",
              "      <td>181500</td>\n",
              "    </tr>\n",
              "    <tr>\n",
              "      <th>2</th>\n",
              "      <td>3</td>\n",
              "      <td>60</td>\n",
              "      <td>RL</td>\n",
              "      <td>68.0</td>\n",
              "      <td>11250</td>\n",
              "      <td>Pave</td>\n",
              "      <td>NaN</td>\n",
              "      <td>IR1</td>\n",
              "      <td>Lvl</td>\n",
              "      <td>AllPub</td>\n",
              "      <td>Inside</td>\n",
              "      <td>Gtl</td>\n",
              "      <td>CollgCr</td>\n",
              "      <td>Norm</td>\n",
              "      <td>Norm</td>\n",
              "      <td>1Fam</td>\n",
              "      <td>2Story</td>\n",
              "      <td>7</td>\n",
              "      <td>5</td>\n",
              "      <td>2001</td>\n",
              "      <td>2002</td>\n",
              "      <td>Gable</td>\n",
              "      <td>CompShg</td>\n",
              "      <td>VinylSd</td>\n",
              "      <td>VinylSd</td>\n",
              "      <td>BrkFace</td>\n",
              "      <td>162.0</td>\n",
              "      <td>Gd</td>\n",
              "      <td>TA</td>\n",
              "      <td>PConc</td>\n",
              "      <td>Gd</td>\n",
              "      <td>TA</td>\n",
              "      <td>Mn</td>\n",
              "      <td>GLQ</td>\n",
              "      <td>486</td>\n",
              "      <td>Unf</td>\n",
              "      <td>0</td>\n",
              "      <td>434</td>\n",
              "      <td>920</td>\n",
              "      <td>GasA</td>\n",
              "      <td>...</td>\n",
              "      <td>Y</td>\n",
              "      <td>SBrkr</td>\n",
              "      <td>920</td>\n",
              "      <td>866</td>\n",
              "      <td>0</td>\n",
              "      <td>1786</td>\n",
              "      <td>1</td>\n",
              "      <td>0</td>\n",
              "      <td>2</td>\n",
              "      <td>1</td>\n",
              "      <td>3</td>\n",
              "      <td>1</td>\n",
              "      <td>Gd</td>\n",
              "      <td>6</td>\n",
              "      <td>Typ</td>\n",
              "      <td>1</td>\n",
              "      <td>TA</td>\n",
              "      <td>Attchd</td>\n",
              "      <td>2001.0</td>\n",
              "      <td>RFn</td>\n",
              "      <td>2</td>\n",
              "      <td>608</td>\n",
              "      <td>TA</td>\n",
              "      <td>TA</td>\n",
              "      <td>Y</td>\n",
              "      <td>0</td>\n",
              "      <td>42</td>\n",
              "      <td>0</td>\n",
              "      <td>0</td>\n",
              "      <td>0</td>\n",
              "      <td>0</td>\n",
              "      <td>NaN</td>\n",
              "      <td>NaN</td>\n",
              "      <td>NaN</td>\n",
              "      <td>0</td>\n",
              "      <td>9</td>\n",
              "      <td>2008</td>\n",
              "      <td>WD</td>\n",
              "      <td>Normal</td>\n",
              "      <td>223500</td>\n",
              "    </tr>\n",
              "    <tr>\n",
              "      <th>3</th>\n",
              "      <td>4</td>\n",
              "      <td>70</td>\n",
              "      <td>RL</td>\n",
              "      <td>60.0</td>\n",
              "      <td>9550</td>\n",
              "      <td>Pave</td>\n",
              "      <td>NaN</td>\n",
              "      <td>IR1</td>\n",
              "      <td>Lvl</td>\n",
              "      <td>AllPub</td>\n",
              "      <td>Corner</td>\n",
              "      <td>Gtl</td>\n",
              "      <td>Crawfor</td>\n",
              "      <td>Norm</td>\n",
              "      <td>Norm</td>\n",
              "      <td>1Fam</td>\n",
              "      <td>2Story</td>\n",
              "      <td>7</td>\n",
              "      <td>5</td>\n",
              "      <td>1915</td>\n",
              "      <td>1970</td>\n",
              "      <td>Gable</td>\n",
              "      <td>CompShg</td>\n",
              "      <td>Wd Sdng</td>\n",
              "      <td>Wd Shng</td>\n",
              "      <td>None</td>\n",
              "      <td>0.0</td>\n",
              "      <td>TA</td>\n",
              "      <td>TA</td>\n",
              "      <td>BrkTil</td>\n",
              "      <td>TA</td>\n",
              "      <td>Gd</td>\n",
              "      <td>No</td>\n",
              "      <td>ALQ</td>\n",
              "      <td>216</td>\n",
              "      <td>Unf</td>\n",
              "      <td>0</td>\n",
              "      <td>540</td>\n",
              "      <td>756</td>\n",
              "      <td>GasA</td>\n",
              "      <td>...</td>\n",
              "      <td>Y</td>\n",
              "      <td>SBrkr</td>\n",
              "      <td>961</td>\n",
              "      <td>756</td>\n",
              "      <td>0</td>\n",
              "      <td>1717</td>\n",
              "      <td>1</td>\n",
              "      <td>0</td>\n",
              "      <td>1</td>\n",
              "      <td>0</td>\n",
              "      <td>3</td>\n",
              "      <td>1</td>\n",
              "      <td>Gd</td>\n",
              "      <td>7</td>\n",
              "      <td>Typ</td>\n",
              "      <td>1</td>\n",
              "      <td>Gd</td>\n",
              "      <td>Detchd</td>\n",
              "      <td>1998.0</td>\n",
              "      <td>Unf</td>\n",
              "      <td>3</td>\n",
              "      <td>642</td>\n",
              "      <td>TA</td>\n",
              "      <td>TA</td>\n",
              "      <td>Y</td>\n",
              "      <td>0</td>\n",
              "      <td>35</td>\n",
              "      <td>272</td>\n",
              "      <td>0</td>\n",
              "      <td>0</td>\n",
              "      <td>0</td>\n",
              "      <td>NaN</td>\n",
              "      <td>NaN</td>\n",
              "      <td>NaN</td>\n",
              "      <td>0</td>\n",
              "      <td>2</td>\n",
              "      <td>2006</td>\n",
              "      <td>WD</td>\n",
              "      <td>Abnorml</td>\n",
              "      <td>140000</td>\n",
              "    </tr>\n",
              "    <tr>\n",
              "      <th>4</th>\n",
              "      <td>5</td>\n",
              "      <td>60</td>\n",
              "      <td>RL</td>\n",
              "      <td>84.0</td>\n",
              "      <td>14260</td>\n",
              "      <td>Pave</td>\n",
              "      <td>NaN</td>\n",
              "      <td>IR1</td>\n",
              "      <td>Lvl</td>\n",
              "      <td>AllPub</td>\n",
              "      <td>FR2</td>\n",
              "      <td>Gtl</td>\n",
              "      <td>NoRidge</td>\n",
              "      <td>Norm</td>\n",
              "      <td>Norm</td>\n",
              "      <td>1Fam</td>\n",
              "      <td>2Story</td>\n",
              "      <td>8</td>\n",
              "      <td>5</td>\n",
              "      <td>2000</td>\n",
              "      <td>2000</td>\n",
              "      <td>Gable</td>\n",
              "      <td>CompShg</td>\n",
              "      <td>VinylSd</td>\n",
              "      <td>VinylSd</td>\n",
              "      <td>BrkFace</td>\n",
              "      <td>350.0</td>\n",
              "      <td>Gd</td>\n",
              "      <td>TA</td>\n",
              "      <td>PConc</td>\n",
              "      <td>Gd</td>\n",
              "      <td>TA</td>\n",
              "      <td>Av</td>\n",
              "      <td>GLQ</td>\n",
              "      <td>655</td>\n",
              "      <td>Unf</td>\n",
              "      <td>0</td>\n",
              "      <td>490</td>\n",
              "      <td>1145</td>\n",
              "      <td>GasA</td>\n",
              "      <td>...</td>\n",
              "      <td>Y</td>\n",
              "      <td>SBrkr</td>\n",
              "      <td>1145</td>\n",
              "      <td>1053</td>\n",
              "      <td>0</td>\n",
              "      <td>2198</td>\n",
              "      <td>1</td>\n",
              "      <td>0</td>\n",
              "      <td>2</td>\n",
              "      <td>1</td>\n",
              "      <td>4</td>\n",
              "      <td>1</td>\n",
              "      <td>Gd</td>\n",
              "      <td>9</td>\n",
              "      <td>Typ</td>\n",
              "      <td>1</td>\n",
              "      <td>TA</td>\n",
              "      <td>Attchd</td>\n",
              "      <td>2000.0</td>\n",
              "      <td>RFn</td>\n",
              "      <td>3</td>\n",
              "      <td>836</td>\n",
              "      <td>TA</td>\n",
              "      <td>TA</td>\n",
              "      <td>Y</td>\n",
              "      <td>192</td>\n",
              "      <td>84</td>\n",
              "      <td>0</td>\n",
              "      <td>0</td>\n",
              "      <td>0</td>\n",
              "      <td>0</td>\n",
              "      <td>NaN</td>\n",
              "      <td>NaN</td>\n",
              "      <td>NaN</td>\n",
              "      <td>0</td>\n",
              "      <td>12</td>\n",
              "      <td>2008</td>\n",
              "      <td>WD</td>\n",
              "      <td>Normal</td>\n",
              "      <td>250000</td>\n",
              "    </tr>\n",
              "  </tbody>\n",
              "</table>\n",
              "<p>5 rows × 81 columns</p>\n",
              "</div>"
            ],
            "text/plain": [
              "   Id  MSSubClass MSZoning  ...  SaleType  SaleCondition SalePrice\n",
              "0   1          60       RL  ...        WD         Normal    208500\n",
              "1   2          20       RL  ...        WD         Normal    181500\n",
              "2   3          60       RL  ...        WD         Normal    223500\n",
              "3   4          70       RL  ...        WD        Abnorml    140000\n",
              "4   5          60       RL  ...        WD         Normal    250000\n",
              "\n",
              "[5 rows x 81 columns]"
            ]
          },
          "metadata": {
            "tags": []
          },
          "execution_count": 3
        }
      ]
    },
    {
      "cell_type": "code",
      "metadata": {
        "id": "E3AIYkfZFBBB",
        "colab_type": "code",
        "colab": {
          "base_uri": "https://localhost:8080/",
          "height": 34
        },
        "outputId": "d8cabd14-1475-43a4-916c-9a676425281a"
      },
      "source": [
        "len(df)"
      ],
      "execution_count": 4,
      "outputs": [
        {
          "output_type": "execute_result",
          "data": {
            "text/plain": [
              "1460"
            ]
          },
          "metadata": {
            "tags": []
          },
          "execution_count": 4
        }
      ]
    },
    {
      "cell_type": "markdown",
      "metadata": {
        "id": "4p8hKw7lJDFw",
        "colab_type": "text"
      },
      "source": [
        "### 3.1) Handling missing values"
      ]
    },
    {
      "cell_type": "code",
      "metadata": {
        "id": "7IgmWggTEDtW",
        "colab_type": "code",
        "colab": {
          "base_uri": "https://localhost:8080/",
          "height": 1000
        },
        "outputId": "8db40d30-3e9a-47a8-859c-18f81cd1012d"
      },
      "source": [
        "# Checking for null values\n",
        "\n",
        "cols = np.array(df.columns)\n",
        "for col in cols:\n",
        "  print(col , df[col].isnull().sum())"
      ],
      "execution_count": 5,
      "outputs": [
        {
          "output_type": "stream",
          "text": [
            "Id 0\n",
            "MSSubClass 0\n",
            "MSZoning 0\n",
            "LotFrontage 259\n",
            "LotArea 0\n",
            "Street 0\n",
            "Alley 1369\n",
            "LotShape 0\n",
            "LandContour 0\n",
            "Utilities 0\n",
            "LotConfig 0\n",
            "LandSlope 0\n",
            "Neighborhood 0\n",
            "Condition1 0\n",
            "Condition2 0\n",
            "BldgType 0\n",
            "HouseStyle 0\n",
            "OverallQual 0\n",
            "OverallCond 0\n",
            "YearBuilt 0\n",
            "YearRemodAdd 0\n",
            "RoofStyle 0\n",
            "RoofMatl 0\n",
            "Exterior1st 0\n",
            "Exterior2nd 0\n",
            "MasVnrType 8\n",
            "MasVnrArea 8\n",
            "ExterQual 0\n",
            "ExterCond 0\n",
            "Foundation 0\n",
            "BsmtQual 37\n",
            "BsmtCond 37\n",
            "BsmtExposure 38\n",
            "BsmtFinType1 37\n",
            "BsmtFinSF1 0\n",
            "BsmtFinType2 38\n",
            "BsmtFinSF2 0\n",
            "BsmtUnfSF 0\n",
            "TotalBsmtSF 0\n",
            "Heating 0\n",
            "HeatingQC 0\n",
            "CentralAir 0\n",
            "Electrical 1\n",
            "1stFlrSF 0\n",
            "2ndFlrSF 0\n",
            "LowQualFinSF 0\n",
            "GrLivArea 0\n",
            "BsmtFullBath 0\n",
            "BsmtHalfBath 0\n",
            "FullBath 0\n",
            "HalfBath 0\n",
            "BedroomAbvGr 0\n",
            "KitchenAbvGr 0\n",
            "KitchenQual 0\n",
            "TotRmsAbvGrd 0\n",
            "Functional 0\n",
            "Fireplaces 0\n",
            "FireplaceQu 690\n",
            "GarageType 81\n",
            "GarageYrBlt 81\n",
            "GarageFinish 81\n",
            "GarageCars 0\n",
            "GarageArea 0\n",
            "GarageQual 81\n",
            "GarageCond 81\n",
            "PavedDrive 0\n",
            "WoodDeckSF 0\n",
            "OpenPorchSF 0\n",
            "EnclosedPorch 0\n",
            "3SsnPorch 0\n",
            "ScreenPorch 0\n",
            "PoolArea 0\n",
            "PoolQC 1453\n",
            "Fence 1179\n",
            "MiscFeature 1406\n",
            "MiscVal 0\n",
            "MoSold 0\n",
            "YrSold 0\n",
            "SaleType 0\n",
            "SaleCondition 0\n",
            "SalePrice 0\n"
          ],
          "name": "stdout"
        }
      ]
    },
    {
      "cell_type": "code",
      "metadata": {
        "id": "qhQZcjxFEIsn",
        "colab_type": "code",
        "colab": {
          "base_uri": "https://localhost:8080/",
          "height": 34
        },
        "outputId": "483b8dce-7ebc-4b63-d6d2-1536f27874e5"
      },
      "source": [
        "# Removing the columns that contains entries above 500 as Nan.\n",
        "\n",
        "cols_to_del = []\n",
        "for col in cols:\n",
        "  if df[col].isnull().sum() > 500:\n",
        "    cols_to_del.append(col)\n",
        "\n",
        "cols_to_del"
      ],
      "execution_count": 6,
      "outputs": [
        {
          "output_type": "execute_result",
          "data": {
            "text/plain": [
              "['Alley', 'FireplaceQu', 'PoolQC', 'Fence', 'MiscFeature']"
            ]
          },
          "metadata": {
            "tags": []
          },
          "execution_count": 6
        }
      ]
    },
    {
      "cell_type": "code",
      "metadata": {
        "id": "E7fRti46F_NI",
        "colab_type": "code",
        "colab": {}
      },
      "source": [
        "for col in cols_to_del:\n",
        "  df.drop(col, axis = 1, inplace = True)"
      ],
      "execution_count": 0,
      "outputs": []
    },
    {
      "cell_type": "code",
      "metadata": {
        "id": "Byb8gIM2GNNA",
        "colab_type": "code",
        "colab": {}
      },
      "source": [
        "cols = np.array(df.columns)\n",
        "cols_to_fill_missing_values = []\n",
        "for col in cols:\n",
        "  #print(col,  df[col].isnull().sum())\n",
        "  if df[col].isnull().sum() > 0:\n",
        "    cols_to_fill_missing_values.append((col, df[col].dtype))"
      ],
      "execution_count": 0,
      "outputs": []
    },
    {
      "cell_type": "code",
      "metadata": {
        "id": "icrBbRw8GYQx",
        "colab_type": "code",
        "colab": {
          "base_uri": "https://localhost:8080/",
          "height": 1000
        },
        "outputId": "36d67aac-2809-43e3-c5ca-e72b0e4285c6"
      },
      "source": [
        "df.info()"
      ],
      "execution_count": 9,
      "outputs": [
        {
          "output_type": "stream",
          "text": [
            "<class 'pandas.core.frame.DataFrame'>\n",
            "RangeIndex: 1460 entries, 0 to 1459\n",
            "Data columns (total 76 columns):\n",
            " #   Column         Non-Null Count  Dtype  \n",
            "---  ------         --------------  -----  \n",
            " 0   Id             1460 non-null   int64  \n",
            " 1   MSSubClass     1460 non-null   int64  \n",
            " 2   MSZoning       1460 non-null   object \n",
            " 3   LotFrontage    1201 non-null   float64\n",
            " 4   LotArea        1460 non-null   int64  \n",
            " 5   Street         1460 non-null   object \n",
            " 6   LotShape       1460 non-null   object \n",
            " 7   LandContour    1460 non-null   object \n",
            " 8   Utilities      1460 non-null   object \n",
            " 9   LotConfig      1460 non-null   object \n",
            " 10  LandSlope      1460 non-null   object \n",
            " 11  Neighborhood   1460 non-null   object \n",
            " 12  Condition1     1460 non-null   object \n",
            " 13  Condition2     1460 non-null   object \n",
            " 14  BldgType       1460 non-null   object \n",
            " 15  HouseStyle     1460 non-null   object \n",
            " 16  OverallQual    1460 non-null   int64  \n",
            " 17  OverallCond    1460 non-null   int64  \n",
            " 18  YearBuilt      1460 non-null   int64  \n",
            " 19  YearRemodAdd   1460 non-null   int64  \n",
            " 20  RoofStyle      1460 non-null   object \n",
            " 21  RoofMatl       1460 non-null   object \n",
            " 22  Exterior1st    1460 non-null   object \n",
            " 23  Exterior2nd    1460 non-null   object \n",
            " 24  MasVnrType     1452 non-null   object \n",
            " 25  MasVnrArea     1452 non-null   float64\n",
            " 26  ExterQual      1460 non-null   object \n",
            " 27  ExterCond      1460 non-null   object \n",
            " 28  Foundation     1460 non-null   object \n",
            " 29  BsmtQual       1423 non-null   object \n",
            " 30  BsmtCond       1423 non-null   object \n",
            " 31  BsmtExposure   1422 non-null   object \n",
            " 32  BsmtFinType1   1423 non-null   object \n",
            " 33  BsmtFinSF1     1460 non-null   int64  \n",
            " 34  BsmtFinType2   1422 non-null   object \n",
            " 35  BsmtFinSF2     1460 non-null   int64  \n",
            " 36  BsmtUnfSF      1460 non-null   int64  \n",
            " 37  TotalBsmtSF    1460 non-null   int64  \n",
            " 38  Heating        1460 non-null   object \n",
            " 39  HeatingQC      1460 non-null   object \n",
            " 40  CentralAir     1460 non-null   object \n",
            " 41  Electrical     1459 non-null   object \n",
            " 42  1stFlrSF       1460 non-null   int64  \n",
            " 43  2ndFlrSF       1460 non-null   int64  \n",
            " 44  LowQualFinSF   1460 non-null   int64  \n",
            " 45  GrLivArea      1460 non-null   int64  \n",
            " 46  BsmtFullBath   1460 non-null   int64  \n",
            " 47  BsmtHalfBath   1460 non-null   int64  \n",
            " 48  FullBath       1460 non-null   int64  \n",
            " 49  HalfBath       1460 non-null   int64  \n",
            " 50  BedroomAbvGr   1460 non-null   int64  \n",
            " 51  KitchenAbvGr   1460 non-null   int64  \n",
            " 52  KitchenQual    1460 non-null   object \n",
            " 53  TotRmsAbvGrd   1460 non-null   int64  \n",
            " 54  Functional     1460 non-null   object \n",
            " 55  Fireplaces     1460 non-null   int64  \n",
            " 56  GarageType     1379 non-null   object \n",
            " 57  GarageYrBlt    1379 non-null   float64\n",
            " 58  GarageFinish   1379 non-null   object \n",
            " 59  GarageCars     1460 non-null   int64  \n",
            " 60  GarageArea     1460 non-null   int64  \n",
            " 61  GarageQual     1379 non-null   object \n",
            " 62  GarageCond     1379 non-null   object \n",
            " 63  PavedDrive     1460 non-null   object \n",
            " 64  WoodDeckSF     1460 non-null   int64  \n",
            " 65  OpenPorchSF    1460 non-null   int64  \n",
            " 66  EnclosedPorch  1460 non-null   int64  \n",
            " 67  3SsnPorch      1460 non-null   int64  \n",
            " 68  ScreenPorch    1460 non-null   int64  \n",
            " 69  PoolArea       1460 non-null   int64  \n",
            " 70  MiscVal        1460 non-null   int64  \n",
            " 71  MoSold         1460 non-null   int64  \n",
            " 72  YrSold         1460 non-null   int64  \n",
            " 73  SaleType       1460 non-null   object \n",
            " 74  SaleCondition  1460 non-null   object \n",
            " 75  SalePrice      1460 non-null   int64  \n",
            "dtypes: float64(3), int64(35), object(38)\n",
            "memory usage: 867.0+ KB\n"
          ],
          "name": "stdout"
        }
      ]
    },
    {
      "cell_type": "code",
      "metadata": {
        "id": "FXVTvBqyGxu2",
        "colab_type": "code",
        "colab": {
          "base_uri": "https://localhost:8080/",
          "height": 255
        },
        "outputId": "dde4e3ed-102c-4a6e-be4f-577845be584a"
      },
      "source": [
        "cols_to_fill_missing_values"
      ],
      "execution_count": 10,
      "outputs": [
        {
          "output_type": "execute_result",
          "data": {
            "text/plain": [
              "[('LotFrontage', dtype('float64')),\n",
              " ('MasVnrType', dtype('O')),\n",
              " ('MasVnrArea', dtype('float64')),\n",
              " ('BsmtQual', dtype('O')),\n",
              " ('BsmtCond', dtype('O')),\n",
              " ('BsmtExposure', dtype('O')),\n",
              " ('BsmtFinType1', dtype('O')),\n",
              " ('BsmtFinType2', dtype('O')),\n",
              " ('Electrical', dtype('O')),\n",
              " ('GarageType', dtype('O')),\n",
              " ('GarageYrBlt', dtype('float64')),\n",
              " ('GarageFinish', dtype('O')),\n",
              " ('GarageQual', dtype('O')),\n",
              " ('GarageCond', dtype('O'))]"
            ]
          },
          "metadata": {
            "tags": []
          },
          "execution_count": 10
        }
      ]
    },
    {
      "cell_type": "markdown",
      "metadata": {
        "id": "rFvGFBtqJtwM",
        "colab_type": "text"
      },
      "source": [
        "- Now, fill all the columns other than Object Datatype by the mean of the remaining values.\n",
        "- Deleting all the rows that have null values of object datatype."
      ]
    },
    {
      "cell_type": "code",
      "metadata": {
        "id": "lZ4szMCbHWLf",
        "colab_type": "code",
        "colab": {}
      },
      "source": [
        "df['LotFrontage'].fillna(df['LotFrontage'].mean(),inplace = True)\n",
        "df['MasVnrArea'].fillna(df['MasVnrArea'].mean(),inplace = True)\n",
        "df['GarageYrBlt'].fillna(df['GarageYrBlt'].mean(),inplace = True)\n",
        "df.dropna(inplace=True)\n"
      ],
      "execution_count": 0,
      "outputs": []
    },
    {
      "cell_type": "code",
      "metadata": {
        "id": "_BI3Nu9cIn2H",
        "colab_type": "code",
        "colab": {
          "base_uri": "https://localhost:8080/",
          "height": 34
        },
        "outputId": "bee6fb70-713a-4c1e-835b-04bb7b74ce54"
      },
      "source": [
        "\"\"\"\n",
        "cols = np.array(df.columns)\n",
        "for col in cols:\n",
        "  print(col, df[col].isnull().sum())\n",
        "\n",
        "\"\"\"  "
      ],
      "execution_count": 12,
      "outputs": [
        {
          "output_type": "execute_result",
          "data": {
            "text/plain": [
              "'\\ncols = np.array(df.columns)\\nfor col in cols:\\n  print(col, df[col].isnull().sum())\\n\\n'"
            ]
          },
          "metadata": {
            "tags": []
          },
          "execution_count": 12
        }
      ]
    },
    {
      "cell_type": "markdown",
      "metadata": {
        "id": "p1gJHw3fKmUF",
        "colab_type": "text"
      },
      "source": [
        "### 3.2) Handling of categorical, continuous and label values\n",
        "\n"
      ]
    },
    {
      "cell_type": "code",
      "metadata": {
        "id": "AV-T3YMnK8Pa",
        "colab_type": "code",
        "colab": {
          "base_uri": "https://localhost:8080/",
          "height": 224
        },
        "outputId": "94aeec0f-4354-4350-e565-ee70bd719472"
      },
      "source": [
        "df.head()"
      ],
      "execution_count": 13,
      "outputs": [
        {
          "output_type": "execute_result",
          "data": {
            "text/html": [
              "<div>\n",
              "<style scoped>\n",
              "    .dataframe tbody tr th:only-of-type {\n",
              "        vertical-align: middle;\n",
              "    }\n",
              "\n",
              "    .dataframe tbody tr th {\n",
              "        vertical-align: top;\n",
              "    }\n",
              "\n",
              "    .dataframe thead th {\n",
              "        text-align: right;\n",
              "    }\n",
              "</style>\n",
              "<table border=\"1\" class=\"dataframe\">\n",
              "  <thead>\n",
              "    <tr style=\"text-align: right;\">\n",
              "      <th></th>\n",
              "      <th>Id</th>\n",
              "      <th>MSSubClass</th>\n",
              "      <th>MSZoning</th>\n",
              "      <th>LotFrontage</th>\n",
              "      <th>LotArea</th>\n",
              "      <th>Street</th>\n",
              "      <th>LotShape</th>\n",
              "      <th>LandContour</th>\n",
              "      <th>Utilities</th>\n",
              "      <th>LotConfig</th>\n",
              "      <th>LandSlope</th>\n",
              "      <th>Neighborhood</th>\n",
              "      <th>Condition1</th>\n",
              "      <th>Condition2</th>\n",
              "      <th>BldgType</th>\n",
              "      <th>HouseStyle</th>\n",
              "      <th>OverallQual</th>\n",
              "      <th>OverallCond</th>\n",
              "      <th>YearBuilt</th>\n",
              "      <th>YearRemodAdd</th>\n",
              "      <th>RoofStyle</th>\n",
              "      <th>RoofMatl</th>\n",
              "      <th>Exterior1st</th>\n",
              "      <th>Exterior2nd</th>\n",
              "      <th>MasVnrType</th>\n",
              "      <th>MasVnrArea</th>\n",
              "      <th>ExterQual</th>\n",
              "      <th>ExterCond</th>\n",
              "      <th>Foundation</th>\n",
              "      <th>BsmtQual</th>\n",
              "      <th>BsmtCond</th>\n",
              "      <th>BsmtExposure</th>\n",
              "      <th>BsmtFinType1</th>\n",
              "      <th>BsmtFinSF1</th>\n",
              "      <th>BsmtFinType2</th>\n",
              "      <th>BsmtFinSF2</th>\n",
              "      <th>BsmtUnfSF</th>\n",
              "      <th>TotalBsmtSF</th>\n",
              "      <th>Heating</th>\n",
              "      <th>HeatingQC</th>\n",
              "      <th>CentralAir</th>\n",
              "      <th>Electrical</th>\n",
              "      <th>1stFlrSF</th>\n",
              "      <th>2ndFlrSF</th>\n",
              "      <th>LowQualFinSF</th>\n",
              "      <th>GrLivArea</th>\n",
              "      <th>BsmtFullBath</th>\n",
              "      <th>BsmtHalfBath</th>\n",
              "      <th>FullBath</th>\n",
              "      <th>HalfBath</th>\n",
              "      <th>BedroomAbvGr</th>\n",
              "      <th>KitchenAbvGr</th>\n",
              "      <th>KitchenQual</th>\n",
              "      <th>TotRmsAbvGrd</th>\n",
              "      <th>Functional</th>\n",
              "      <th>Fireplaces</th>\n",
              "      <th>GarageType</th>\n",
              "      <th>GarageYrBlt</th>\n",
              "      <th>GarageFinish</th>\n",
              "      <th>GarageCars</th>\n",
              "      <th>GarageArea</th>\n",
              "      <th>GarageQual</th>\n",
              "      <th>GarageCond</th>\n",
              "      <th>PavedDrive</th>\n",
              "      <th>WoodDeckSF</th>\n",
              "      <th>OpenPorchSF</th>\n",
              "      <th>EnclosedPorch</th>\n",
              "      <th>3SsnPorch</th>\n",
              "      <th>ScreenPorch</th>\n",
              "      <th>PoolArea</th>\n",
              "      <th>MiscVal</th>\n",
              "      <th>MoSold</th>\n",
              "      <th>YrSold</th>\n",
              "      <th>SaleType</th>\n",
              "      <th>SaleCondition</th>\n",
              "      <th>SalePrice</th>\n",
              "    </tr>\n",
              "  </thead>\n",
              "  <tbody>\n",
              "    <tr>\n",
              "      <th>0</th>\n",
              "      <td>1</td>\n",
              "      <td>60</td>\n",
              "      <td>RL</td>\n",
              "      <td>65.0</td>\n",
              "      <td>8450</td>\n",
              "      <td>Pave</td>\n",
              "      <td>Reg</td>\n",
              "      <td>Lvl</td>\n",
              "      <td>AllPub</td>\n",
              "      <td>Inside</td>\n",
              "      <td>Gtl</td>\n",
              "      <td>CollgCr</td>\n",
              "      <td>Norm</td>\n",
              "      <td>Norm</td>\n",
              "      <td>1Fam</td>\n",
              "      <td>2Story</td>\n",
              "      <td>7</td>\n",
              "      <td>5</td>\n",
              "      <td>2003</td>\n",
              "      <td>2003</td>\n",
              "      <td>Gable</td>\n",
              "      <td>CompShg</td>\n",
              "      <td>VinylSd</td>\n",
              "      <td>VinylSd</td>\n",
              "      <td>BrkFace</td>\n",
              "      <td>196.0</td>\n",
              "      <td>Gd</td>\n",
              "      <td>TA</td>\n",
              "      <td>PConc</td>\n",
              "      <td>Gd</td>\n",
              "      <td>TA</td>\n",
              "      <td>No</td>\n",
              "      <td>GLQ</td>\n",
              "      <td>706</td>\n",
              "      <td>Unf</td>\n",
              "      <td>0</td>\n",
              "      <td>150</td>\n",
              "      <td>856</td>\n",
              "      <td>GasA</td>\n",
              "      <td>Ex</td>\n",
              "      <td>Y</td>\n",
              "      <td>SBrkr</td>\n",
              "      <td>856</td>\n",
              "      <td>854</td>\n",
              "      <td>0</td>\n",
              "      <td>1710</td>\n",
              "      <td>1</td>\n",
              "      <td>0</td>\n",
              "      <td>2</td>\n",
              "      <td>1</td>\n",
              "      <td>3</td>\n",
              "      <td>1</td>\n",
              "      <td>Gd</td>\n",
              "      <td>8</td>\n",
              "      <td>Typ</td>\n",
              "      <td>0</td>\n",
              "      <td>Attchd</td>\n",
              "      <td>2003.0</td>\n",
              "      <td>RFn</td>\n",
              "      <td>2</td>\n",
              "      <td>548</td>\n",
              "      <td>TA</td>\n",
              "      <td>TA</td>\n",
              "      <td>Y</td>\n",
              "      <td>0</td>\n",
              "      <td>61</td>\n",
              "      <td>0</td>\n",
              "      <td>0</td>\n",
              "      <td>0</td>\n",
              "      <td>0</td>\n",
              "      <td>0</td>\n",
              "      <td>2</td>\n",
              "      <td>2008</td>\n",
              "      <td>WD</td>\n",
              "      <td>Normal</td>\n",
              "      <td>208500</td>\n",
              "    </tr>\n",
              "    <tr>\n",
              "      <th>1</th>\n",
              "      <td>2</td>\n",
              "      <td>20</td>\n",
              "      <td>RL</td>\n",
              "      <td>80.0</td>\n",
              "      <td>9600</td>\n",
              "      <td>Pave</td>\n",
              "      <td>Reg</td>\n",
              "      <td>Lvl</td>\n",
              "      <td>AllPub</td>\n",
              "      <td>FR2</td>\n",
              "      <td>Gtl</td>\n",
              "      <td>Veenker</td>\n",
              "      <td>Feedr</td>\n",
              "      <td>Norm</td>\n",
              "      <td>1Fam</td>\n",
              "      <td>1Story</td>\n",
              "      <td>6</td>\n",
              "      <td>8</td>\n",
              "      <td>1976</td>\n",
              "      <td>1976</td>\n",
              "      <td>Gable</td>\n",
              "      <td>CompShg</td>\n",
              "      <td>MetalSd</td>\n",
              "      <td>MetalSd</td>\n",
              "      <td>None</td>\n",
              "      <td>0.0</td>\n",
              "      <td>TA</td>\n",
              "      <td>TA</td>\n",
              "      <td>CBlock</td>\n",
              "      <td>Gd</td>\n",
              "      <td>TA</td>\n",
              "      <td>Gd</td>\n",
              "      <td>ALQ</td>\n",
              "      <td>978</td>\n",
              "      <td>Unf</td>\n",
              "      <td>0</td>\n",
              "      <td>284</td>\n",
              "      <td>1262</td>\n",
              "      <td>GasA</td>\n",
              "      <td>Ex</td>\n",
              "      <td>Y</td>\n",
              "      <td>SBrkr</td>\n",
              "      <td>1262</td>\n",
              "      <td>0</td>\n",
              "      <td>0</td>\n",
              "      <td>1262</td>\n",
              "      <td>0</td>\n",
              "      <td>1</td>\n",
              "      <td>2</td>\n",
              "      <td>0</td>\n",
              "      <td>3</td>\n",
              "      <td>1</td>\n",
              "      <td>TA</td>\n",
              "      <td>6</td>\n",
              "      <td>Typ</td>\n",
              "      <td>1</td>\n",
              "      <td>Attchd</td>\n",
              "      <td>1976.0</td>\n",
              "      <td>RFn</td>\n",
              "      <td>2</td>\n",
              "      <td>460</td>\n",
              "      <td>TA</td>\n",
              "      <td>TA</td>\n",
              "      <td>Y</td>\n",
              "      <td>298</td>\n",
              "      <td>0</td>\n",
              "      <td>0</td>\n",
              "      <td>0</td>\n",
              "      <td>0</td>\n",
              "      <td>0</td>\n",
              "      <td>0</td>\n",
              "      <td>5</td>\n",
              "      <td>2007</td>\n",
              "      <td>WD</td>\n",
              "      <td>Normal</td>\n",
              "      <td>181500</td>\n",
              "    </tr>\n",
              "    <tr>\n",
              "      <th>2</th>\n",
              "      <td>3</td>\n",
              "      <td>60</td>\n",
              "      <td>RL</td>\n",
              "      <td>68.0</td>\n",
              "      <td>11250</td>\n",
              "      <td>Pave</td>\n",
              "      <td>IR1</td>\n",
              "      <td>Lvl</td>\n",
              "      <td>AllPub</td>\n",
              "      <td>Inside</td>\n",
              "      <td>Gtl</td>\n",
              "      <td>CollgCr</td>\n",
              "      <td>Norm</td>\n",
              "      <td>Norm</td>\n",
              "      <td>1Fam</td>\n",
              "      <td>2Story</td>\n",
              "      <td>7</td>\n",
              "      <td>5</td>\n",
              "      <td>2001</td>\n",
              "      <td>2002</td>\n",
              "      <td>Gable</td>\n",
              "      <td>CompShg</td>\n",
              "      <td>VinylSd</td>\n",
              "      <td>VinylSd</td>\n",
              "      <td>BrkFace</td>\n",
              "      <td>162.0</td>\n",
              "      <td>Gd</td>\n",
              "      <td>TA</td>\n",
              "      <td>PConc</td>\n",
              "      <td>Gd</td>\n",
              "      <td>TA</td>\n",
              "      <td>Mn</td>\n",
              "      <td>GLQ</td>\n",
              "      <td>486</td>\n",
              "      <td>Unf</td>\n",
              "      <td>0</td>\n",
              "      <td>434</td>\n",
              "      <td>920</td>\n",
              "      <td>GasA</td>\n",
              "      <td>Ex</td>\n",
              "      <td>Y</td>\n",
              "      <td>SBrkr</td>\n",
              "      <td>920</td>\n",
              "      <td>866</td>\n",
              "      <td>0</td>\n",
              "      <td>1786</td>\n",
              "      <td>1</td>\n",
              "      <td>0</td>\n",
              "      <td>2</td>\n",
              "      <td>1</td>\n",
              "      <td>3</td>\n",
              "      <td>1</td>\n",
              "      <td>Gd</td>\n",
              "      <td>6</td>\n",
              "      <td>Typ</td>\n",
              "      <td>1</td>\n",
              "      <td>Attchd</td>\n",
              "      <td>2001.0</td>\n",
              "      <td>RFn</td>\n",
              "      <td>2</td>\n",
              "      <td>608</td>\n",
              "      <td>TA</td>\n",
              "      <td>TA</td>\n",
              "      <td>Y</td>\n",
              "      <td>0</td>\n",
              "      <td>42</td>\n",
              "      <td>0</td>\n",
              "      <td>0</td>\n",
              "      <td>0</td>\n",
              "      <td>0</td>\n",
              "      <td>0</td>\n",
              "      <td>9</td>\n",
              "      <td>2008</td>\n",
              "      <td>WD</td>\n",
              "      <td>Normal</td>\n",
              "      <td>223500</td>\n",
              "    </tr>\n",
              "    <tr>\n",
              "      <th>3</th>\n",
              "      <td>4</td>\n",
              "      <td>70</td>\n",
              "      <td>RL</td>\n",
              "      <td>60.0</td>\n",
              "      <td>9550</td>\n",
              "      <td>Pave</td>\n",
              "      <td>IR1</td>\n",
              "      <td>Lvl</td>\n",
              "      <td>AllPub</td>\n",
              "      <td>Corner</td>\n",
              "      <td>Gtl</td>\n",
              "      <td>Crawfor</td>\n",
              "      <td>Norm</td>\n",
              "      <td>Norm</td>\n",
              "      <td>1Fam</td>\n",
              "      <td>2Story</td>\n",
              "      <td>7</td>\n",
              "      <td>5</td>\n",
              "      <td>1915</td>\n",
              "      <td>1970</td>\n",
              "      <td>Gable</td>\n",
              "      <td>CompShg</td>\n",
              "      <td>Wd Sdng</td>\n",
              "      <td>Wd Shng</td>\n",
              "      <td>None</td>\n",
              "      <td>0.0</td>\n",
              "      <td>TA</td>\n",
              "      <td>TA</td>\n",
              "      <td>BrkTil</td>\n",
              "      <td>TA</td>\n",
              "      <td>Gd</td>\n",
              "      <td>No</td>\n",
              "      <td>ALQ</td>\n",
              "      <td>216</td>\n",
              "      <td>Unf</td>\n",
              "      <td>0</td>\n",
              "      <td>540</td>\n",
              "      <td>756</td>\n",
              "      <td>GasA</td>\n",
              "      <td>Gd</td>\n",
              "      <td>Y</td>\n",
              "      <td>SBrkr</td>\n",
              "      <td>961</td>\n",
              "      <td>756</td>\n",
              "      <td>0</td>\n",
              "      <td>1717</td>\n",
              "      <td>1</td>\n",
              "      <td>0</td>\n",
              "      <td>1</td>\n",
              "      <td>0</td>\n",
              "      <td>3</td>\n",
              "      <td>1</td>\n",
              "      <td>Gd</td>\n",
              "      <td>7</td>\n",
              "      <td>Typ</td>\n",
              "      <td>1</td>\n",
              "      <td>Detchd</td>\n",
              "      <td>1998.0</td>\n",
              "      <td>Unf</td>\n",
              "      <td>3</td>\n",
              "      <td>642</td>\n",
              "      <td>TA</td>\n",
              "      <td>TA</td>\n",
              "      <td>Y</td>\n",
              "      <td>0</td>\n",
              "      <td>35</td>\n",
              "      <td>272</td>\n",
              "      <td>0</td>\n",
              "      <td>0</td>\n",
              "      <td>0</td>\n",
              "      <td>0</td>\n",
              "      <td>2</td>\n",
              "      <td>2006</td>\n",
              "      <td>WD</td>\n",
              "      <td>Abnorml</td>\n",
              "      <td>140000</td>\n",
              "    </tr>\n",
              "    <tr>\n",
              "      <th>4</th>\n",
              "      <td>5</td>\n",
              "      <td>60</td>\n",
              "      <td>RL</td>\n",
              "      <td>84.0</td>\n",
              "      <td>14260</td>\n",
              "      <td>Pave</td>\n",
              "      <td>IR1</td>\n",
              "      <td>Lvl</td>\n",
              "      <td>AllPub</td>\n",
              "      <td>FR2</td>\n",
              "      <td>Gtl</td>\n",
              "      <td>NoRidge</td>\n",
              "      <td>Norm</td>\n",
              "      <td>Norm</td>\n",
              "      <td>1Fam</td>\n",
              "      <td>2Story</td>\n",
              "      <td>8</td>\n",
              "      <td>5</td>\n",
              "      <td>2000</td>\n",
              "      <td>2000</td>\n",
              "      <td>Gable</td>\n",
              "      <td>CompShg</td>\n",
              "      <td>VinylSd</td>\n",
              "      <td>VinylSd</td>\n",
              "      <td>BrkFace</td>\n",
              "      <td>350.0</td>\n",
              "      <td>Gd</td>\n",
              "      <td>TA</td>\n",
              "      <td>PConc</td>\n",
              "      <td>Gd</td>\n",
              "      <td>TA</td>\n",
              "      <td>Av</td>\n",
              "      <td>GLQ</td>\n",
              "      <td>655</td>\n",
              "      <td>Unf</td>\n",
              "      <td>0</td>\n",
              "      <td>490</td>\n",
              "      <td>1145</td>\n",
              "      <td>GasA</td>\n",
              "      <td>Ex</td>\n",
              "      <td>Y</td>\n",
              "      <td>SBrkr</td>\n",
              "      <td>1145</td>\n",
              "      <td>1053</td>\n",
              "      <td>0</td>\n",
              "      <td>2198</td>\n",
              "      <td>1</td>\n",
              "      <td>0</td>\n",
              "      <td>2</td>\n",
              "      <td>1</td>\n",
              "      <td>4</td>\n",
              "      <td>1</td>\n",
              "      <td>Gd</td>\n",
              "      <td>9</td>\n",
              "      <td>Typ</td>\n",
              "      <td>1</td>\n",
              "      <td>Attchd</td>\n",
              "      <td>2000.0</td>\n",
              "      <td>RFn</td>\n",
              "      <td>3</td>\n",
              "      <td>836</td>\n",
              "      <td>TA</td>\n",
              "      <td>TA</td>\n",
              "      <td>Y</td>\n",
              "      <td>192</td>\n",
              "      <td>84</td>\n",
              "      <td>0</td>\n",
              "      <td>0</td>\n",
              "      <td>0</td>\n",
              "      <td>0</td>\n",
              "      <td>0</td>\n",
              "      <td>12</td>\n",
              "      <td>2008</td>\n",
              "      <td>WD</td>\n",
              "      <td>Normal</td>\n",
              "      <td>250000</td>\n",
              "    </tr>\n",
              "  </tbody>\n",
              "</table>\n",
              "</div>"
            ],
            "text/plain": [
              "   Id  MSSubClass MSZoning  ...  SaleType  SaleCondition SalePrice\n",
              "0   1          60       RL  ...        WD         Normal    208500\n",
              "1   2          20       RL  ...        WD         Normal    181500\n",
              "2   3          60       RL  ...        WD         Normal    223500\n",
              "3   4          70       RL  ...        WD        Abnorml    140000\n",
              "4   5          60       RL  ...        WD         Normal    250000\n",
              "\n",
              "[5 rows x 76 columns]"
            ]
          },
          "metadata": {
            "tags": []
          },
          "execution_count": 13
        }
      ]
    },
    {
      "cell_type": "code",
      "metadata": {
        "id": "MkAZWlXvIz7a",
        "colab_type": "code",
        "colab": {
          "base_uri": "https://localhost:8080/",
          "height": 306
        },
        "outputId": "534b2af3-a72e-474b-fdf4-db99828e0808"
      },
      "source": [
        "df.columns"
      ],
      "execution_count": 14,
      "outputs": [
        {
          "output_type": "execute_result",
          "data": {
            "text/plain": [
              "Index(['Id', 'MSSubClass', 'MSZoning', 'LotFrontage', 'LotArea', 'Street',\n",
              "       'LotShape', 'LandContour', 'Utilities', 'LotConfig', 'LandSlope',\n",
              "       'Neighborhood', 'Condition1', 'Condition2', 'BldgType', 'HouseStyle',\n",
              "       'OverallQual', 'OverallCond', 'YearBuilt', 'YearRemodAdd', 'RoofStyle',\n",
              "       'RoofMatl', 'Exterior1st', 'Exterior2nd', 'MasVnrType', 'MasVnrArea',\n",
              "       'ExterQual', 'ExterCond', 'Foundation', 'BsmtQual', 'BsmtCond',\n",
              "       'BsmtExposure', 'BsmtFinType1', 'BsmtFinSF1', 'BsmtFinType2',\n",
              "       'BsmtFinSF2', 'BsmtUnfSF', 'TotalBsmtSF', 'Heating', 'HeatingQC',\n",
              "       'CentralAir', 'Electrical', '1stFlrSF', '2ndFlrSF', 'LowQualFinSF',\n",
              "       'GrLivArea', 'BsmtFullBath', 'BsmtHalfBath', 'FullBath', 'HalfBath',\n",
              "       'BedroomAbvGr', 'KitchenAbvGr', 'KitchenQual', 'TotRmsAbvGrd',\n",
              "       'Functional', 'Fireplaces', 'GarageType', 'GarageYrBlt', 'GarageFinish',\n",
              "       'GarageCars', 'GarageArea', 'GarageQual', 'GarageCond', 'PavedDrive',\n",
              "       'WoodDeckSF', 'OpenPorchSF', 'EnclosedPorch', '3SsnPorch',\n",
              "       'ScreenPorch', 'PoolArea', 'MiscVal', 'MoSold', 'YrSold', 'SaleType',\n",
              "       'SaleCondition', 'SalePrice'],\n",
              "      dtype='object')"
            ]
          },
          "metadata": {
            "tags": []
          },
          "execution_count": 14
        }
      ]
    },
    {
      "cell_type": "code",
      "metadata": {
        "id": "WztlJ3k3Kxt_",
        "colab_type": "code",
        "colab": {
          "base_uri": "https://localhost:8080/",
          "height": 323
        },
        "outputId": "3cf82425-bc93-4d69-e1b4-88a4e62a2792"
      },
      "source": [
        "cols = np.array(df.columns)\n",
        "print(len(cols))\n",
        "cols = np.delete(cols, [0,75])\n",
        "cols"
      ],
      "execution_count": 15,
      "outputs": [
        {
          "output_type": "stream",
          "text": [
            "76\n"
          ],
          "name": "stdout"
        },
        {
          "output_type": "execute_result",
          "data": {
            "text/plain": [
              "array(['MSSubClass', 'MSZoning', 'LotFrontage', 'LotArea', 'Street',\n",
              "       'LotShape', 'LandContour', 'Utilities', 'LotConfig', 'LandSlope',\n",
              "       'Neighborhood', 'Condition1', 'Condition2', 'BldgType',\n",
              "       'HouseStyle', 'OverallQual', 'OverallCond', 'YearBuilt',\n",
              "       'YearRemodAdd', 'RoofStyle', 'RoofMatl', 'Exterior1st',\n",
              "       'Exterior2nd', 'MasVnrType', 'MasVnrArea', 'ExterQual',\n",
              "       'ExterCond', 'Foundation', 'BsmtQual', 'BsmtCond', 'BsmtExposure',\n",
              "       'BsmtFinType1', 'BsmtFinSF1', 'BsmtFinType2', 'BsmtFinSF2',\n",
              "       'BsmtUnfSF', 'TotalBsmtSF', 'Heating', 'HeatingQC', 'CentralAir',\n",
              "       'Electrical', '1stFlrSF', '2ndFlrSF', 'LowQualFinSF', 'GrLivArea',\n",
              "       'BsmtFullBath', 'BsmtHalfBath', 'FullBath', 'HalfBath',\n",
              "       'BedroomAbvGr', 'KitchenAbvGr', 'KitchenQual', 'TotRmsAbvGrd',\n",
              "       'Functional', 'Fireplaces', 'GarageType', 'GarageYrBlt',\n",
              "       'GarageFinish', 'GarageCars', 'GarageArea', 'GarageQual',\n",
              "       'GarageCond', 'PavedDrive', 'WoodDeckSF', 'OpenPorchSF',\n",
              "       'EnclosedPorch', '3SsnPorch', 'ScreenPorch', 'PoolArea', 'MiscVal',\n",
              "       'MoSold', 'YrSold', 'SaleType', 'SaleCondition'], dtype=object)"
            ]
          },
          "metadata": {
            "tags": []
          },
          "execution_count": 15
        }
      ]
    },
    {
      "cell_type": "code",
      "metadata": {
        "id": "iooaAdQ9M0Io",
        "colab_type": "code",
        "colab": {
          "base_uri": "https://localhost:8080/",
          "height": 88
        },
        "outputId": "b0d49dff-2c1f-4a06-fa8e-dbd0b1081451"
      },
      "source": [
        "y_cols = ['SalePrice']\n",
        "categorical_cols = []\n",
        "continous_cols = []\n",
        "\n",
        "for col in cols:\n",
        "  if df[col].dtype == 'O':\n",
        "    categorical_cols.append(col)\n",
        "  else:\n",
        "    continous_cols.append(col)\n",
        "\n",
        "print(len(categorical_cols), categorical_cols)\n",
        "print(len(continous_cols), continous_cols)\n",
        "print(len(y_cols), y_cols)      "
      ],
      "execution_count": 17,
      "outputs": [
        {
          "output_type": "stream",
          "text": [
            "38 ['MSZoning', 'Street', 'LotShape', 'LandContour', 'Utilities', 'LotConfig', 'LandSlope', 'Neighborhood', 'Condition1', 'Condition2', 'BldgType', 'HouseStyle', 'RoofStyle', 'RoofMatl', 'Exterior1st', 'Exterior2nd', 'MasVnrType', 'ExterQual', 'ExterCond', 'Foundation', 'BsmtQual', 'BsmtCond', 'BsmtExposure', 'BsmtFinType1', 'BsmtFinType2', 'Heating', 'HeatingQC', 'CentralAir', 'Electrical', 'KitchenQual', 'Functional', 'GarageType', 'GarageFinish', 'GarageQual', 'GarageCond', 'PavedDrive', 'SaleType', 'SaleCondition']\n",
            "36 ['MSSubClass', 'LotFrontage', 'LotArea', 'OverallQual', 'OverallCond', 'YearBuilt', 'YearRemodAdd', 'MasVnrArea', 'BsmtFinSF1', 'BsmtFinSF2', 'BsmtUnfSF', 'TotalBsmtSF', '1stFlrSF', '2ndFlrSF', 'LowQualFinSF', 'GrLivArea', 'BsmtFullBath', 'BsmtHalfBath', 'FullBath', 'HalfBath', 'BedroomAbvGr', 'KitchenAbvGr', 'TotRmsAbvGrd', 'Fireplaces', 'GarageYrBlt', 'GarageCars', 'GarageArea', 'WoodDeckSF', 'OpenPorchSF', 'EnclosedPorch', '3SsnPorch', 'ScreenPorch', 'PoolArea', 'MiscVal', 'MoSold', 'YrSold']\n",
            "1 ['SalePrice']\n"
          ],
          "name": "stdout"
        }
      ]
    },
    {
      "cell_type": "code",
      "metadata": {
        "id": "hE2ZHv7aNg7i",
        "colab_type": "code",
        "colab": {}
      },
      "source": [
        "# Changing the datatype of categorical data to `category`\n",
        "\n",
        "for col in categorical_cols:\n",
        "  df[col] = df[col].astype('category')  "
      ],
      "execution_count": 0,
      "outputs": []
    },
    {
      "cell_type": "code",
      "metadata": {
        "id": "-4AaV0q5QOhR",
        "colab_type": "code",
        "colab": {
          "base_uri": "https://localhost:8080/",
          "height": 1000
        },
        "outputId": "28d673ea-2b54-4fd5-88b5-8284bde1005b"
      },
      "source": [
        "df.info()"
      ],
      "execution_count": 19,
      "outputs": [
        {
          "output_type": "stream",
          "text": [
            "<class 'pandas.core.frame.DataFrame'>\n",
            "Int64Index: 1338 entries, 0 to 1459\n",
            "Data columns (total 76 columns):\n",
            " #   Column         Non-Null Count  Dtype   \n",
            "---  ------         --------------  -----   \n",
            " 0   Id             1338 non-null   int64   \n",
            " 1   MSSubClass     1338 non-null   int64   \n",
            " 2   MSZoning       1338 non-null   category\n",
            " 3   LotFrontage    1338 non-null   float64 \n",
            " 4   LotArea        1338 non-null   int64   \n",
            " 5   Street         1338 non-null   category\n",
            " 6   LotShape       1338 non-null   category\n",
            " 7   LandContour    1338 non-null   category\n",
            " 8   Utilities      1338 non-null   category\n",
            " 9   LotConfig      1338 non-null   category\n",
            " 10  LandSlope      1338 non-null   category\n",
            " 11  Neighborhood   1338 non-null   category\n",
            " 12  Condition1     1338 non-null   category\n",
            " 13  Condition2     1338 non-null   category\n",
            " 14  BldgType       1338 non-null   category\n",
            " 15  HouseStyle     1338 non-null   category\n",
            " 16  OverallQual    1338 non-null   int64   \n",
            " 17  OverallCond    1338 non-null   int64   \n",
            " 18  YearBuilt      1338 non-null   int64   \n",
            " 19  YearRemodAdd   1338 non-null   int64   \n",
            " 20  RoofStyle      1338 non-null   category\n",
            " 21  RoofMatl       1338 non-null   category\n",
            " 22  Exterior1st    1338 non-null   category\n",
            " 23  Exterior2nd    1338 non-null   category\n",
            " 24  MasVnrType     1338 non-null   category\n",
            " 25  MasVnrArea     1338 non-null   float64 \n",
            " 26  ExterQual      1338 non-null   category\n",
            " 27  ExterCond      1338 non-null   category\n",
            " 28  Foundation     1338 non-null   category\n",
            " 29  BsmtQual       1338 non-null   category\n",
            " 30  BsmtCond       1338 non-null   category\n",
            " 31  BsmtExposure   1338 non-null   category\n",
            " 32  BsmtFinType1   1338 non-null   category\n",
            " 33  BsmtFinSF1     1338 non-null   int64   \n",
            " 34  BsmtFinType2   1338 non-null   category\n",
            " 35  BsmtFinSF2     1338 non-null   int64   \n",
            " 36  BsmtUnfSF      1338 non-null   int64   \n",
            " 37  TotalBsmtSF    1338 non-null   int64   \n",
            " 38  Heating        1338 non-null   category\n",
            " 39  HeatingQC      1338 non-null   category\n",
            " 40  CentralAir     1338 non-null   category\n",
            " 41  Electrical     1338 non-null   category\n",
            " 42  1stFlrSF       1338 non-null   int64   \n",
            " 43  2ndFlrSF       1338 non-null   int64   \n",
            " 44  LowQualFinSF   1338 non-null   int64   \n",
            " 45  GrLivArea      1338 non-null   int64   \n",
            " 46  BsmtFullBath   1338 non-null   int64   \n",
            " 47  BsmtHalfBath   1338 non-null   int64   \n",
            " 48  FullBath       1338 non-null   int64   \n",
            " 49  HalfBath       1338 non-null   int64   \n",
            " 50  BedroomAbvGr   1338 non-null   int64   \n",
            " 51  KitchenAbvGr   1338 non-null   int64   \n",
            " 52  KitchenQual    1338 non-null   category\n",
            " 53  TotRmsAbvGrd   1338 non-null   int64   \n",
            " 54  Functional     1338 non-null   category\n",
            " 55  Fireplaces     1338 non-null   int64   \n",
            " 56  GarageType     1338 non-null   category\n",
            " 57  GarageYrBlt    1338 non-null   float64 \n",
            " 58  GarageFinish   1338 non-null   category\n",
            " 59  GarageCars     1338 non-null   int64   \n",
            " 60  GarageArea     1338 non-null   int64   \n",
            " 61  GarageQual     1338 non-null   category\n",
            " 62  GarageCond     1338 non-null   category\n",
            " 63  PavedDrive     1338 non-null   category\n",
            " 64  WoodDeckSF     1338 non-null   int64   \n",
            " 65  OpenPorchSF    1338 non-null   int64   \n",
            " 66  EnclosedPorch  1338 non-null   int64   \n",
            " 67  3SsnPorch      1338 non-null   int64   \n",
            " 68  ScreenPorch    1338 non-null   int64   \n",
            " 69  PoolArea       1338 non-null   int64   \n",
            " 70  MiscVal        1338 non-null   int64   \n",
            " 71  MoSold         1338 non-null   int64   \n",
            " 72  YrSold         1338 non-null   int64   \n",
            " 73  SaleType       1338 non-null   category\n",
            " 74  SaleCondition  1338 non-null   category\n",
            " 75  SalePrice      1338 non-null   int64   \n",
            "dtypes: category(38), float64(3), int64(35)\n",
            "memory usage: 466.9 KB\n"
          ],
          "name": "stdout"
        }
      ]
    },
    {
      "cell_type": "markdown",
      "metadata": {
        "id": "Mk-Q2E0BRK04",
        "colab_type": "text"
      },
      "source": [
        "For Categorical Data"
      ]
    },
    {
      "cell_type": "code",
      "metadata": {
        "id": "xW52nvI0OwAK",
        "colab_type": "code",
        "colab": {
          "base_uri": "https://localhost:8080/",
          "height": 136
        },
        "outputId": "991aa127-ef94-4df0-a28d-da13e066cf58"
      },
      "source": [
        "cats = []\n",
        "for col in categorical_cols:\n",
        "  cats.append(df[col].cat.codes.values)\n",
        "cats = np.array(cats)  \n",
        "cats = cats.transpose()\n",
        "cats.shape, cats"
      ],
      "execution_count": 20,
      "outputs": [
        {
          "output_type": "execute_result",
          "data": {
            "text/plain": [
              "((1338, 38), array([[3, 1, 3, ..., 2, 8, 4],\n",
              "        [3, 1, 3, ..., 2, 8, 4],\n",
              "        [3, 1, 0, ..., 2, 8, 4],\n",
              "        ...,\n",
              "        [3, 1, 3, ..., 2, 8, 4],\n",
              "        [3, 1, 3, ..., 2, 8, 4],\n",
              "        [3, 1, 3, ..., 2, 8, 4]], dtype=int8))"
            ]
          },
          "metadata": {
            "tags": []
          },
          "execution_count": 20
        }
      ]
    },
    {
      "cell_type": "markdown",
      "metadata": {
        "id": "apU-VCDqRPHs",
        "colab_type": "text"
      },
      "source": [
        "For Continous Data"
      ]
    },
    {
      "cell_type": "code",
      "metadata": {
        "id": "FsM8gGHiPsvE",
        "colab_type": "code",
        "colab": {
          "base_uri": "https://localhost:8080/",
          "height": 255
        },
        "outputId": "5cabd3da-916f-487a-a688-394df4a6aa25"
      },
      "source": [
        "conts = []\n",
        "for col in continous_cols:\n",
        "  conts.append(df[col].values)\n",
        "\n",
        "conts = np.array(conts)\n",
        "conts = conts.transpose()\n",
        "conts.shape, conts"
      ],
      "execution_count": 21,
      "outputs": [
        {
          "output_type": "execute_result",
          "data": {
            "text/plain": [
              "((1338, 36),\n",
              " array([[6.000e+01, 6.500e+01, 8.450e+03, ..., 0.000e+00, 2.000e+00,\n",
              "         2.008e+03],\n",
              "        [2.000e+01, 8.000e+01, 9.600e+03, ..., 0.000e+00, 5.000e+00,\n",
              "         2.007e+03],\n",
              "        [6.000e+01, 6.800e+01, 1.125e+04, ..., 0.000e+00, 9.000e+00,\n",
              "         2.008e+03],\n",
              "        ...,\n",
              "        [7.000e+01, 6.600e+01, 9.042e+03, ..., 2.500e+03, 5.000e+00,\n",
              "         2.010e+03],\n",
              "        [2.000e+01, 6.800e+01, 9.717e+03, ..., 0.000e+00, 4.000e+00,\n",
              "         2.010e+03],\n",
              "        [2.000e+01, 7.500e+01, 9.937e+03, ..., 0.000e+00, 6.000e+00,\n",
              "         2.008e+03]]))"
            ]
          },
          "metadata": {
            "tags": []
          },
          "execution_count": 21
        }
      ]
    },
    {
      "cell_type": "markdown",
      "metadata": {
        "id": "ZxMHrFy7RuaZ",
        "colab_type": "text"
      },
      "source": [
        "Converting the categorical and continous data to one-hot encoder"
      ]
    },
    {
      "cell_type": "code",
      "metadata": {
        "id": "FHotfWQ7R1_5",
        "colab_type": "code",
        "colab": {
          "base_uri": "https://localhost:8080/",
          "height": 136
        },
        "outputId": "7acff4f3-1ed0-4415-95da-39bfd703a42a"
      },
      "source": [
        "categorical = np.stack(cats, axis=0)\n",
        "categorical"
      ],
      "execution_count": 22,
      "outputs": [
        {
          "output_type": "execute_result",
          "data": {
            "text/plain": [
              "array([[3, 1, 3, ..., 2, 8, 4],\n",
              "       [3, 1, 3, ..., 2, 8, 4],\n",
              "       [3, 1, 0, ..., 2, 8, 4],\n",
              "       ...,\n",
              "       [3, 1, 3, ..., 2, 8, 4],\n",
              "       [3, 1, 3, ..., 2, 8, 4],\n",
              "       [3, 1, 3, ..., 2, 8, 4]], dtype=int8)"
            ]
          },
          "metadata": {
            "tags": []
          },
          "execution_count": 22
        }
      ]
    },
    {
      "cell_type": "code",
      "metadata": {
        "id": "mo8Hr4ahSYCF",
        "colab_type": "code",
        "colab": {
          "base_uri": "https://localhost:8080/",
          "height": 238
        },
        "outputId": "0b6996c3-dc6f-41ef-c981-181760c870f9"
      },
      "source": [
        "continous = np.stack(conts, axis = 0)\n",
        "continous"
      ],
      "execution_count": 23,
      "outputs": [
        {
          "output_type": "execute_result",
          "data": {
            "text/plain": [
              "array([[6.000e+01, 6.500e+01, 8.450e+03, ..., 0.000e+00, 2.000e+00,\n",
              "        2.008e+03],\n",
              "       [2.000e+01, 8.000e+01, 9.600e+03, ..., 0.000e+00, 5.000e+00,\n",
              "        2.007e+03],\n",
              "       [6.000e+01, 6.800e+01, 1.125e+04, ..., 0.000e+00, 9.000e+00,\n",
              "        2.008e+03],\n",
              "       ...,\n",
              "       [7.000e+01, 6.600e+01, 9.042e+03, ..., 2.500e+03, 5.000e+00,\n",
              "        2.010e+03],\n",
              "       [2.000e+01, 6.800e+01, 9.717e+03, ..., 0.000e+00, 4.000e+00,\n",
              "        2.010e+03],\n",
              "       [2.000e+01, 7.500e+01, 9.937e+03, ..., 0.000e+00, 6.000e+00,\n",
              "        2.008e+03]])"
            ]
          },
          "metadata": {
            "tags": []
          },
          "execution_count": 23
        }
      ]
    },
    {
      "cell_type": "markdown",
      "metadata": {
        "id": "ORB-t7-tTQCB",
        "colab_type": "text"
      },
      "source": [
        "Converting everything to tensors."
      ]
    },
    {
      "cell_type": "code",
      "metadata": {
        "id": "LmXesALuTHrm",
        "colab_type": "code",
        "colab": {
          "base_uri": "https://localhost:8080/",
          "height": 207
        },
        "outputId": "65888ede-4a2f-45c2-f08b-4560302ac9e3"
      },
      "source": [
        "categorical = torch.tensor(categorical, dtype = torch.int64)\n",
        "continous = torch.tensor(continous, dtype = torch.float)\n",
        "y = torch.tensor(np.log(df[y_cols].values), dtype= torch.float).reshape(-1,1)\n",
        "len(categorical), len(continous), len(y), categorical.shape, continous.shape, y.shape"
      ],
      "execution_count": 54,
      "outputs": [
        {
          "output_type": "stream",
          "text": [
            "/usr/local/lib/python3.6/dist-packages/ipykernel_launcher.py:1: UserWarning: To copy construct from a tensor, it is recommended to use sourceTensor.clone().detach() or sourceTensor.clone().detach().requires_grad_(True), rather than torch.tensor(sourceTensor).\n",
            "  \"\"\"Entry point for launching an IPython kernel.\n",
            "/usr/local/lib/python3.6/dist-packages/ipykernel_launcher.py:2: UserWarning: To copy construct from a tensor, it is recommended to use sourceTensor.clone().detach() or sourceTensor.clone().detach().requires_grad_(True), rather than torch.tensor(sourceTensor).\n",
            "  \n"
          ],
          "name": "stderr"
        },
        {
          "output_type": "execute_result",
          "data": {
            "text/plain": [
              "(1338,\n",
              " 1338,\n",
              " 1338,\n",
              " torch.Size([1338, 38]),\n",
              " torch.Size([1338, 36]),\n",
              " torch.Size([1338, 1]))"
            ]
          },
          "metadata": {
            "tags": []
          },
          "execution_count": 54
        }
      ]
    },
    {
      "cell_type": "markdown",
      "metadata": {
        "id": "_-rilJqmXTEo",
        "colab_type": "text"
      },
      "source": [
        "### 3.3) Working on Embeddings"
      ]
    },
    {
      "cell_type": "code",
      "metadata": {
        "id": "xPRmBaZBT3bE",
        "colab_type": "code",
        "colab": {
          "base_uri": "https://localhost:8080/",
          "height": 68
        },
        "outputId": "411be493-48ed-4fe6-facc-c4b5b2a9019d"
      },
      "source": [
        "# Taking the size of each category\n",
        "cats = [len(df[col].cat.categories) for col in categorical_cols]\n",
        "np.array(cats).flatten()"
      ],
      "execution_count": 55,
      "outputs": [
        {
          "output_type": "execute_result",
          "data": {
            "text/plain": [
              "array([ 5,  2,  4,  4,  2,  5,  3, 25,  9,  8,  5,  8,  6,  8, 14, 16,  4,\n",
              "        4,  4,  5,  4,  4,  4,  6,  6,  4,  5,  2,  5,  4,  7,  6,  3,  5,\n",
              "        5,  3,  9,  6])"
            ]
          },
          "metadata": {
            "tags": []
          },
          "execution_count": 55
        }
      ]
    },
    {
      "cell_type": "code",
      "metadata": {
        "id": "N5NLQiwEY5de",
        "colab_type": "code",
        "colab": {}
      },
      "source": [
        "emb_size = [(size,min((size+1)//2, 50)) for size in cats]"
      ],
      "execution_count": 0,
      "outputs": []
    },
    {
      "cell_type": "code",
      "metadata": {
        "id": "wsIs68yoalvf",
        "colab_type": "code",
        "colab": {}
      },
      "source": [
        "selfembeds = nn.ModuleList([nn.Embedding(n1,n2) for n1,n2 in emb_size])"
      ],
      "execution_count": 0,
      "outputs": []
    },
    {
      "cell_type": "code",
      "metadata": {
        "id": "X7zpJ72nbAXS",
        "colab_type": "code",
        "colab": {
          "base_uri": "https://localhost:8080/",
          "height": 1000
        },
        "outputId": "339e0c14-57f7-4592-9bda-fe2b9b954f4f"
      },
      "source": [
        "embeddingz = []\n",
        "\n",
        "for i,e in enumerate(selfembeds):\n",
        "  embeddingz.append(e(categorical[:,i]))\n",
        "embeddingz"
      ],
      "execution_count": 58,
      "outputs": [
        {
          "output_type": "execute_result",
          "data": {
            "text/plain": [
              "[tensor([[-0.0826, -0.0563,  0.3971],\n",
              "         [-0.0826, -0.0563,  0.3971],\n",
              "         [-0.0826, -0.0563,  0.3971],\n",
              "         ...,\n",
              "         [-0.0826, -0.0563,  0.3971],\n",
              "         [-0.0826, -0.0563,  0.3971],\n",
              "         [-0.0826, -0.0563,  0.3971]], grad_fn=<EmbeddingBackward>),\n",
              " tensor([[-0.2214],\n",
              "         [-0.2214],\n",
              "         [-0.2214],\n",
              "         ...,\n",
              "         [-0.2214],\n",
              "         [-0.2214],\n",
              "         [-0.2214]], grad_fn=<EmbeddingBackward>),\n",
              " tensor([[ 0.5821, -0.8071],\n",
              "         [ 0.5821, -0.8071],\n",
              "         [-0.3858,  0.0189],\n",
              "         ...,\n",
              "         [ 0.5821, -0.8071],\n",
              "         [ 0.5821, -0.8071],\n",
              "         [ 0.5821, -0.8071]], grad_fn=<EmbeddingBackward>),\n",
              " tensor([[-1.0485,  1.5873],\n",
              "         [-1.0485,  1.5873],\n",
              "         [-1.0485,  1.5873],\n",
              "         ...,\n",
              "         [-1.0485,  1.5873],\n",
              "         [-1.0485,  1.5873],\n",
              "         [-1.0485,  1.5873]], grad_fn=<EmbeddingBackward>),\n",
              " tensor([[-0.8158],\n",
              "         [-0.8158],\n",
              "         [-0.8158],\n",
              "         ...,\n",
              "         [-0.8158],\n",
              "         [-0.8158],\n",
              "         [-0.8158]], grad_fn=<EmbeddingBackward>),\n",
              " tensor([[ 0.0036, -1.1279,  1.5842],\n",
              "         [ 1.0395,  0.5328, -2.0584],\n",
              "         [ 0.0036, -1.1279,  1.5842],\n",
              "         ...,\n",
              "         [ 0.0036, -1.1279,  1.5842],\n",
              "         [ 0.0036, -1.1279,  1.5842],\n",
              "         [ 0.0036, -1.1279,  1.5842]], grad_fn=<EmbeddingBackward>),\n",
              " tensor([[ 0.2396, -0.0838],\n",
              "         [ 0.2396, -0.0838],\n",
              "         [ 0.2396, -0.0838],\n",
              "         ...,\n",
              "         [ 0.2396, -0.0838],\n",
              "         [ 0.2396, -0.0838],\n",
              "         [ 0.2396, -0.0838]], grad_fn=<EmbeddingBackward>),\n",
              " tensor([[ 1.8883, -0.4196,  1.3561,  ...,  0.2305,  0.3673,  2.0537],\n",
              "         [ 1.5227,  0.5952, -0.3106,  ...,  0.9361, -0.1132, -0.6667],\n",
              "         [ 1.8883, -0.4196,  1.3561,  ...,  0.2305,  0.3673,  2.0537],\n",
              "         ...,\n",
              "         [ 0.3370,  0.2248,  0.5401,  ...,  1.7262,  0.1247,  0.8326],\n",
              "         [ 1.6806, -0.6064,  0.0421,  ...,  1.3730,  1.3272, -0.0690],\n",
              "         [-0.6512,  0.2192, -1.9447,  ..., -1.4659, -0.2103, -0.1158]],\n",
              "        grad_fn=<EmbeddingBackward>),\n",
              " tensor([[ 0.0145,  0.5998,  0.9460, -0.7299,  1.3288],\n",
              "         [-0.6863, -1.2765, -1.2313, -0.8612, -0.6295],\n",
              "         [ 0.0145,  0.5998,  0.9460, -0.7299,  1.3288],\n",
              "         ...,\n",
              "         [ 0.0145,  0.5998,  0.9460, -0.7299,  1.3288],\n",
              "         [ 0.0145,  0.5998,  0.9460, -0.7299,  1.3288],\n",
              "         [ 0.0145,  0.5998,  0.9460, -0.7299,  1.3288]],\n",
              "        grad_fn=<EmbeddingBackward>),\n",
              " tensor([[-0.0323, -0.8778, -1.0204,  0.1374],\n",
              "         [-0.0323, -0.8778, -1.0204,  0.1374],\n",
              "         [-0.0323, -0.8778, -1.0204,  0.1374],\n",
              "         ...,\n",
              "         [-0.0323, -0.8778, -1.0204,  0.1374],\n",
              "         [-0.0323, -0.8778, -1.0204,  0.1374],\n",
              "         [-0.0323, -0.8778, -1.0204,  0.1374]], grad_fn=<EmbeddingBackward>),\n",
              " tensor([[ 0.4268, -0.2671, -0.1554],\n",
              "         [ 0.4268, -0.2671, -0.1554],\n",
              "         [ 0.4268, -0.2671, -0.1554],\n",
              "         ...,\n",
              "         [ 0.4268, -0.2671, -0.1554],\n",
              "         [ 0.4268, -0.2671, -0.1554],\n",
              "         [ 0.4268, -0.2671, -0.1554]], grad_fn=<EmbeddingBackward>),\n",
              " tensor([[ 0.4384,  2.4615, -0.6202, -1.4933],\n",
              "         [-1.3683,  0.4814, -0.2996,  0.4043],\n",
              "         [ 0.4384,  2.4615, -0.6202, -1.4933],\n",
              "         ...,\n",
              "         [ 0.4384,  2.4615, -0.6202, -1.4933],\n",
              "         [-1.3683,  0.4814, -0.2996,  0.4043],\n",
              "         [-1.3683,  0.4814, -0.2996,  0.4043]], grad_fn=<EmbeddingBackward>),\n",
              " tensor([[-1.6346, -0.5510,  1.3853],\n",
              "         [-1.6346, -0.5510,  1.3853],\n",
              "         [-1.6346, -0.5510,  1.3853],\n",
              "         ...,\n",
              "         [-1.6346, -0.5510,  1.3853],\n",
              "         [ 0.0391,  0.2245,  1.0230],\n",
              "         [-1.6346, -0.5510,  1.3853]], grad_fn=<EmbeddingBackward>),\n",
              " tensor([[ 1.0939, -0.7221,  1.1018, -0.2362],\n",
              "         [ 1.0939, -0.7221,  1.1018, -0.2362],\n",
              "         [ 1.0939, -0.7221,  1.1018, -0.2362],\n",
              "         ...,\n",
              "         [ 1.0939, -0.7221,  1.1018, -0.2362],\n",
              "         [ 1.0939, -0.7221,  1.1018, -0.2362],\n",
              "         [ 1.0939, -0.7221,  1.1018, -0.2362]], grad_fn=<EmbeddingBackward>),\n",
              " tensor([[ 0.0204, -0.3314, -0.1901,  ...,  0.9782,  0.8522, -0.0830],\n",
              "         [-0.2776, -0.7575,  0.4090,  ...,  0.4509, -1.3317,  0.9683],\n",
              "         [ 0.0204, -0.3314, -0.1901,  ...,  0.9782,  0.8522, -0.0830],\n",
              "         ...,\n",
              "         [ 1.4156,  1.1355, -0.0916,  ..., -0.6216,  0.1296,  0.8098],\n",
              "         [-0.2776, -0.7575,  0.4090,  ...,  0.4509, -1.3317,  0.9683],\n",
              "         [-1.6893,  1.3598,  1.4985,  ...,  0.7906,  0.2737,  0.1008]],\n",
              "        grad_fn=<EmbeddingBackward>),\n",
              " tensor([[-1.0403e+00, -1.4332e+00, -2.3276e-01,  ...,  7.7653e-01,\n",
              "           7.3489e-01, -5.2915e-01],\n",
              "         [ 4.8238e-02, -9.3500e-02, -5.0041e-01,  ..., -5.8258e-01,\n",
              "          -7.0883e-01, -6.3518e-02],\n",
              "         [-1.0403e+00, -1.4332e+00, -2.3276e-01,  ...,  7.7653e-01,\n",
              "           7.3489e-01, -5.2915e-01],\n",
              "         ...,\n",
              "         [ 7.8240e-01,  1.0091e-02, -8.2415e-01,  ...,  2.8040e-03,\n",
              "          -4.0491e-01,  2.8539e+00],\n",
              "         [ 4.8238e-02, -9.3500e-02, -5.0041e-01,  ..., -5.8258e-01,\n",
              "          -7.0883e-01, -6.3518e-02],\n",
              "         [ 7.1655e-01,  3.3827e-02, -1.5399e+00,  ..., -6.0220e-01,\n",
              "           3.3202e-01, -1.3018e+00]], grad_fn=<EmbeddingBackward>),\n",
              " tensor([[-1.0853, -0.8130],\n",
              "         [-0.3600, -0.6075],\n",
              "         [-1.0853, -0.8130],\n",
              "         ...,\n",
              "         [-0.3600, -0.6075],\n",
              "         [-0.3600, -0.6075],\n",
              "         [-0.3600, -0.6075]], grad_fn=<EmbeddingBackward>),\n",
              " tensor([[ 1.5994,  2.1206],\n",
              "         [-1.4096, -0.5616],\n",
              "         [ 1.5994,  2.1206],\n",
              "         ...,\n",
              "         [ 1.0402,  0.7962],\n",
              "         [-1.4096, -0.5616],\n",
              "         [ 1.5994,  2.1206]], grad_fn=<EmbeddingBackward>),\n",
              " tensor([[-1.2327, -0.6275],\n",
              "         [-1.2327, -0.6275],\n",
              "         [-1.2327, -0.6275],\n",
              "         ...,\n",
              "         [ 0.3750,  0.9439],\n",
              "         [-1.2327, -0.6275],\n",
              "         [-1.2327, -0.6275]], grad_fn=<EmbeddingBackward>),\n",
              " tensor([[ 1.3859,  0.4227,  1.4038],\n",
              "         [-0.3401,  0.2797, -0.0485],\n",
              "         [ 1.3859,  0.4227,  1.4038],\n",
              "         ...,\n",
              "         [ 2.4601,  1.0968,  0.1471],\n",
              "         [-0.3401,  0.2797, -0.0485],\n",
              "         [-0.3401,  0.2797, -0.0485]], grad_fn=<EmbeddingBackward>),\n",
              " tensor([[-1.3522,  1.1773],\n",
              "         [-1.3522,  1.1773],\n",
              "         [-1.3522,  1.1773],\n",
              "         ...,\n",
              "         [-1.1531, -3.7776],\n",
              "         [-1.1531, -3.7776],\n",
              "         [-1.1531, -3.7776]], grad_fn=<EmbeddingBackward>),\n",
              " tensor([[ 0.5380, -0.2989],\n",
              "         [ 0.5380, -0.2989],\n",
              "         [ 0.5380, -0.2989],\n",
              "         ...,\n",
              "         [-0.1942, -0.3797],\n",
              "         [ 0.5380, -0.2989],\n",
              "         [ 0.5380, -0.2989]], grad_fn=<EmbeddingBackward>),\n",
              " tensor([[ 0.2830,  0.0272],\n",
              "         [ 0.1586,  0.6759],\n",
              "         [-1.6176,  0.1553],\n",
              "         ...,\n",
              "         [ 0.2830,  0.0272],\n",
              "         [-1.6176,  0.1553],\n",
              "         [ 0.2830,  0.0272]], grad_fn=<EmbeddingBackward>),\n",
              " tensor([[ 0.2199, -0.1207, -1.0313],\n",
              "         [ 0.1039, -1.5857,  0.6733],\n",
              "         [ 0.2199, -0.1207, -1.0313],\n",
              "         ...,\n",
              "         [ 0.2199, -0.1207, -1.0313],\n",
              "         [ 0.2199, -0.1207, -1.0313],\n",
              "         [-0.3635, -0.4527,  0.6645]], grad_fn=<EmbeddingBackward>),\n",
              " tensor([[ 0.0883,  0.3207,  1.1843],\n",
              "         [ 0.0883,  0.3207,  1.1843],\n",
              "         [ 0.0883,  0.3207,  1.1843],\n",
              "         ...,\n",
              "         [ 0.0883,  0.3207,  1.1843],\n",
              "         [-1.5626, -0.2916,  0.6650],\n",
              "         [ 0.0161, -0.0593,  0.6335]], grad_fn=<EmbeddingBackward>),\n",
              " tensor([[-0.7013, -0.2648],\n",
              "         [-0.7013, -0.2648],\n",
              "         [-0.7013, -0.2648],\n",
              "         ...,\n",
              "         [-0.7013, -0.2648],\n",
              "         [-0.7013, -0.2648],\n",
              "         [-0.7013, -0.2648]], grad_fn=<EmbeddingBackward>),\n",
              " tensor([[-0.4800,  0.3070,  1.4736],\n",
              "         [-0.4800,  0.3070,  1.4736],\n",
              "         [-0.4800,  0.3070,  1.4736],\n",
              "         ...,\n",
              "         [-0.4800,  0.3070,  1.4736],\n",
              "         [ 1.7830,  0.3062,  0.5803],\n",
              "         [ 1.7830,  0.3062,  0.5803]], grad_fn=<EmbeddingBackward>),\n",
              " tensor([[0.1736],\n",
              "         [0.1736],\n",
              "         [0.1736],\n",
              "         ...,\n",
              "         [0.1736],\n",
              "         [0.1736],\n",
              "         [0.1736]], grad_fn=<EmbeddingBackward>),\n",
              " tensor([[-0.0184, -0.1754, -0.4493],\n",
              "         [-0.0184, -0.1754, -0.4493],\n",
              "         [-0.0184, -0.1754, -0.4493],\n",
              "         ...,\n",
              "         [-0.0184, -0.1754, -0.4493],\n",
              "         [-1.0829,  1.7378, -0.1819],\n",
              "         [-0.0184, -0.1754, -0.4493]], grad_fn=<EmbeddingBackward>),\n",
              " tensor([[ 1.8081, -0.3340],\n",
              "         [-0.4538, -0.7445],\n",
              "         [ 1.8081, -0.3340],\n",
              "         ...,\n",
              "         [ 1.8081, -0.3340],\n",
              "         [ 1.8081, -0.3340],\n",
              "         [-0.4538, -0.7445]], grad_fn=<EmbeddingBackward>),\n",
              " tensor([[ 1.2828, -0.5584,  1.7972, -1.1586],\n",
              "         [ 1.2828, -0.5584,  1.7972, -1.1586],\n",
              "         [ 1.2828, -0.5584,  1.7972, -1.1586],\n",
              "         ...,\n",
              "         [ 1.2828, -0.5584,  1.7972, -1.1586],\n",
              "         [ 1.2828, -0.5584,  1.7972, -1.1586],\n",
              "         [ 1.2828, -0.5584,  1.7972, -1.1586]], grad_fn=<EmbeddingBackward>),\n",
              " tensor([[-0.4169, -0.5881,  0.8163],\n",
              "         [-0.4169, -0.5881,  0.8163],\n",
              "         [-0.4169, -0.5881,  0.8163],\n",
              "         ...,\n",
              "         [-0.4169, -0.5881,  0.8163],\n",
              "         [-0.4169, -0.5881,  0.8163],\n",
              "         [-0.4169, -0.5881,  0.8163]], grad_fn=<EmbeddingBackward>),\n",
              " tensor([[-0.7299,  0.1931],\n",
              "         [-0.7299,  0.1931],\n",
              "         [-0.7299,  0.1931],\n",
              "         ...,\n",
              "         [-0.7299,  0.1931],\n",
              "         [-2.0720, -0.0638],\n",
              "         [ 0.0865,  1.0054]], grad_fn=<EmbeddingBackward>),\n",
              " tensor([[ 1.0248, -0.6586, -0.0595],\n",
              "         [ 1.0248, -0.6586, -0.0595],\n",
              "         [ 1.0248, -0.6586, -0.0595],\n",
              "         ...,\n",
              "         [ 1.0248, -0.6586, -0.0595],\n",
              "         [ 1.0248, -0.6586, -0.0595],\n",
              "         [ 1.0248, -0.6586, -0.0595]], grad_fn=<EmbeddingBackward>),\n",
              " tensor([[ 0.4993,  1.6601, -1.6697],\n",
              "         [ 0.4993,  1.6601, -1.6697],\n",
              "         [ 0.4993,  1.6601, -1.6697],\n",
              "         ...,\n",
              "         [ 0.4993,  1.6601, -1.6697],\n",
              "         [ 0.4993,  1.6601, -1.6697],\n",
              "         [ 0.4993,  1.6601, -1.6697]], grad_fn=<EmbeddingBackward>),\n",
              " tensor([[ 1.4042, -0.3565],\n",
              "         [ 1.4042, -0.3565],\n",
              "         [ 1.4042, -0.3565],\n",
              "         ...,\n",
              "         [ 1.4042, -0.3565],\n",
              "         [ 1.4042, -0.3565],\n",
              "         [ 1.4042, -0.3565]], grad_fn=<EmbeddingBackward>),\n",
              " tensor([[ 0.0468,  1.6202, -0.0874,  0.0386, -1.2764],\n",
              "         [ 0.0468,  1.6202, -0.0874,  0.0386, -1.2764],\n",
              "         [ 0.0468,  1.6202, -0.0874,  0.0386, -1.2764],\n",
              "         ...,\n",
              "         [ 0.0468,  1.6202, -0.0874,  0.0386, -1.2764],\n",
              "         [ 0.0468,  1.6202, -0.0874,  0.0386, -1.2764],\n",
              "         [ 0.0468,  1.6202, -0.0874,  0.0386, -1.2764]],\n",
              "        grad_fn=<EmbeddingBackward>),\n",
              " tensor([[ 0.0438, -0.8027, -0.5843],\n",
              "         [ 0.0438, -0.8027, -0.5843],\n",
              "         [ 0.0438, -0.8027, -0.5843],\n",
              "         ...,\n",
              "         [ 0.0438, -0.8027, -0.5843],\n",
              "         [ 0.0438, -0.8027, -0.5843],\n",
              "         [ 0.0438, -0.8027, -0.5843]], grad_fn=<EmbeddingBackward>)]"
            ]
          },
          "metadata": {
            "tags": []
          },
          "execution_count": 58
        }
      ]
    },
    {
      "cell_type": "code",
      "metadata": {
        "id": "3gKIXgJGbT_v",
        "colab_type": "code",
        "colab": {
          "base_uri": "https://localhost:8080/",
          "height": 153
        },
        "outputId": "8effeb2d-b7d1-45dd-c689-acf99c64cd8e"
      },
      "source": [
        "z = torch.cat(embeddingz,1)  #Above we can see that there are different tensors for the 3 columns,so we merged them.\n",
        "z, z.shape"
      ],
      "execution_count": 59,
      "outputs": [
        {
          "output_type": "execute_result",
          "data": {
            "text/plain": [
              "(tensor([[-0.0826, -0.0563,  0.3971,  ...,  0.0438, -0.8027, -0.5843],\n",
              "         [-0.0826, -0.0563,  0.3971,  ...,  0.0438, -0.8027, -0.5843],\n",
              "         [-0.0826, -0.0563,  0.3971,  ...,  0.0438, -0.8027, -0.5843],\n",
              "         ...,\n",
              "         [-0.0826, -0.0563,  0.3971,  ...,  0.0438, -0.8027, -0.5843],\n",
              "         [-0.0826, -0.0563,  0.3971,  ...,  0.0438, -0.8027, -0.5843],\n",
              "         [-0.0826, -0.0563,  0.3971,  ...,  0.0438, -0.8027, -0.5843]],\n",
              "        grad_fn=<CatBackward>), torch.Size([1338, 122]))"
            ]
          },
          "metadata": {
            "tags": []
          },
          "execution_count": 59
        }
      ]
    },
    {
      "cell_type": "code",
      "metadata": {
        "id": "6lGMCvF7dQKV",
        "colab_type": "code",
        "colab": {}
      },
      "source": [
        "# converting everything to cuda\n",
        "categorical = categorical.cuda()\n",
        "continous = continous.cuda()\n",
        "y = y.cuda()"
      ],
      "execution_count": 0,
      "outputs": []
    },
    {
      "cell_type": "markdown",
      "metadata": {
        "id": "E6lGbTxjcFV6",
        "colab_type": "text"
      },
      "source": [
        "## 4) Building the Model"
      ]
    },
    {
      "cell_type": "code",
      "metadata": {
        "id": "zwurYfLEbkMN",
        "colab_type": "code",
        "colab": {}
      },
      "source": [
        "class ANN(nn.Module):\n",
        "  def __init__(self,emb_size,n_cont,out_sz,layers,p=0.5):\n",
        "\n",
        "    super().__init__()\n",
        "\n",
        "    self.embeds = nn.ModuleList([nn.Embedding(n1,n2) for n1,n2 in emb_size])\n",
        "    self.emb_drop = nn.Dropout(p=0.5)\n",
        "    self.bn_cont = nn.BatchNorm1d(n_cont)\n",
        "\n",
        "    layerlist = []\n",
        "    n_emb = sum((j for i,j in emb_size))\n",
        "    n_in = n_emb + n_cont\n",
        "\n",
        "    tracker = 0\n",
        "    for i in layers:\n",
        "      layerlist.append(nn.Linear(n_in,i)) \n",
        "      layerlist.append(nn.ReLU(inplace=True))\n",
        "\n",
        "      if tracker < 3:        \n",
        "        layerlist.append(nn.BatchNorm1d(i))\n",
        "\n",
        "      layerlist.append(nn.Dropout(p))\n",
        "      n_in = i\n",
        "      tracker +=1\n",
        "    layerlist.append(nn.Linear(layers[-1],out_sz))\n",
        "        \n",
        "    self.layers = nn.Sequential(*layerlist)\n",
        "\n",
        "  def forward(self,x_cat,x_cont):\n",
        "\n",
        "    embeddings = []\n",
        "    for i,e in enumerate(self.embeds):\n",
        "        embeddings.append(e(x_cat[:,i]))\n",
        "    x = torch.cat(embeddings, 1)\n",
        "    x = self.emb_drop(x)\n",
        "    \n",
        "    x_cont = self.bn_cont(x_cont)\n",
        "    x = torch.cat([x, x_cont], 1)\n",
        "    x = self.layers(x)\n",
        "    return x"
      ],
      "execution_count": 0,
      "outputs": []
    },
    {
      "cell_type": "code",
      "metadata": {
        "id": "BLXAJv1whtH2",
        "colab_type": "code",
        "colab": {
          "base_uri": "https://localhost:8080/",
          "height": 1000
        },
        "outputId": "576de0a1-6ea2-478d-e459-67b30dc818a7"
      },
      "source": [
        "# Initialising the model\n",
        "model = ANN(emb_size,continous.shape[1],1,[300,300,200,100],p = 0.4)\n",
        "gpu_model = model.cuda()\n",
        "gpu_model"
      ],
      "execution_count": 91,
      "outputs": [
        {
          "output_type": "execute_result",
          "data": {
            "text/plain": [
              "ANN(\n",
              "  (embeds): ModuleList(\n",
              "    (0): Embedding(5, 3)\n",
              "    (1): Embedding(2, 1)\n",
              "    (2): Embedding(4, 2)\n",
              "    (3): Embedding(4, 2)\n",
              "    (4): Embedding(2, 1)\n",
              "    (5): Embedding(5, 3)\n",
              "    (6): Embedding(3, 2)\n",
              "    (7): Embedding(25, 13)\n",
              "    (8): Embedding(9, 5)\n",
              "    (9): Embedding(8, 4)\n",
              "    (10): Embedding(5, 3)\n",
              "    (11): Embedding(8, 4)\n",
              "    (12): Embedding(6, 3)\n",
              "    (13): Embedding(8, 4)\n",
              "    (14): Embedding(14, 7)\n",
              "    (15): Embedding(16, 8)\n",
              "    (16): Embedding(4, 2)\n",
              "    (17): Embedding(4, 2)\n",
              "    (18): Embedding(4, 2)\n",
              "    (19): Embedding(5, 3)\n",
              "    (20): Embedding(4, 2)\n",
              "    (21): Embedding(4, 2)\n",
              "    (22): Embedding(4, 2)\n",
              "    (23): Embedding(6, 3)\n",
              "    (24): Embedding(6, 3)\n",
              "    (25): Embedding(4, 2)\n",
              "    (26): Embedding(5, 3)\n",
              "    (27): Embedding(2, 1)\n",
              "    (28): Embedding(5, 3)\n",
              "    (29): Embedding(4, 2)\n",
              "    (30): Embedding(7, 4)\n",
              "    (31): Embedding(6, 3)\n",
              "    (32): Embedding(3, 2)\n",
              "    (33): Embedding(5, 3)\n",
              "    (34): Embedding(5, 3)\n",
              "    (35): Embedding(3, 2)\n",
              "    (36): Embedding(9, 5)\n",
              "    (37): Embedding(6, 3)\n",
              "  )\n",
              "  (emb_drop): Dropout(p=0.5, inplace=False)\n",
              "  (bn_cont): BatchNorm1d(36, eps=1e-05, momentum=0.1, affine=True, track_running_stats=True)\n",
              "  (layers): Sequential(\n",
              "    (0): Linear(in_features=158, out_features=300, bias=True)\n",
              "    (1): ReLU(inplace=True)\n",
              "    (2): BatchNorm1d(300, eps=1e-05, momentum=0.1, affine=True, track_running_stats=True)\n",
              "    (3): Dropout(p=0.4, inplace=False)\n",
              "    (4): Linear(in_features=300, out_features=300, bias=True)\n",
              "    (5): ReLU(inplace=True)\n",
              "    (6): BatchNorm1d(300, eps=1e-05, momentum=0.1, affine=True, track_running_stats=True)\n",
              "    (7): Dropout(p=0.4, inplace=False)\n",
              "    (8): Linear(in_features=300, out_features=200, bias=True)\n",
              "    (9): ReLU(inplace=True)\n",
              "    (10): BatchNorm1d(200, eps=1e-05, momentum=0.1, affine=True, track_running_stats=True)\n",
              "    (11): Dropout(p=0.4, inplace=False)\n",
              "    (12): Linear(in_features=200, out_features=100, bias=True)\n",
              "    (13): ReLU(inplace=True)\n",
              "    (14): Dropout(p=0.4, inplace=False)\n",
              "    (15): Linear(in_features=100, out_features=1, bias=True)\n",
              "  )\n",
              ")"
            ]
          },
          "metadata": {
            "tags": []
          },
          "execution_count": 91
        }
      ]
    },
    {
      "cell_type": "markdown",
      "metadata": {
        "id": "bTPi2KQVi89P",
        "colab_type": "text"
      },
      "source": [
        "## 5) Defining the loss function and Optimizer"
      ]
    },
    {
      "cell_type": "code",
      "metadata": {
        "id": "PcvD5AA5iP5i",
        "colab_type": "code",
        "colab": {}
      },
      "source": [
        "criterion = nn.MSELoss()\n",
        "optimizer = torch.optim.Adam(model.parameters(),lr = 0.01)"
      ],
      "execution_count": 0,
      "outputs": []
    },
    {
      "cell_type": "markdown",
      "metadata": {
        "id": "7lXPtOVojmFE",
        "colab_type": "text"
      },
      "source": [
        "## 6) Model Training"
      ]
    },
    {
      "cell_type": "code",
      "metadata": {
        "id": "lq18TJ3KjlBz",
        "colab_type": "code",
        "colab": {
          "base_uri": "https://localhost:8080/",
          "height": 561
        },
        "outputId": "6b3af7e4-1126-4078-be02-8fdec47de89d"
      },
      "source": [
        "import time\n",
        "start_time = time.time()\n",
        "\n",
        "epochs = 3001\n",
        "losses = []\n",
        "\n",
        "for i in range(epochs):\n",
        "    i+=1\n",
        "    y_pred = gpu_model(categorical, continous)\n",
        "    loss = torch.sqrt(criterion(y_pred, y)) # RMSE\n",
        "    losses.append(loss)\n",
        "    \n",
        "    # a neat trick to save screen space:\n",
        "    if i%100 == 0:\n",
        "        print(f'epoch: {i}  loss: {loss.item()}')\n",
        "\n",
        "    optimizer.zero_grad()\n",
        "    loss.backward()\n",
        "    optimizer.step()\n",
        "\n",
        "print(f'\\nDuration: {(time.time() - start_time)/60} minutes') # print the time elapsed"
      ],
      "execution_count": 93,
      "outputs": [
        {
          "output_type": "stream",
          "text": [
            "epoch: 100  loss: 1.5740512609481812\n",
            "epoch: 200  loss: 1.3338274955749512\n",
            "epoch: 300  loss: 1.3836725950241089\n",
            "epoch: 400  loss: 1.124122142791748\n",
            "epoch: 500  loss: 0.9937739968299866\n",
            "epoch: 600  loss: 0.9250100255012512\n",
            "epoch: 700  loss: 0.8247978091239929\n",
            "epoch: 800  loss: 0.754414975643158\n",
            "epoch: 900  loss: 0.7881526947021484\n",
            "epoch: 1000  loss: 0.7070537805557251\n",
            "epoch: 1100  loss: 0.7138545513153076\n",
            "epoch: 1200  loss: 0.652309000492096\n",
            "epoch: 1300  loss: 0.6047720313072205\n",
            "epoch: 1400  loss: 0.630083441734314\n",
            "epoch: 1500  loss: 0.5605660676956177\n",
            "epoch: 1600  loss: 0.5203043222427368\n",
            "epoch: 1700  loss: 0.47192758321762085\n",
            "epoch: 1800  loss: 0.4313240051269531\n",
            "epoch: 1900  loss: 0.40979892015457153\n",
            "epoch: 2000  loss: 0.37026849389076233\n",
            "epoch: 2100  loss: 0.3198307454586029\n",
            "epoch: 2200  loss: 0.274946391582489\n",
            "epoch: 2300  loss: 0.2532244026660919\n",
            "epoch: 2400  loss: 0.22417767345905304\n",
            "epoch: 2500  loss: 0.18294382095336914\n",
            "epoch: 2600  loss: 0.15927131474018097\n",
            "epoch: 2700  loss: 0.1365455538034439\n",
            "epoch: 2800  loss: 0.11734478175640106\n",
            "epoch: 2900  loss: 0.11602913588285446\n",
            "epoch: 3000  loss: 0.10713908821344376\n",
            "\n",
            "Duration: 0.8947631279627483 minutes\n"
          ],
          "name": "stdout"
        }
      ]
    },
    {
      "cell_type": "code",
      "metadata": {
        "id": "etB2goyYkDX6",
        "colab_type": "code",
        "colab": {
          "base_uri": "https://localhost:8080/",
          "height": 136
        },
        "outputId": "a4ba7ce0-6146-487c-f657-08c0b4659bcc"
      },
      "source": [
        "y_pred"
      ],
      "execution_count": 94,
      "outputs": [
        {
          "output_type": "execute_result",
          "data": {
            "text/plain": [
              "tensor([[12.1425],\n",
              "        [12.1002],\n",
              "        [12.4358],\n",
              "        ...,\n",
              "        [12.4745],\n",
              "        [11.8297],\n",
              "        [11.8405]], device='cuda:0', grad_fn=<AddmmBackward>)"
            ]
          },
          "metadata": {
            "tags": []
          },
          "execution_count": 94
        }
      ]
    },
    {
      "cell_type": "code",
      "metadata": {
        "id": "5lSuOn1vo2Ef",
        "colab_type": "code",
        "colab": {
          "base_uri": "https://localhost:8080/",
          "height": 136
        },
        "outputId": "db35bc4f-0c83-449d-a25f-3d9b06f1a597"
      },
      "source": [
        "y"
      ],
      "execution_count": 95,
      "outputs": [
        {
          "output_type": "execute_result",
          "data": {
            "text/plain": [
              "tensor([[12.2477],\n",
              "        [12.1090],\n",
              "        [12.3172],\n",
              "        ...,\n",
              "        [12.4931],\n",
              "        [11.8645],\n",
              "        [11.9016]], device='cuda:0')"
            ]
          },
          "metadata": {
            "tags": []
          },
          "execution_count": 95
        }
      ]
    },
    {
      "cell_type": "code",
      "metadata": {
        "id": "8uYxOC4io3iq",
        "colab_type": "code",
        "colab": {}
      },
      "source": [
        ""
      ],
      "execution_count": 0,
      "outputs": []
    }
  ]
}