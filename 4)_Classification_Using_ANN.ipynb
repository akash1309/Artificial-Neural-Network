{
  "nbformat": 4,
  "nbformat_minor": 0,
  "metadata": {
    "colab": {
      "name": "4) Classification Using ANN.ipynb",
      "provenance": [],
      "mount_file_id": "1rE-UE4tVjuiijJwjUkPYwzFCV8cDqb-J",
      "authorship_tag": "ABX9TyPgO7fSE6hcCHs7BAufD0mr"
    },
    "kernelspec": {
      "name": "python3",
      "display_name": "Python 3"
    },
    "accelerator": "GPU"
  },
  "cells": [
    {
      "cell_type": "markdown",
      "metadata": {
        "id": "ty1BptViH35b",
        "colab_type": "text"
      },
      "source": [
        "# Classification Problem using ANN\n",
        "\n",
        "A brif introduction about the dataset:\n",
        "\n",
        "Basically, we are given a dataset of a bank and the bank wants us to predict whether a person will leave the bank or not based on the given information.\n",
        "\n"
      ]
    },
    {
      "cell_type": "markdown",
      "metadata": {
        "id": "lVS4pQ8aH-_6",
        "colab_type": "text"
      },
      "source": [
        "## 1) Importing the libraries"
      ]
    },
    {
      "cell_type": "code",
      "metadata": {
        "id": "2gjLe-aEGj1d",
        "colab_type": "code",
        "colab": {}
      },
      "source": [
        "import numpy as np\n",
        "import pandas as pd\n",
        "import matplotlib.pyplot as plt\n",
        "import torch \n",
        "import torch.nn as nn\n",
        "import torch.nn.functional as F"
      ],
      "execution_count": 0,
      "outputs": []
    },
    {
      "cell_type": "code",
      "metadata": {
        "id": "bJDbux8fx2PI",
        "colab_type": "code",
        "colab": {
          "base_uri": "https://localhost:8080/",
          "height": 34
        },
        "outputId": "434cf67a-ccff-48cc-b3a4-f9b24c68139d"
      },
      "source": [
        "#Checking if cuda is available\n",
        "torch.cuda.is_available()"
      ],
      "execution_count": 71,
      "outputs": [
        {
          "output_type": "execute_result",
          "data": {
            "text/plain": [
              "True"
            ]
          },
          "metadata": {
            "tags": []
          },
          "execution_count": 71
        }
      ]
    },
    {
      "cell_type": "markdown",
      "metadata": {
        "id": "nHS_yILXIN_C",
        "colab_type": "text"
      },
      "source": [
        "## 2) DataPreprocessing"
      ]
    },
    {
      "cell_type": "markdown",
      "metadata": {
        "id": "3UiS97Umeq10",
        "colab_type": "text"
      },
      "source": [
        "Reading the data from the file."
      ]
    },
    {
      "cell_type": "code",
      "metadata": {
        "id": "6Ozr67QVIKvV",
        "colab_type": "code",
        "colab": {
          "base_uri": "https://localhost:8080/",
          "height": 224
        },
        "outputId": "3b9c0f21-77de-4574-f413-6f08dc69c05f"
      },
      "source": [
        "df = pd.read_csv('drive/My Drive/Deep_Learning_Dataset/Artificial_Neural_Network/Churn_Modelling.csv')\n",
        "df.head()"
      ],
      "execution_count": 2,
      "outputs": [
        {
          "output_type": "execute_result",
          "data": {
            "text/html": [
              "<div>\n",
              "<style scoped>\n",
              "    .dataframe tbody tr th:only-of-type {\n",
              "        vertical-align: middle;\n",
              "    }\n",
              "\n",
              "    .dataframe tbody tr th {\n",
              "        vertical-align: top;\n",
              "    }\n",
              "\n",
              "    .dataframe thead th {\n",
              "        text-align: right;\n",
              "    }\n",
              "</style>\n",
              "<table border=\"1\" class=\"dataframe\">\n",
              "  <thead>\n",
              "    <tr style=\"text-align: right;\">\n",
              "      <th></th>\n",
              "      <th>RowNumber</th>\n",
              "      <th>CustomerId</th>\n",
              "      <th>Surname</th>\n",
              "      <th>CreditScore</th>\n",
              "      <th>Geography</th>\n",
              "      <th>Gender</th>\n",
              "      <th>Age</th>\n",
              "      <th>Tenure</th>\n",
              "      <th>Balance</th>\n",
              "      <th>NumOfProducts</th>\n",
              "      <th>HasCrCard</th>\n",
              "      <th>IsActiveMember</th>\n",
              "      <th>EstimatedSalary</th>\n",
              "      <th>Exited</th>\n",
              "    </tr>\n",
              "  </thead>\n",
              "  <tbody>\n",
              "    <tr>\n",
              "      <th>0</th>\n",
              "      <td>1</td>\n",
              "      <td>15634602</td>\n",
              "      <td>Hargrave</td>\n",
              "      <td>619</td>\n",
              "      <td>France</td>\n",
              "      <td>Female</td>\n",
              "      <td>42</td>\n",
              "      <td>2</td>\n",
              "      <td>0.00</td>\n",
              "      <td>1</td>\n",
              "      <td>1</td>\n",
              "      <td>1</td>\n",
              "      <td>101348.88</td>\n",
              "      <td>1</td>\n",
              "    </tr>\n",
              "    <tr>\n",
              "      <th>1</th>\n",
              "      <td>2</td>\n",
              "      <td>15647311</td>\n",
              "      <td>Hill</td>\n",
              "      <td>608</td>\n",
              "      <td>Spain</td>\n",
              "      <td>Female</td>\n",
              "      <td>41</td>\n",
              "      <td>1</td>\n",
              "      <td>83807.86</td>\n",
              "      <td>1</td>\n",
              "      <td>0</td>\n",
              "      <td>1</td>\n",
              "      <td>112542.58</td>\n",
              "      <td>0</td>\n",
              "    </tr>\n",
              "    <tr>\n",
              "      <th>2</th>\n",
              "      <td>3</td>\n",
              "      <td>15619304</td>\n",
              "      <td>Onio</td>\n",
              "      <td>502</td>\n",
              "      <td>France</td>\n",
              "      <td>Female</td>\n",
              "      <td>42</td>\n",
              "      <td>8</td>\n",
              "      <td>159660.80</td>\n",
              "      <td>3</td>\n",
              "      <td>1</td>\n",
              "      <td>0</td>\n",
              "      <td>113931.57</td>\n",
              "      <td>1</td>\n",
              "    </tr>\n",
              "    <tr>\n",
              "      <th>3</th>\n",
              "      <td>4</td>\n",
              "      <td>15701354</td>\n",
              "      <td>Boni</td>\n",
              "      <td>699</td>\n",
              "      <td>France</td>\n",
              "      <td>Female</td>\n",
              "      <td>39</td>\n",
              "      <td>1</td>\n",
              "      <td>0.00</td>\n",
              "      <td>2</td>\n",
              "      <td>0</td>\n",
              "      <td>0</td>\n",
              "      <td>93826.63</td>\n",
              "      <td>0</td>\n",
              "    </tr>\n",
              "    <tr>\n",
              "      <th>4</th>\n",
              "      <td>5</td>\n",
              "      <td>15737888</td>\n",
              "      <td>Mitchell</td>\n",
              "      <td>850</td>\n",
              "      <td>Spain</td>\n",
              "      <td>Female</td>\n",
              "      <td>43</td>\n",
              "      <td>2</td>\n",
              "      <td>125510.82</td>\n",
              "      <td>1</td>\n",
              "      <td>1</td>\n",
              "      <td>1</td>\n",
              "      <td>79084.10</td>\n",
              "      <td>0</td>\n",
              "    </tr>\n",
              "  </tbody>\n",
              "</table>\n",
              "</div>"
            ],
            "text/plain": [
              "   RowNumber  CustomerId   Surname  ...  IsActiveMember EstimatedSalary Exited\n",
              "0          1    15634602  Hargrave  ...               1       101348.88      1\n",
              "1          2    15647311      Hill  ...               1       112542.58      0\n",
              "2          3    15619304      Onio  ...               0       113931.57      1\n",
              "3          4    15701354      Boni  ...               0        93826.63      0\n",
              "4          5    15737888  Mitchell  ...               1        79084.10      0\n",
              "\n",
              "[5 rows x 14 columns]"
            ]
          },
          "metadata": {
            "tags": []
          },
          "execution_count": 2
        }
      ]
    },
    {
      "cell_type": "markdown",
      "metadata": {
        "id": "X-uEVbnPew2Z",
        "colab_type": "text"
      },
      "source": [
        "Checking the information of each column"
      ]
    },
    {
      "cell_type": "code",
      "metadata": {
        "id": "1dR3m2r1KXhw",
        "colab_type": "code",
        "colab": {
          "base_uri": "https://localhost:8080/",
          "height": 374
        },
        "outputId": "8ba36a51-fbfd-48c9-c229-a4e3647f9f8b"
      },
      "source": [
        "df.info()"
      ],
      "execution_count": 3,
      "outputs": [
        {
          "output_type": "stream",
          "text": [
            "<class 'pandas.core.frame.DataFrame'>\n",
            "RangeIndex: 10000 entries, 0 to 9999\n",
            "Data columns (total 14 columns):\n",
            " #   Column           Non-Null Count  Dtype  \n",
            "---  ------           --------------  -----  \n",
            " 0   RowNumber        10000 non-null  int64  \n",
            " 1   CustomerId       10000 non-null  int64  \n",
            " 2   Surname          10000 non-null  object \n",
            " 3   CreditScore      10000 non-null  int64  \n",
            " 4   Geography        10000 non-null  object \n",
            " 5   Gender           10000 non-null  object \n",
            " 6   Age              10000 non-null  int64  \n",
            " 7   Tenure           10000 non-null  int64  \n",
            " 8   Balance          10000 non-null  float64\n",
            " 9   NumOfProducts    10000 non-null  int64  \n",
            " 10  HasCrCard        10000 non-null  int64  \n",
            " 11  IsActiveMember   10000 non-null  int64  \n",
            " 12  EstimatedSalary  10000 non-null  float64\n",
            " 13  Exited           10000 non-null  int64  \n",
            "dtypes: float64(2), int64(9), object(3)\n",
            "memory usage: 1.1+ MB\n"
          ],
          "name": "stdout"
        }
      ]
    },
    {
      "cell_type": "code",
      "metadata": {
        "id": "SWAIEvR6JWBJ",
        "colab_type": "code",
        "colab": {
          "base_uri": "https://localhost:8080/",
          "height": 85
        },
        "outputId": "f18a1235-65f0-4541-9ab3-91cddacc4b55"
      },
      "source": [
        "df.columns"
      ],
      "execution_count": 4,
      "outputs": [
        {
          "output_type": "execute_result",
          "data": {
            "text/plain": [
              "Index(['RowNumber', 'CustomerId', 'Surname', 'CreditScore', 'Geography',\n",
              "       'Gender', 'Age', 'Tenure', 'Balance', 'NumOfProducts', 'HasCrCard',\n",
              "       'IsActiveMember', 'EstimatedSalary', 'Exited'],\n",
              "      dtype='object')"
            ]
          },
          "metadata": {
            "tags": []
          },
          "execution_count": 4
        }
      ]
    },
    {
      "cell_type": "markdown",
      "metadata": {
        "id": "AVnRUPFve6YJ",
        "colab_type": "text"
      },
      "source": [
        "<b>Dividing the dataset into features and labels</b>"
      ]
    },
    {
      "cell_type": "code",
      "metadata": {
        "id": "sFMNKNvsIb_P",
        "colab_type": "code",
        "colab": {}
      },
      "source": [
        "X = df[['CreditScore', 'Geography','Gender', 'Age', 'Tenure', 'Balance', 'NumOfProducts', 'HasCrCard',\n",
        "       'IsActiveMember', 'EstimatedSalary']]\n",
        "y = df['Exited']\n",
        "       "
      ],
      "execution_count": 0,
      "outputs": []
    },
    {
      "cell_type": "markdown",
      "metadata": {
        "id": "uhdOCqBnfDtt",
        "colab_type": "text"
      },
      "source": [
        "<b>Checking if there are any null values or some missing values in features and labels</b>"
      ]
    },
    {
      "cell_type": "code",
      "metadata": {
        "id": "UW5aIWGfJoIi",
        "colab_type": "code",
        "colab": {
          "base_uri": "https://localhost:8080/",
          "height": 204
        },
        "outputId": "66bb4d29-ab43-4ad1-d25f-53a709ad62d1"
      },
      "source": [
        "X.isnull().sum()"
      ],
      "execution_count": 6,
      "outputs": [
        {
          "output_type": "execute_result",
          "data": {
            "text/plain": [
              "CreditScore        0\n",
              "Geography          0\n",
              "Gender             0\n",
              "Age                0\n",
              "Tenure             0\n",
              "Balance            0\n",
              "NumOfProducts      0\n",
              "HasCrCard          0\n",
              "IsActiveMember     0\n",
              "EstimatedSalary    0\n",
              "dtype: int64"
            ]
          },
          "metadata": {
            "tags": []
          },
          "execution_count": 6
        }
      ]
    },
    {
      "cell_type": "code",
      "metadata": {
        "id": "Ag6MyfUMJ9ho",
        "colab_type": "code",
        "colab": {
          "base_uri": "https://localhost:8080/",
          "height": 34
        },
        "outputId": "1eeaf4c3-3b74-45d2-ec1b-f058a7eb6adf"
      },
      "source": [
        "y.isnull().sum() "
      ],
      "execution_count": 7,
      "outputs": [
        {
          "output_type": "execute_result",
          "data": {
            "text/plain": [
              "0"
            ]
          },
          "metadata": {
            "tags": []
          },
          "execution_count": 7
        }
      ]
    },
    {
      "cell_type": "code",
      "metadata": {
        "id": "rWE1-4BlKA0I",
        "colab_type": "code",
        "colab": {
          "base_uri": "https://localhost:8080/",
          "height": 306
        },
        "outputId": "a98c5533-557f-457d-cfe1-76d09ad34c15"
      },
      "source": [
        "X.info()"
      ],
      "execution_count": 8,
      "outputs": [
        {
          "output_type": "stream",
          "text": [
            "<class 'pandas.core.frame.DataFrame'>\n",
            "RangeIndex: 10000 entries, 0 to 9999\n",
            "Data columns (total 10 columns):\n",
            " #   Column           Non-Null Count  Dtype  \n",
            "---  ------           --------------  -----  \n",
            " 0   CreditScore      10000 non-null  int64  \n",
            " 1   Geography        10000 non-null  object \n",
            " 2   Gender           10000 non-null  object \n",
            " 3   Age              10000 non-null  int64  \n",
            " 4   Tenure           10000 non-null  int64  \n",
            " 5   Balance          10000 non-null  float64\n",
            " 6   NumOfProducts    10000 non-null  int64  \n",
            " 7   HasCrCard        10000 non-null  int64  \n",
            " 8   IsActiveMember   10000 non-null  int64  \n",
            " 9   EstimatedSalary  10000 non-null  float64\n",
            "dtypes: float64(2), int64(6), object(2)\n",
            "memory usage: 781.4+ KB\n"
          ],
          "name": "stdout"
        }
      ]
    },
    {
      "cell_type": "markdown",
      "metadata": {
        "id": "PINWmJR1fPSy",
        "colab_type": "text"
      },
      "source": [
        "<b>Since, there are categorical as well continous data,so we divide the features and labels into categorical,continous and labelled data</b>"
      ]
    },
    {
      "cell_type": "code",
      "metadata": {
        "id": "aW5qqInjKPeD",
        "colab_type": "code",
        "colab": {}
      },
      "source": [
        "categorical_cols = ['Geography','Gender']\n",
        "continous_cols = ['CreditScore', 'Age', 'Tenure', 'Balance', 'NumOfProducts', 'HasCrCard',\n",
        "       'IsActiveMember', 'EstimatedSalary']\n",
        "y_cols = ['Exited']       "
      ],
      "execution_count": 0,
      "outputs": []
    },
    {
      "cell_type": "code",
      "metadata": {
        "id": "8fHCYt2yK77j",
        "colab_type": "code",
        "colab": {
          "base_uri": "https://localhost:8080/",
          "height": 428
        },
        "outputId": "f59cb701-52cf-477f-be7c-39f1c9f4b525"
      },
      "source": [
        "for cat in categorical_cols:\n",
        "  X[cat] = X[cat].astype('category')\n",
        "\n",
        "X.info()"
      ],
      "execution_count": 10,
      "outputs": [
        {
          "output_type": "stream",
          "text": [
            "<class 'pandas.core.frame.DataFrame'>\n",
            "RangeIndex: 10000 entries, 0 to 9999\n",
            "Data columns (total 10 columns):\n",
            " #   Column           Non-Null Count  Dtype   \n",
            "---  ------           --------------  -----   \n",
            " 0   CreditScore      10000 non-null  int64   \n",
            " 1   Geography        10000 non-null  category\n",
            " 2   Gender           10000 non-null  category\n",
            " 3   Age              10000 non-null  int64   \n",
            " 4   Tenure           10000 non-null  int64   \n",
            " 5   Balance          10000 non-null  float64 \n",
            " 6   NumOfProducts    10000 non-null  int64   \n",
            " 7   HasCrCard        10000 non-null  int64   \n",
            " 8   IsActiveMember   10000 non-null  int64   \n",
            " 9   EstimatedSalary  10000 non-null  float64 \n",
            "dtypes: category(2), float64(2), int64(6)\n",
            "memory usage: 644.9 KB\n"
          ],
          "name": "stdout"
        },
        {
          "output_type": "stream",
          "text": [
            "/usr/local/lib/python3.6/dist-packages/ipykernel_launcher.py:2: SettingWithCopyWarning: \n",
            "A value is trying to be set on a copy of a slice from a DataFrame.\n",
            "Try using .loc[row_indexer,col_indexer] = value instead\n",
            "\n",
            "See the caveats in the documentation: https://pandas.pydata.org/pandas-docs/stable/user_guide/indexing.html#returning-a-view-versus-a-copy\n",
            "  \n"
          ],
          "name": "stderr"
        }
      ]
    },
    {
      "cell_type": "code",
      "metadata": {
        "id": "gNNFTJA1LhUH",
        "colab_type": "code",
        "colab": {
          "base_uri": "https://localhost:8080/",
          "height": 34
        },
        "outputId": "11e99a72-528a-46ba-cc16-41cce3f1916d"
      },
      "source": [
        "X['Gender'].cat.categories"
      ],
      "execution_count": 11,
      "outputs": [
        {
          "output_type": "execute_result",
          "data": {
            "text/plain": [
              "Index(['Female', 'Male'], dtype='object')"
            ]
          },
          "metadata": {
            "tags": []
          },
          "execution_count": 11
        }
      ]
    },
    {
      "cell_type": "code",
      "metadata": {
        "id": "xlKO96tdLwX-",
        "colab_type": "code",
        "colab": {
          "base_uri": "https://localhost:8080/",
          "height": 221
        },
        "outputId": "57e06f52-ff75-4584-f9cd-3dc68b40504e"
      },
      "source": [
        "X['Gender'].cat.codes"
      ],
      "execution_count": 12,
      "outputs": [
        {
          "output_type": "execute_result",
          "data": {
            "text/plain": [
              "0       0\n",
              "1       0\n",
              "2       0\n",
              "3       0\n",
              "4       0\n",
              "       ..\n",
              "9995    1\n",
              "9996    1\n",
              "9997    0\n",
              "9998    1\n",
              "9999    0\n",
              "Length: 10000, dtype: int8"
            ]
          },
          "metadata": {
            "tags": []
          },
          "execution_count": 12
        }
      ]
    },
    {
      "cell_type": "code",
      "metadata": {
        "id": "WdafKduAL0yg",
        "colab_type": "code",
        "colab": {
          "base_uri": "https://localhost:8080/",
          "height": 34
        },
        "outputId": "00c72b24-bd0c-417a-ddc2-5664599c7cc1"
      },
      "source": [
        "X['Gender'].cat.codes.values"
      ],
      "execution_count": 13,
      "outputs": [
        {
          "output_type": "execute_result",
          "data": {
            "text/plain": [
              "array([0, 0, 0, ..., 0, 1, 0], dtype=int8)"
            ]
          },
          "metadata": {
            "tags": []
          },
          "execution_count": 13
        }
      ]
    },
    {
      "cell_type": "code",
      "metadata": {
        "id": "ldHHlNmHL_pS",
        "colab_type": "code",
        "colab": {
          "base_uri": "https://localhost:8080/",
          "height": 34
        },
        "outputId": "1c48abfd-6149-489a-f7de-ae28a60c802e"
      },
      "source": [
        "X['Geography'].cat.categories"
      ],
      "execution_count": 14,
      "outputs": [
        {
          "output_type": "execute_result",
          "data": {
            "text/plain": [
              "Index(['France', 'Germany', 'Spain'], dtype='object')"
            ]
          },
          "metadata": {
            "tags": []
          },
          "execution_count": 14
        }
      ]
    },
    {
      "cell_type": "code",
      "metadata": {
        "id": "gu22eKoFSu-r",
        "colab_type": "code",
        "colab": {
          "base_uri": "https://localhost:8080/",
          "height": 34
        },
        "outputId": "428df87d-843b-424c-aca8-bd482a3192ee"
      },
      "source": [
        "X['Geography'].cat.codes.values"
      ],
      "execution_count": 15,
      "outputs": [
        {
          "output_type": "execute_result",
          "data": {
            "text/plain": [
              "array([0, 2, 0, ..., 0, 1, 0], dtype=int8)"
            ]
          },
          "metadata": {
            "tags": []
          },
          "execution_count": 15
        }
      ]
    },
    {
      "cell_type": "code",
      "metadata": {
        "id": "ho9Mmwu4S0yj",
        "colab_type": "code",
        "colab": {
          "base_uri": "https://localhost:8080/",
          "height": 221
        },
        "outputId": "072cb8e9-938a-42d0-d248-6d4181db085e"
      },
      "source": [
        "X['Geography'].cat.codes"
      ],
      "execution_count": 16,
      "outputs": [
        {
          "output_type": "execute_result",
          "data": {
            "text/plain": [
              "0       0\n",
              "1       2\n",
              "2       0\n",
              "3       0\n",
              "4       2\n",
              "       ..\n",
              "9995    0\n",
              "9996    0\n",
              "9997    0\n",
              "9998    1\n",
              "9999    0\n",
              "Length: 10000, dtype: int8"
            ]
          },
          "metadata": {
            "tags": []
          },
          "execution_count": 16
        }
      ]
    },
    {
      "cell_type": "code",
      "metadata": {
        "id": "EDoqiPoHS8Yi",
        "colab_type": "code",
        "colab": {}
      },
      "source": [
        "gender = X['Gender'].cat.codes.values\n",
        "geo = X['Geography'].cat.codes.values"
      ],
      "execution_count": 0,
      "outputs": []
    },
    {
      "cell_type": "markdown",
      "metadata": {
        "id": "b0TCfvf7fim_",
        "colab_type": "text"
      },
      "source": [
        "<b>Converting the data into One-hot encoder</b>"
      ]
    },
    {
      "cell_type": "code",
      "metadata": {
        "id": "-Xd8KrOmTNnB",
        "colab_type": "code",
        "colab": {
          "base_uri": "https://localhost:8080/",
          "height": 136
        },
        "outputId": "f7580cc8-d440-4e0f-e646-c7a3f145c33d"
      },
      "source": [
        "categorical = np.stack([geo,gender],axis = 1)\n",
        "categorical"
      ],
      "execution_count": 29,
      "outputs": [
        {
          "output_type": "execute_result",
          "data": {
            "text/plain": [
              "array([[0, 0],\n",
              "       [2, 0],\n",
              "       [0, 0],\n",
              "       ...,\n",
              "       [0, 0],\n",
              "       [1, 1],\n",
              "       [0, 0]], dtype=int8)"
            ]
          },
          "metadata": {
            "tags": []
          },
          "execution_count": 29
        }
      ]
    },
    {
      "cell_type": "code",
      "metadata": {
        "id": "0z57hJWSTWUU",
        "colab_type": "code",
        "colab": {
          "base_uri": "https://localhost:8080/",
          "height": 190
        },
        "outputId": "18f53ff7-dd58-4de8-c1ec-232234fb84df"
      },
      "source": [
        "categorical = torch.tensor(categorical,dtype=torch.int64)\n",
        "categorical"
      ],
      "execution_count": 73,
      "outputs": [
        {
          "output_type": "stream",
          "text": [
            "/usr/local/lib/python3.6/dist-packages/ipykernel_launcher.py:1: UserWarning: To copy construct from a tensor, it is recommended to use sourceTensor.clone().detach() or sourceTensor.clone().detach().requires_grad_(True), rather than torch.tensor(sourceTensor).\n",
            "  \"\"\"Entry point for launching an IPython kernel.\n"
          ],
          "name": "stderr"
        },
        {
          "output_type": "execute_result",
          "data": {
            "text/plain": [
              "tensor([[0, 0],\n",
              "        [2, 0],\n",
              "        [0, 0],\n",
              "        ...,\n",
              "        [0, 0],\n",
              "        [1, 1],\n",
              "        [0, 0]])"
            ]
          },
          "metadata": {
            "tags": []
          },
          "execution_count": 73
        }
      ]
    },
    {
      "cell_type": "code",
      "metadata": {
        "id": "-3R5iS23T7C2",
        "colab_type": "code",
        "colab": {
          "base_uri": "https://localhost:8080/",
          "height": 238
        },
        "outputId": "dc0df8eb-5988-4cf7-8367-a3c4eb21a1e9"
      },
      "source": [
        "continous = np.stack([X[col].values for col in continous_cols],1)\n",
        "continous"
      ],
      "execution_count": 31,
      "outputs": [
        {
          "output_type": "execute_result",
          "data": {
            "text/plain": [
              "array([[6.1900000e+02, 4.2000000e+01, 2.0000000e+00, ..., 1.0000000e+00,\n",
              "        1.0000000e+00, 1.0134888e+05],\n",
              "       [6.0800000e+02, 4.1000000e+01, 1.0000000e+00, ..., 0.0000000e+00,\n",
              "        1.0000000e+00, 1.1254258e+05],\n",
              "       [5.0200000e+02, 4.2000000e+01, 8.0000000e+00, ..., 1.0000000e+00,\n",
              "        0.0000000e+00, 1.1393157e+05],\n",
              "       ...,\n",
              "       [7.0900000e+02, 3.6000000e+01, 7.0000000e+00, ..., 0.0000000e+00,\n",
              "        1.0000000e+00, 4.2085580e+04],\n",
              "       [7.7200000e+02, 4.2000000e+01, 3.0000000e+00, ..., 1.0000000e+00,\n",
              "        0.0000000e+00, 9.2888520e+04],\n",
              "       [7.9200000e+02, 2.8000000e+01, 4.0000000e+00, ..., 1.0000000e+00,\n",
              "        0.0000000e+00, 3.8190780e+04]])"
            ]
          },
          "metadata": {
            "tags": []
          },
          "execution_count": 31
        }
      ]
    },
    {
      "cell_type": "code",
      "metadata": {
        "id": "6XRLWw_-UQUN",
        "colab_type": "code",
        "colab": {
          "base_uri": "https://localhost:8080/",
          "height": 238
        },
        "outputId": "81074b3d-b5ff-4aa7-d1f5-4e05fa385fb3"
      },
      "source": [
        "continous = torch.tensor(continous,dtype=torch.float)\n",
        "continous"
      ],
      "execution_count": 32,
      "outputs": [
        {
          "output_type": "execute_result",
          "data": {
            "text/plain": [
              "tensor([[6.1900e+02, 4.2000e+01, 2.0000e+00,  ..., 1.0000e+00, 1.0000e+00,\n",
              "         1.0135e+05],\n",
              "        [6.0800e+02, 4.1000e+01, 1.0000e+00,  ..., 0.0000e+00, 1.0000e+00,\n",
              "         1.1254e+05],\n",
              "        [5.0200e+02, 4.2000e+01, 8.0000e+00,  ..., 1.0000e+00, 0.0000e+00,\n",
              "         1.1393e+05],\n",
              "        ...,\n",
              "        [7.0900e+02, 3.6000e+01, 7.0000e+00,  ..., 0.0000e+00, 1.0000e+00,\n",
              "         4.2086e+04],\n",
              "        [7.7200e+02, 4.2000e+01, 3.0000e+00,  ..., 1.0000e+00, 0.0000e+00,\n",
              "         9.2889e+04],\n",
              "        [7.9200e+02, 2.8000e+01, 4.0000e+00,  ..., 1.0000e+00, 0.0000e+00,\n",
              "         3.8191e+04]])"
            ]
          },
          "metadata": {
            "tags": []
          },
          "execution_count": 32
        }
      ]
    },
    {
      "cell_type": "code",
      "metadata": {
        "id": "ogVaquM5UUu2",
        "colab_type": "code",
        "colab": {
          "base_uri": "https://localhost:8080/",
          "height": 136
        },
        "outputId": "567c6ab9-828a-4e81-a592-bf601c0ec8eb"
      },
      "source": [
        "y = torch.tensor(df[y_cols].values, dtype= torch.float)\n",
        "y"
      ],
      "execution_count": 33,
      "outputs": [
        {
          "output_type": "execute_result",
          "data": {
            "text/plain": [
              "tensor([[1.],\n",
              "        [0.],\n",
              "        [1.],\n",
              "        ...,\n",
              "        [1.],\n",
              "        [1.],\n",
              "        [0.]])"
            ]
          },
          "metadata": {
            "tags": []
          },
          "execution_count": 33
        }
      ]
    },
    {
      "cell_type": "code",
      "metadata": {
        "id": "q7D6yEAeUwwz",
        "colab_type": "code",
        "colab": {
          "base_uri": "https://localhost:8080/",
          "height": 136
        },
        "outputId": "ff2d7acb-15a9-44b1-8b16-2422bbce35aa"
      },
      "source": [
        "y = y.reshape(-1,1)\n",
        "y"
      ],
      "execution_count": 34,
      "outputs": [
        {
          "output_type": "execute_result",
          "data": {
            "text/plain": [
              "tensor([[1.],\n",
              "        [0.],\n",
              "        [1.],\n",
              "        ...,\n",
              "        [1.],\n",
              "        [1.],\n",
              "        [0.]])"
            ]
          },
          "metadata": {
            "tags": []
          },
          "execution_count": 34
        }
      ]
    },
    {
      "cell_type": "code",
      "metadata": {
        "id": "9T-FhefEVfTZ",
        "colab_type": "code",
        "colab": {
          "base_uri": "https://localhost:8080/",
          "height": 34
        },
        "outputId": "fa14b774-b308-4402-f737-f2b05d7e6a78"
      },
      "source": [
        "categorical.shape , continous.shape, y.shape"
      ],
      "execution_count": 35,
      "outputs": [
        {
          "output_type": "execute_result",
          "data": {
            "text/plain": [
              "(torch.Size([10000, 2]), torch.Size([10000, 8]), torch.Size([10000, 1]))"
            ]
          },
          "metadata": {
            "tags": []
          },
          "execution_count": 35
        }
      ]
    },
    {
      "cell_type": "code",
      "metadata": {
        "id": "ud_4jwtoWZIa",
        "colab_type": "code",
        "colab": {
          "base_uri": "https://localhost:8080/",
          "height": 34
        },
        "outputId": "8ea78727-4e79-4d40-f238-807ae8e327de"
      },
      "source": [
        "#Now we perform ont hot encoding using Embedding layer function of nn.Module\n",
        "\n",
        "cats_size = [len(X[col].cat.categories) for col in categorical_cols]\n",
        "cats_size"
      ],
      "execution_count": 36,
      "outputs": [
        {
          "output_type": "execute_result",
          "data": {
            "text/plain": [
              "[3, 2]"
            ]
          },
          "metadata": {
            "tags": []
          },
          "execution_count": 36
        }
      ]
    },
    {
      "cell_type": "code",
      "metadata": {
        "id": "g2UTL_i1XqMc",
        "colab_type": "code",
        "colab": {
          "base_uri": "https://localhost:8080/",
          "height": 34
        },
        "outputId": "9447374e-3bc9-4d71-98fc-acf87a8f3afe"
      },
      "source": [
        "emp_size = [(size,min((size+1)//2,50)) for size in cats_size]\n",
        "emp_size"
      ],
      "execution_count": 37,
      "outputs": [
        {
          "output_type": "execute_result",
          "data": {
            "text/plain": [
              "[(3, 2), (2, 1)]"
            ]
          },
          "metadata": {
            "tags": []
          },
          "execution_count": 37
        }
      ]
    },
    {
      "cell_type": "code",
      "metadata": {
        "id": "-DEg4hQCYQIx",
        "colab_type": "code",
        "colab": {
          "base_uri": "https://localhost:8080/",
          "height": 85
        },
        "outputId": "a9850395-21a6-486c-88a6-327d403fd45c"
      },
      "source": [
        "selfembeds = nn.ModuleList([nn.Embedding(n1,n2) for n1,n2 in emp_size])\n",
        "selfembeds"
      ],
      "execution_count": 38,
      "outputs": [
        {
          "output_type": "execute_result",
          "data": {
            "text/plain": [
              "ModuleList(\n",
              "  (0): Embedding(3, 2)\n",
              "  (1): Embedding(2, 1)\n",
              ")"
            ]
          },
          "metadata": {
            "tags": []
          },
          "execution_count": 38
        }
      ]
    },
    {
      "cell_type": "code",
      "metadata": {
        "id": "7cUhi8uxY1VZ",
        "colab_type": "code",
        "colab": {
          "base_uri": "https://localhost:8080/",
          "height": 238
        },
        "outputId": "62d10130-a92b-4808-fbd0-1da23ffbecb8"
      },
      "source": [
        "embeddingz = []\n",
        "\n",
        "for i,e in enumerate(selfembeds):\n",
        "  embeddingz.append(e(categorical[:,i]))\n",
        "embeddingz  "
      ],
      "execution_count": 39,
      "outputs": [
        {
          "output_type": "execute_result",
          "data": {
            "text/plain": [
              "[tensor([[ 1.5795, -0.8460],\n",
              "         [ 0.0616,  0.1401],\n",
              "         [ 1.5795, -0.8460],\n",
              "         ...,\n",
              "         [ 1.5795, -0.8460],\n",
              "         [ 0.5649,  1.0072],\n",
              "         [ 1.5795, -0.8460]], grad_fn=<EmbeddingBackward>), tensor([[0.3384],\n",
              "         [0.3384],\n",
              "         [0.3384],\n",
              "         ...,\n",
              "         [0.3384],\n",
              "         [0.5497],\n",
              "         [0.3384]], grad_fn=<EmbeddingBackward>)]"
            ]
          },
          "metadata": {
            "tags": []
          },
          "execution_count": 39
        }
      ]
    },
    {
      "cell_type": "code",
      "metadata": {
        "id": "ey0I81bUZGFW",
        "colab_type": "code",
        "colab": {
          "base_uri": "https://localhost:8080/",
          "height": 153
        },
        "outputId": "63db6dde-33c7-4469-b77b-4a8823c67cc0"
      },
      "source": [
        "z = torch.cat(embeddingz,1)  #Above we can see that there are different tensors for the 3 columns,so we merged them.\n",
        "z, z.shape"
      ],
      "execution_count": 40,
      "outputs": [
        {
          "output_type": "execute_result",
          "data": {
            "text/plain": [
              "(tensor([[ 1.5795, -0.8460,  0.3384],\n",
              "         [ 0.0616,  0.1401,  0.3384],\n",
              "         [ 1.5795, -0.8460,  0.3384],\n",
              "         ...,\n",
              "         [ 1.5795, -0.8460,  0.3384],\n",
              "         [ 0.5649,  1.0072,  0.5497],\n",
              "         [ 1.5795, -0.8460,  0.3384]], grad_fn=<CatBackward>),\n",
              " torch.Size([10000, 3]))"
            ]
          },
          "metadata": {
            "tags": []
          },
          "execution_count": 40
        }
      ]
    },
    {
      "cell_type": "markdown",
      "metadata": {
        "id": "VP_H2a61yOrf",
        "colab_type": "text"
      },
      "source": [
        "#### Shifting everything to GPU"
      ]
    },
    {
      "cell_type": "code",
      "metadata": {
        "id": "-Sx8J8NtyWJL",
        "colab_type": "code",
        "colab": {}
      },
      "source": [
        "categorical = categorical.cuda()\n",
        "continous = continous.cuda()\n",
        "y = y.cuda()"
      ],
      "execution_count": 0,
      "outputs": []
    },
    {
      "cell_type": "markdown",
      "metadata": {
        "id": "ZjF9tsfpgNIM",
        "colab_type": "text"
      },
      "source": [
        "## 3) Defining the model"
      ]
    },
    {
      "cell_type": "code",
      "metadata": {
        "id": "li0M0a_YeaIf",
        "colab_type": "code",
        "colab": {}
      },
      "source": [
        "class ANN(nn.Module):\n",
        "\n",
        "  def __init__(self, emp_size, n_cont, out_sz, layers, p=0.5):\n",
        "        super().__init__()\n",
        "        self.embeds = nn.ModuleList([nn.Embedding(ni, nf) for ni,nf in emp_size])\n",
        "        self.emb_drop = nn.Dropout(p)\n",
        "        self.bn_cont = nn.BatchNorm1d(n_cont)\n",
        "        \n",
        "        layerlist = []\n",
        "        n_emb = sum((nf for ni,nf in emp_size))\n",
        "        n_in = n_emb + n_cont\n",
        "        \n",
        "        for i in layers:\n",
        "            layerlist.append(nn.Linear(n_in,i)) \n",
        "            layerlist.append(nn.ReLU(inplace=True))\n",
        "            layerlist.append(nn.BatchNorm1d(i))\n",
        "            layerlist.append(nn.Dropout(p))\n",
        "            n_in = i\n",
        "        layerlist.append(nn.Linear(layers[-1],out_sz))\n",
        "            \n",
        "        self.layers = nn.Sequential(*layerlist)\n",
        "    \n",
        "  def forward(self, x_cat, x_cont):\n",
        "        embeddings = []\n",
        "        for i,e in enumerate(self.embeds):\n",
        "            embeddings.append(e(x_cat[:,i]))\n",
        "        x = torch.cat(embeddings, 1)\n",
        "        x = self.emb_drop(x)\n",
        "        \n",
        "        x_cont = self.bn_cont(x_cont)\n",
        "        x = torch.cat([x, x_cont], 1)\n",
        "        x = self.layers(x)\n",
        "        return F.sigmoid(x)    "
      ],
      "execution_count": 0,
      "outputs": []
    },
    {
      "cell_type": "code",
      "metadata": {
        "id": "wqa_gSYBiJag",
        "colab_type": "code",
        "colab": {}
      },
      "source": [
        "torch.manual_seed(33)\n",
        "model = ANN(emp_size,continous.shape[1],1,[200,200],p=0.4)"
      ],
      "execution_count": 0,
      "outputs": []
    },
    {
      "cell_type": "code",
      "metadata": {
        "id": "qkNhdagEiWuX",
        "colab_type": "code",
        "colab": {
          "base_uri": "https://localhost:8080/",
          "height": 340
        },
        "outputId": "877606da-a8e4-4b45-b9bb-513f74676d01"
      },
      "source": [
        "gpu_model = model.cuda()\n",
        "gpu_model"
      ],
      "execution_count": 77,
      "outputs": [
        {
          "output_type": "execute_result",
          "data": {
            "text/plain": [
              "ANN(\n",
              "  (embeds): ModuleList(\n",
              "    (0): Embedding(3, 2)\n",
              "    (1): Embedding(2, 1)\n",
              "  )\n",
              "  (emb_drop): Dropout(p=0.4, inplace=False)\n",
              "  (bn_cont): BatchNorm1d(8, eps=1e-05, momentum=0.1, affine=True, track_running_stats=True)\n",
              "  (layers): Sequential(\n",
              "    (0): Linear(in_features=11, out_features=200, bias=True)\n",
              "    (1): ReLU(inplace=True)\n",
              "    (2): BatchNorm1d(200, eps=1e-05, momentum=0.1, affine=True, track_running_stats=True)\n",
              "    (3): Dropout(p=0.4, inplace=False)\n",
              "    (4): Linear(in_features=200, out_features=200, bias=True)\n",
              "    (5): ReLU(inplace=True)\n",
              "    (6): BatchNorm1d(200, eps=1e-05, momentum=0.1, affine=True, track_running_stats=True)\n",
              "    (7): Dropout(p=0.4, inplace=False)\n",
              "    (8): Linear(in_features=200, out_features=1, bias=True)\n",
              "  )\n",
              ")"
            ]
          },
          "metadata": {
            "tags": []
          },
          "execution_count": 77
        }
      ]
    },
    {
      "cell_type": "markdown",
      "metadata": {
        "id": "ANJjg7Zlo8hT",
        "colab_type": "text"
      },
      "source": [
        "## 4) Defining the loss function and optimizer\n",
        "\n",
        "- For loss function : https://stackoverflow.com/questions/53628622/loss-function-its-inputs-for-binary-classification-pytorch\n",
        "\n"
      ]
    },
    {
      "cell_type": "code",
      "metadata": {
        "id": "sMhCjPIUiZVl",
        "colab_type": "code",
        "colab": {}
      },
      "source": [
        "## 4) Defining the loss function and optimizer\n",
        "criterion = nn.BCELoss()\n",
        "optimizer = torch.optim.Adam(model.parameters(),lr = 0.001)"
      ],
      "execution_count": 0,
      "outputs": []
    },
    {
      "cell_type": "markdown",
      "metadata": {
        "id": "KNFC7e5Ep4kz",
        "colab_type": "text"
      },
      "source": [
        "## 5) Splitting the Data into Training,Validation and Testing set"
      ]
    },
    {
      "cell_type": "code",
      "metadata": {
        "id": "w6Sd4MHhpsE2",
        "colab_type": "code",
        "colab": {
          "base_uri": "https://localhost:8080/",
          "height": 34
        },
        "outputId": "2485ffdd-4269-4214-ebca-4615dd1263a6"
      },
      "source": [
        "len(categorical)"
      ],
      "execution_count": 79,
      "outputs": [
        {
          "output_type": "execute_result",
          "data": {
            "text/plain": [
              "10000"
            ]
          },
          "metadata": {
            "tags": []
          },
          "execution_count": 79
        }
      ]
    },
    {
      "cell_type": "markdown",
      "metadata": {
        "id": "wz6cJhxGqGeK",
        "colab_type": "text"
      },
      "source": [
        "We will be taking 70% data as training, 15% as validation and 15% as testing set."
      ]
    },
    {
      "cell_type": "code",
      "metadata": {
        "id": "GhJ1pIkvqER8",
        "colab_type": "code",
        "colab": {
          "base_uri": "https://localhost:8080/",
          "height": 68
        },
        "outputId": "6c9d3344-e2b2-4f8f-9e7b-f2637b1579d9"
      },
      "source": [
        "size = int(len(categorical)*0.7)\n",
        "val = int(len(categorical)*0.15)\n",
        "cat_train, cont_train, y_train = categorical[:size], continous[:size], y[:size]\n",
        "cat_val, cont_val, y_val = categorical[size:size+val], continous[size:size+val], y[size:size+val]\n",
        "cat_test, cont_test, y_test = categorical[size+val:], continous[size+val:], y[size+val:]\n",
        "print(len(cat_train), len(cont_train), len(y_train))\n",
        "print(len(cat_val), len(cont_val), len(y_val))\n",
        "print(len(cat_test), len(cont_test), len(y_test))"
      ],
      "execution_count": 80,
      "outputs": [
        {
          "output_type": "stream",
          "text": [
            "7000 7000 7000\n",
            "1500 1500 1500\n",
            "1500 1500 1500\n"
          ],
          "name": "stdout"
        }
      ]
    },
    {
      "cell_type": "markdown",
      "metadata": {
        "id": "QWMYCaWTsGKi",
        "colab_type": "text"
      },
      "source": [
        "## 6) Training the model"
      ]
    },
    {
      "cell_type": "code",
      "metadata": {
        "id": "jXhePwqAreS8",
        "colab_type": "code",
        "colab": {
          "base_uri": "https://localhost:8080/",
          "height": 275
        },
        "outputId": "9db7f2d3-c0d9-44a1-eac3-67a344e44dbd"
      },
      "source": [
        "import time\n",
        "start_time = time.time()\n",
        "\n",
        "epochs = 1001\n",
        "losses = []\n",
        "gpu_model.train()\n",
        "for i in range(epochs):\n",
        "    i+=1\n",
        "\n",
        "    ############# Training #############\n",
        "    y_train_pred = gpu_model(cat_train, cont_train)\n",
        "    loss = criterion(y_train_pred, y_train)\n",
        "    losses.append(loss)\n",
        "    \n",
        "    ############# Validation ############\n",
        "    if i%100 == 0:\n",
        "      model.eval()\n",
        "\n",
        "      y_val_pred = gpu_model(cat_val,cont_val)\n",
        "      losse = criterion(y_val_pred,y_val)\n",
        "      print(f'epoch: {i}  loss: {loss.item()}')\n",
        "      \n",
        "      gpu_model.train()\n",
        "\n",
        "    optimizer.zero_grad()\n",
        "    loss.backward()\n",
        "    optimizer.step()\n",
        "\n",
        "print(f'\\nDuration: {(time.time() - start_time)/60} minutes') # print the time elapsed"
      ],
      "execution_count": 81,
      "outputs": [
        {
          "output_type": "stream",
          "text": [
            "/usr/local/lib/python3.6/dist-packages/torch/nn/functional.py:1351: UserWarning: nn.functional.sigmoid is deprecated. Use torch.sigmoid instead.\n",
            "  warnings.warn(\"nn.functional.sigmoid is deprecated. Use torch.sigmoid instead.\")\n"
          ],
          "name": "stderr"
        },
        {
          "output_type": "stream",
          "text": [
            "epoch: 100  loss: 0.37907344102859497\n",
            "epoch: 200  loss: 0.3441077470779419\n",
            "epoch: 300  loss: 0.3256727159023285\n",
            "epoch: 400  loss: 0.321718692779541\n",
            "epoch: 500  loss: 0.3149172365665436\n",
            "epoch: 600  loss: 0.3155314028263092\n",
            "epoch: 700  loss: 0.3031814992427826\n",
            "epoch: 800  loss: 0.3033856153488159\n",
            "epoch: 900  loss: 0.29533809423446655\n",
            "epoch: 1000  loss: 0.2904115915298462\n",
            "\n",
            "Duration: 0.17381112178166708 minutes\n"
          ],
          "name": "stdout"
        }
      ]
    },
    {
      "cell_type": "markdown",
      "metadata": {
        "id": "ifVEfL5IwZ5Y",
        "colab_type": "text"
      },
      "source": [
        "Loss function can be further minimized by increasing the epochs , or changing the number of neurons in the hidden layer or increasing the number of hidden layers."
      ]
    },
    {
      "cell_type": "code",
      "metadata": {
        "id": "oJw2Tv0ytEj-",
        "colab_type": "code",
        "colab": {
          "base_uri": "https://localhost:8080/",
          "height": 295
        },
        "outputId": "f60989af-2e0b-4888-ac6c-7e731d8d97d4"
      },
      "source": [
        "plt.plot(range(epochs),losses)\n",
        "plt.xlabel(\"Epochs\")\n",
        "plt.ylabel(\"Loss\")\n",
        "plt.title(\"Epoch Vs Loss graph\");"
      ],
      "execution_count": 82,
      "outputs": [
        {
          "output_type": "display_data",
          "data": {
            "image/png": "[encoded data removed]",
            "text/plain": [
              "<Figure size 432x288 with 1 Axes>"
            ]
          },
          "metadata": {
            "tags": [],
            "needs_background": "light"
          }
        }
      ]
    },
    {
      "cell_type": "code",
      "metadata": {
        "id": "G6uQw9CCwvX4",
        "colab_type": "code",
        "colab": {}
      },
      "source": [
        ""
      ],
      "execution_count": 0,
      "outputs": []
    }
  ]
}