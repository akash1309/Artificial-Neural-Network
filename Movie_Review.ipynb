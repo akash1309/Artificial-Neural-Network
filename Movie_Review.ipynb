{
  "nbformat": 4,
  "nbformat_minor": 0,
  "metadata": {
    "colab": {
      "name": "Movie_Review.ipynb",
      "provenance": [],
      "mount_file_id": "1vRcqk38j8Fom6qJ6Swgxxy6grwSzCbQ8",
      "authorship_tag": "ABX9TyO97QOfm04J3//TA2SYJCIl",
      "include_colab_link": true
    },
    "kernelspec": {
      "name": "python3",
      "display_name": "Python 3"
    },
    "accelerator": "GPU"
  },
  "cells": [
    {
      "cell_type": "markdown",
      "metadata": {
        "id": "view-in-github",
        "colab_type": "text"
      },
      "source": [
        "<a href=\"https://colab.research.google.com/github/akash1309/Artificial-Neural-Network/blob/master/Movie_Review.ipynb\" target=\"_parent\"><img src=\"https://colab.research.google.com/assets/colab-badge.svg\" alt=\"Open In Colab\"/></a>"
      ]
    },
    {
      "cell_type": "markdown",
      "metadata": {
        "id": "9hHh0wdzV97x",
        "colab_type": "text"
      },
      "source": [
        "# Bag of Words Meets Bags Of Popcorn\n",
        "\n",
        "- What is Bag of Words Model? \n",
        "https://www.geeksforgeeks.org/bag-of-words-bow-model-in-nlp/\n",
        "\n",
        "- What is Word2Vec?\n",
        "https://code.google.com/archive/p/word2vec/\n",
        "\n",
        "\n",
        "- Contest Link: https://www.kaggle.com/c/word2vec-nlp-tutorial/overview"
      ]
    },
    {
      "cell_type": "markdown",
      "metadata": {
        "id": "enD8OlRZO_Vy",
        "colab_type": "text"
      },
      "source": [
        "## 1) Importing the libraries"
      ]
    },
    {
      "cell_type": "code",
      "metadata": {
        "id": "CtXi_qkOV759",
        "colab_type": "code",
        "colab": {
          "base_uri": "https://localhost:8080/",
          "height": 71
        },
        "outputId": "e98acc84-36e3-42d3-c550-d7c665778e4e"
      },
      "source": [
        "import numpy as np\n",
        "import pandas as pd\n",
        "import matplotlib.pyplot as plt\n",
        "import seaborn as sns\n",
        "import torch\n",
        "import torch.nn as nn\n",
        "import nltk\n",
        "import scipy\n",
        "import warnings\n",
        "import re\n",
        "warnings.filterwarnings('ignore')"
      ],
      "execution_count": 1,
      "outputs": [
        {
          "output_type": "stream",
          "text": [
            "/usr/local/lib/python3.6/dist-packages/statsmodels/tools/_testing.py:19: FutureWarning: pandas.util.testing is deprecated. Use the functions in the public API at pandas.testing instead.\n",
            "  import pandas.util.testing as tm\n"
          ],
          "name": "stderr"
        }
      ]
    },
    {
      "cell_type": "markdown",
      "metadata": {
        "id": "1DZkD669PDgu",
        "colab_type": "text"
      },
      "source": [
        "## 2) Reading the text files and observing its features"
      ]
    },
    {
      "cell_type": "code",
      "metadata": {
        "id": "KYoEq78n_gZZ",
        "colab_type": "code",
        "colab": {}
      },
      "source": [
        "# For train\n",
        "df_train = pd.read_csv('drive/My Drive/Pytorch_DataSet/Bag Of Words Meets Bags of popcorn/labeledTrainData.tsv',sep='\\t')\n",
        "\n",
        "# For test\n",
        "df_test = pd.read_csv('drive/My Drive/Pytorch_DataSet/Bag Of Words Meets Bags of popcorn/testData.tsv',sep='\\t')"
      ],
      "execution_count": 0,
      "outputs": []
    },
    {
      "cell_type": "code",
      "metadata": {
        "id": "zIvuUVycAfO4",
        "colab_type": "code",
        "colab": {
          "base_uri": "https://localhost:8080/",
          "height": 204
        },
        "outputId": "30cb1262-8833-47a7-d348-97c6e48b19f5"
      },
      "source": [
        "df_train.head()   "
      ],
      "execution_count": 3,
      "outputs": [
        {
          "output_type": "execute_result",
          "data": {
            "text/html": [
              "<div>\n",
              "<style scoped>\n",
              "    .dataframe tbody tr th:only-of-type {\n",
              "        vertical-align: middle;\n",
              "    }\n",
              "\n",
              "    .dataframe tbody tr th {\n",
              "        vertical-align: top;\n",
              "    }\n",
              "\n",
              "    .dataframe thead th {\n",
              "        text-align: right;\n",
              "    }\n",
              "</style>\n",
              "<table border=\"1\" class=\"dataframe\">\n",
              "  <thead>\n",
              "    <tr style=\"text-align: right;\">\n",
              "      <th></th>\n",
              "      <th>id</th>\n",
              "      <th>sentiment</th>\n",
              "      <th>review</th>\n",
              "    </tr>\n",
              "  </thead>\n",
              "  <tbody>\n",
              "    <tr>\n",
              "      <th>0</th>\n",
              "      <td>5814_8</td>\n",
              "      <td>1</td>\n",
              "      <td>With all this stuff going down at the moment w...</td>\n",
              "    </tr>\n",
              "    <tr>\n",
              "      <th>1</th>\n",
              "      <td>2381_9</td>\n",
              "      <td>1</td>\n",
              "      <td>\\The Classic War of the Worlds\\\" by Timothy Hi...</td>\n",
              "    </tr>\n",
              "    <tr>\n",
              "      <th>2</th>\n",
              "      <td>7759_3</td>\n",
              "      <td>0</td>\n",
              "      <td>The film starts with a manager (Nicholas Bell)...</td>\n",
              "    </tr>\n",
              "    <tr>\n",
              "      <th>3</th>\n",
              "      <td>3630_4</td>\n",
              "      <td>0</td>\n",
              "      <td>It must be assumed that those who praised this...</td>\n",
              "    </tr>\n",
              "    <tr>\n",
              "      <th>4</th>\n",
              "      <td>9495_8</td>\n",
              "      <td>1</td>\n",
              "      <td>Superbly trashy and wondrously unpretentious 8...</td>\n",
              "    </tr>\n",
              "  </tbody>\n",
              "</table>\n",
              "</div>"
            ],
            "text/plain": [
              "       id  sentiment                                             review\n",
              "0  5814_8          1  With all this stuff going down at the moment w...\n",
              "1  2381_9          1  \\The Classic War of the Worlds\\\" by Timothy Hi...\n",
              "2  7759_3          0  The film starts with a manager (Nicholas Bell)...\n",
              "3  3630_4          0  It must be assumed that those who praised this...\n",
              "4  9495_8          1  Superbly trashy and wondrously unpretentious 8..."
            ]
          },
          "metadata": {
            "tags": []
          },
          "execution_count": 3
        }
      ]
    },
    {
      "cell_type": "code",
      "metadata": {
        "id": "6KzO8A6VP15d",
        "colab_type": "code",
        "colab": {
          "base_uri": "https://localhost:8080/",
          "height": 204
        },
        "outputId": "15f348e4-7fba-4ac5-832e-909cb0ac31fd"
      },
      "source": [
        "df_test.head()"
      ],
      "execution_count": 4,
      "outputs": [
        {
          "output_type": "execute_result",
          "data": {
            "text/html": [
              "<div>\n",
              "<style scoped>\n",
              "    .dataframe tbody tr th:only-of-type {\n",
              "        vertical-align: middle;\n",
              "    }\n",
              "\n",
              "    .dataframe tbody tr th {\n",
              "        vertical-align: top;\n",
              "    }\n",
              "\n",
              "    .dataframe thead th {\n",
              "        text-align: right;\n",
              "    }\n",
              "</style>\n",
              "<table border=\"1\" class=\"dataframe\">\n",
              "  <thead>\n",
              "    <tr style=\"text-align: right;\">\n",
              "      <th></th>\n",
              "      <th>id</th>\n",
              "      <th>review</th>\n",
              "    </tr>\n",
              "  </thead>\n",
              "  <tbody>\n",
              "    <tr>\n",
              "      <th>0</th>\n",
              "      <td>12311_10</td>\n",
              "      <td>Naturally in a film who's main themes are of m...</td>\n",
              "    </tr>\n",
              "    <tr>\n",
              "      <th>1</th>\n",
              "      <td>8348_2</td>\n",
              "      <td>This movie is a disaster within a disaster fil...</td>\n",
              "    </tr>\n",
              "    <tr>\n",
              "      <th>2</th>\n",
              "      <td>5828_4</td>\n",
              "      <td>All in all, this is a movie for kids. We saw i...</td>\n",
              "    </tr>\n",
              "    <tr>\n",
              "      <th>3</th>\n",
              "      <td>7186_2</td>\n",
              "      <td>Afraid of the Dark left me with the impression...</td>\n",
              "    </tr>\n",
              "    <tr>\n",
              "      <th>4</th>\n",
              "      <td>12128_7</td>\n",
              "      <td>A very accurate depiction of small time mob li...</td>\n",
              "    </tr>\n",
              "  </tbody>\n",
              "</table>\n",
              "</div>"
            ],
            "text/plain": [
              "         id                                             review\n",
              "0  12311_10  Naturally in a film who's main themes are of m...\n",
              "1    8348_2  This movie is a disaster within a disaster fil...\n",
              "2    5828_4  All in all, this is a movie for kids. We saw i...\n",
              "3    7186_2  Afraid of the Dark left me with the impression...\n",
              "4   12128_7  A very accurate depiction of small time mob li..."
            ]
          },
          "metadata": {
            "tags": []
          },
          "execution_count": 4
        }
      ]
    },
    {
      "cell_type": "code",
      "metadata": {
        "id": "wZCyd7-YBIzg",
        "colab_type": "code",
        "colab": {
          "base_uri": "https://localhost:8080/",
          "height": 187
        },
        "outputId": "f3892352-aa6c-4203-ad72-097c441f6e75"
      },
      "source": [
        "df_train.info()"
      ],
      "execution_count": 5,
      "outputs": [
        {
          "output_type": "stream",
          "text": [
            "<class 'pandas.core.frame.DataFrame'>\n",
            "RangeIndex: 25000 entries, 0 to 24999\n",
            "Data columns (total 3 columns):\n",
            " #   Column     Non-Null Count  Dtype \n",
            "---  ------     --------------  ----- \n",
            " 0   id         25000 non-null  object\n",
            " 1   sentiment  25000 non-null  int64 \n",
            " 2   review     25000 non-null  object\n",
            "dtypes: int64(1), object(2)\n",
            "memory usage: 586.1+ KB\n"
          ],
          "name": "stdout"
        }
      ]
    },
    {
      "cell_type": "code",
      "metadata": {
        "id": "9ZRfmjmBBQ-R",
        "colab_type": "code",
        "colab": {
          "base_uri": "https://localhost:8080/",
          "height": 297
        },
        "outputId": "f463e9d7-c78f-4f71-b77a-b596fec95d35"
      },
      "source": [
        "df_train.describe()"
      ],
      "execution_count": 6,
      "outputs": [
        {
          "output_type": "execute_result",
          "data": {
            "text/html": [
              "<div>\n",
              "<style scoped>\n",
              "    .dataframe tbody tr th:only-of-type {\n",
              "        vertical-align: middle;\n",
              "    }\n",
              "\n",
              "    .dataframe tbody tr th {\n",
              "        vertical-align: top;\n",
              "    }\n",
              "\n",
              "    .dataframe thead th {\n",
              "        text-align: right;\n",
              "    }\n",
              "</style>\n",
              "<table border=\"1\" class=\"dataframe\">\n",
              "  <thead>\n",
              "    <tr style=\"text-align: right;\">\n",
              "      <th></th>\n",
              "      <th>sentiment</th>\n",
              "    </tr>\n",
              "  </thead>\n",
              "  <tbody>\n",
              "    <tr>\n",
              "      <th>count</th>\n",
              "      <td>25000.00000</td>\n",
              "    </tr>\n",
              "    <tr>\n",
              "      <th>mean</th>\n",
              "      <td>0.50000</td>\n",
              "    </tr>\n",
              "    <tr>\n",
              "      <th>std</th>\n",
              "      <td>0.50001</td>\n",
              "    </tr>\n",
              "    <tr>\n",
              "      <th>min</th>\n",
              "      <td>0.00000</td>\n",
              "    </tr>\n",
              "    <tr>\n",
              "      <th>25%</th>\n",
              "      <td>0.00000</td>\n",
              "    </tr>\n",
              "    <tr>\n",
              "      <th>50%</th>\n",
              "      <td>0.50000</td>\n",
              "    </tr>\n",
              "    <tr>\n",
              "      <th>75%</th>\n",
              "      <td>1.00000</td>\n",
              "    </tr>\n",
              "    <tr>\n",
              "      <th>max</th>\n",
              "      <td>1.00000</td>\n",
              "    </tr>\n",
              "  </tbody>\n",
              "</table>\n",
              "</div>"
            ],
            "text/plain": [
              "         sentiment\n",
              "count  25000.00000\n",
              "mean       0.50000\n",
              "std        0.50001\n",
              "min        0.00000\n",
              "25%        0.00000\n",
              "50%        0.50000\n",
              "75%        1.00000\n",
              "max        1.00000"
            ]
          },
          "metadata": {
            "tags": []
          },
          "execution_count": 6
        }
      ]
    },
    {
      "cell_type": "markdown",
      "metadata": {
        "id": "LqH5nvmkBto2",
        "colab_type": "text"
      },
      "source": [
        "By observing mean,it looks like it has 50% positive and 50% negative reviews."
      ]
    },
    {
      "cell_type": "markdown",
      "metadata": {
        "id": "yjSv9FHhQBMq",
        "colab_type": "text"
      },
      "source": [
        "## 3) Data Cleaning"
      ]
    },
    {
      "cell_type": "code",
      "metadata": {
        "id": "AJ_ZkQh4BWEx",
        "colab_type": "code",
        "colab": {
          "base_uri": "https://localhost:8080/",
          "height": 241
        },
        "outputId": "954b1409-d724-4d48-df95-85a7c68e92f7"
      },
      "source": [
        "# Lets check review section \n",
        "pd.options.display.max_colwidth = 500 # to view each rows text to 500 characters\n",
        "print(df_train['review'])"
      ],
      "execution_count": 7,
      "outputs": [
        {
          "output_type": "stream",
          "text": [
            "0        With all this stuff going down at the moment with MJ i've started listening to his music, watching the odd documentary here and there, watched The Wiz and watched Moonwalker again. Maybe i just want to get a certain insight into this guy who i thought was really cool in the eighties just to maybe make up my mind whether he is guilty or innocent. Moonwalker is part biography, part feature film which i remember going to see at the cinema when it was originally released. Some of it has subtle m...\n",
            "1        \\The Classic War of the Worlds\\\" by Timothy Hines is a very entertaining film that obviously goes to great effort and lengths to faithfully recreate H. G. Wells' classic book. Mr. Hines succeeds in doing so. I, and those who watched his film with me, appreciated the fact that it was not the standard, predictable Hollywood fare that comes out every year, e.g. the Spielberg version with Tom Cruise that had only the slightest resemblance to the book. Obviously, everyone looks for different thin...\n",
            "2        The film starts with a manager (Nicholas Bell) giving welcome investors (Robert Carradine) to Primal Park . A secret project mutating a primal animal using fossilized DNA, like ¨Jurassik Park¨, and some scientists resurrect one of nature's most fearsome predators, the Sabretooth tiger or Smilodon . Scientific ambition turns deadly, however, and when the high voltage fence is opened the creature escape and begins savagely stalking its prey - the human visitors , tourists and scientific.Meanwh...\n",
            "3        It must be assumed that those who praised this film (\\the greatest filmed opera ever,\\\" didn't I read somewhere?) either don't care for opera, don't care for Wagner, or don't care about anything except their desire to appear Cultured. Either as a representation of Wagner's swan-song, or as a movie, this strikes me as an unmitigated disaster, with a leaden reading of the score matched to a tricksy, lugubrious realisation of the text.<br /><br />It's questionable that people with ideas as to w...\n",
            "4        Superbly trashy and wondrously unpretentious 80's exploitation, hooray! The pre-credits opening sequences somewhat give the false impression that we're dealing with a serious and harrowing drama, but you need not fear because barely ten minutes later we're up until our necks in nonsensical chainsaw battles, rough fist-fights, lurid dialogs and gratuitous nudity! Bo and Ingrid are two orphaned siblings with an unusually close and even slightly perverted relationship. Can you imagine playfully...\n",
            "                                                                                                                                                                                                                                                                ...                                                                                                                                                                                                                                                         \n",
            "24995    It seems like more consideration has gone into the IMDb reviews of this film than went into the source.<br /><br />Here's a review without pretensions:<br /><br />Just when you think nothing is going to happen, it doesn't.<br /><br />Dress it up any way you like, this is a dull film, full of unengaging characters doing very little of interest.<br /><br />One to put on if you want to convince an impressionable emo chick that you're like, so deep, man.<br /><br />Not something to watch for you...\n",
            "24996    I don't believe they made this film. Completely unnecessary. The first film was okay. But there was no need for a sequel, certainly not after a television series that was already a sequel to the first film. This film feels like a soap-opera. The writing is so bad, it's utterly simple. The jokes don't come across, the acting is flat, it's shot like a soap, it lacks any direction. The first film had a good emotional spine behind it. Every character had a little arc. It was very simple then but...\n",
            "24997    Guy is a loser. Can't get girls, needs to build up, is picked on by stronger more successful guys, etc. Seen it, saw it, moved on. I'd have to say that Rob needs to move past the Adam Sandler part of his life. And get out of the Adam Sandler plots. There are two funny parts in the whole movie. I couldn't even finish the last 5 minutes. I was getting bored. \\The Animal\\\" is an alright film. I do usually enjoy Adam Sandler films that have the same plot. But this was trying too hard to impress....\n",
            "24998    This 30 minute documentary Buñuel made in the early 1930's about one of Spain's poorest regions is, in my opinion, one of his weakest films. First, let's admit that 70 years later, Spain is much richer than it was then (and when I say this, I fully admit that wealth can bring problems of its own, like excessive individualism and consumerism, though all in all wealth it's a far better condition than the extreme poverty portrayed here). And if poverty receded in Spain it was not exactly with t...\n",
            "24999    I saw this movie as a child and it broke my heart! No other story had such a unfinished ending... I grew up on many great anime movies and this was one of my favourites, because it was so unusual - a story about unfairness, and cruelty, and loneliness, and life, and choices that can't be undone, and the need for others. Chirin is made alone when the Wolf kills his mother, but the Wolf is alone, too, when Chirin follows him into the mountain. The Wolf doesn't kill the lamb, even though each n...\n",
            "Name: review, Length: 25000, dtype: object\n"
          ],
          "name": "stdout"
        }
      ]
    },
    {
      "cell_type": "markdown",
      "metadata": {
        "id": "4wsa15MhDMcs",
        "colab_type": "text"
      },
      "source": [
        "By looking at the text, it should be cleaned : \n",
        "- Lowercase all the letter\n",
        "- Convert short forms to long forms\n",
        "- Remove the html tags\n",
        "- Remove extra white spaces\n",
        "- Remove leading and trailing spaces from a word\n",
        "- Removing numbers like 19 , 20\n",
        "- Removing punctuations such as ... \n"
      ]
    },
    {
      "cell_type": "code",
      "metadata": {
        "id": "NHgtTA-4KwOw",
        "colab_type": "code",
        "colab": {
          "base_uri": "https://localhost:8080/",
          "height": 34
        },
        "outputId": "cc233466-a79b-4dc2-83eb-f86694d97387"
      },
      "source": [
        "# Removing html tags from text.\n",
        "# https://stackoverflow.com/questions/9662346/python-code-to-remove-html-tags-from-a-string\n",
        "\n",
        "txt = \" the source.<br /><br />Here's a pretensions:<br /><br />Just when\"\n",
        "cleanr = re.sub('<.*?>|&([a-z0-9]+|#[0-9]{1,6}|#x[0-9a-f]{1,6});','',txt)\n",
        "cleanr"
      ],
      "execution_count": 8,
      "outputs": [
        {
          "output_type": "execute_result",
          "data": {
            "text/plain": [
              "\" the source.Here's a pretensions:Just when\""
            ]
          },
          "metadata": {
            "tags": []
          },
          "execution_count": 8
        }
      ]
    },
    {
      "cell_type": "code",
      "metadata": {
        "id": "vB7m0o28YCNL",
        "colab_type": "code",
        "colab": {
          "base_uri": "https://localhost:8080/",
          "height": 34
        },
        "outputId": "447dae57-358d-4224-c242-645d53dea241"
      },
      "source": [
        "# Removing digits from text\n",
        "# https://stackoverflow.com/questions/817122/delete-digits-in-python-regex\n",
        "\n",
        "text = \" the source.<br /><br />Here's a 20 preten 103s and 120th sions:<br /><br />Just when\"\n",
        "text = re.sub(\"^\\d+\\s|\\s\\d+\\s|\\s\\d+$\", \" \", text) # Removing digits\n",
        "text"
      ],
      "execution_count": 9,
      "outputs": [
        {
          "output_type": "execute_result",
          "data": {
            "text/plain": [
              "\" the source.<br /><br />Here's a preten 103s and 120th sions:<br /><br />Just when\""
            ]
          },
          "metadata": {
            "tags": []
          },
          "execution_count": 9
        }
      ]
    },
    {
      "cell_type": "code",
      "metadata": {
        "id": "vPs5XKU3JmmX",
        "colab_type": "code",
        "colab": {}
      },
      "source": [
        "# Let's clean text\n",
        "def clean_text(text):\n",
        "  text = text.lower()\n",
        "  text = re.sub('<.*?>|&([a-z0-9]+|#[0-9]{1,6}|#x[0-9a-f]{1,6});','',text)  # for removal of html tags\n",
        "  text = re.sub(r\"can't\",\"cannot\",text)\n",
        "  text = re.sub(r\"shan't\",\"shall not\",text)\n",
        "  text = re.sub(r\"won't\",\"will not\",text)\n",
        "  text = re.sub(r\"n't\",\" not\",text) # see the space before not. \n",
        "  text = re.sub(r\"i'm\",\"i am\",text)\n",
        "  text = re.sub(r\"what's\",\"what is\",text)\n",
        "  text = re.sub(r\"let's\",\"let us\",text)\n",
        "  text = re.sub(r\"'re\",\" are\",text)\n",
        "  text = re.sub(r\"'s\",\" \",text)  # space because we dont know the tense , it can be is/has anything.\n",
        "  text = re.sub(r\"'ve\",\" have\",text)\n",
        "  text = re.sub(r\"\\'ll\", \" will \", text)\n",
        "  text = re.sub(r\"\\'scuse\", \" excuse \", text)\n",
        "  text = re.sub(\"^\\d+\\s|\\s\\d+\\s|\\s\\d+$\", \" \", text) # Removing digits\n",
        "  text = re.sub('\\W', ' ', text)  # If the comment/word does not contain any alphabets\n",
        "  text = re.sub('\\s+', ' ', text) # If there are more than one whitespace simultenously, then replace them by only 1 whitespace and also replace the punctuation marks\n",
        "  text = text.strip(' ') # Removing leading and trailing white spaces\n",
        "  return text\n"
      ],
      "execution_count": 0,
      "outputs": []
    },
    {
      "cell_type": "markdown",
      "metadata": {
        "id": "l0GVOln8PrHv",
        "colab_type": "text"
      },
      "source": [
        "Cleaning text for train file\n"
      ]
    },
    {
      "cell_type": "code",
      "metadata": {
        "id": "1_9ypXz-Nhxt",
        "colab_type": "code",
        "colab": {}
      },
      "source": [
        "df_train['review'] = df_train['review'].apply(lambda text: clean_text(text))"
      ],
      "execution_count": 0,
      "outputs": []
    },
    {
      "cell_type": "code",
      "metadata": {
        "id": "Ezzlt5LfOZ2j",
        "colab_type": "code",
        "colab": {
          "base_uri": "https://localhost:8080/",
          "height": 241
        },
        "outputId": "9ab38881-2cbd-4d5a-bbf3-38ceb39aba53"
      },
      "source": [
        "print(df_train['review'])"
      ],
      "execution_count": 12,
      "outputs": [
        {
          "output_type": "stream",
          "text": [
            "0        with all this stuff going down at the moment with mj i have started listening to his music watching the odd documentary here and there watched the wiz and watched moonwalker again maybe i just want to get a certain insight into this guy who i thought was really cool in the eighties just to maybe make up my mind whether he is guilty or innocent moonwalker is part biography part feature film which i remember going to see at the cinema when it was originally released some of it has subtle messa...\n",
            "1        the classic war of the worlds by timothy hines is a very entertaining film that obviously goes to great effort and lengths to faithfully recreate h g wells classic book mr hines succeeds in doing so i and those who watched his film with me appreciated the fact that it was not the standard predictable hollywood fare that comes out every year e g the spielberg version with tom cruise that had only the slightest resemblance to the book obviously everyone looks for different things in a movie th...\n",
            "2        the film starts with a manager nicholas bell giving welcome investors robert carradine to primal park a secret project mutating a primal animal using fossilized dna like jurassik park and some scientists resurrect one of nature most fearsome predators the sabretooth tiger or smilodon scientific ambition turns deadly however and when the high voltage fence is opened the creature escape and begins savagely stalking its prey the human visitors tourists and scientific meanwhile some youngsters e...\n",
            "3        it must be assumed that those who praised this film the greatest filmed opera ever did not i read somewhere either do not care for opera do not care for wagner or do not care about anything except their desire to appear cultured either as a representation of wagner swan song or as a movie this strikes me as an unmitigated disaster with a leaden reading of the score matched to a tricksy lugubrious realisation of the text it questionable that people with ideas as to what an opera or for that m...\n",
            "4        superbly trashy and wondrously unpretentious exploitation hooray the pre credits opening sequences somewhat give the false impression that we are dealing with a serious and harrowing drama but you need not fear because barely ten minutes later we are up until our necks in nonsensical chainsaw battles rough fist fights lurid dialogs and gratuitous nudity bo and ingrid are two orphaned siblings with an unusually close and even slightly perverted relationship can you imagine playfully ripping o...\n",
            "                                                                                                                                                                                                                                                                ...                                                                                                                                                                                                                                                         \n",
            "24995                        it seems like more consideration has gone into the imdb reviews of this film than went into the source here a review without pretensions just when you think nothing is going to happen it does not dress it up any way you like this is a dull film full of unengaging characters doing very little of interest one to put on if you want to convince an impressionable emo chick that you are like so deep man not something to watch for your own pleasure though unless you are pretentious\n",
            "24996    i do not believe they made this film completely unnecessary the first film was okay but there was no need for a sequel certainly not after a television series that was already a sequel to the first film this film feels like a soap opera the writing is so bad it utterly simple the jokes do not come across the acting is flat it shot like a soap it lacks any direction the first film had a good emotional spine behind it every character had a little arc it was very simple then but somehow it work...\n",
            "24997    guy is a loser cannot get girls needs to build up is picked on by stronger more successful guys etc seen it saw it moved on i d have to say that rob needs to move past the adam sandler part of his life and get out of the adam sandler plots there are two funny parts in the whole movie i could not even finish the last minutes i was getting bored the animal is an alright film i do usually enjoy adam sandler films that have the same plot but this was trying too hard to impress the jokes are very...\n",
            "24998    this minute documentary buñuel made in the early about one of spain poorest regions is in my opinion one of his weakest films first let us admit that years later spain is much richer than it was then and when i say this i fully admit that wealth can bring problems of its own like excessive individualism and consumerism though all in all wealth it a far better condition than the extreme poverty portrayed here and if poverty receded in spain it was not exactly with the sort of socialism that b...\n",
            "24999    i saw this movie as a child and it broke my heart no other story had such a unfinished ending i grew up on many great anime movies and this was one of my favourites because it was so unusual a story about unfairness and cruelty and loneliness and life and choices that cannot be undone and the need for others chirin is made alone when the wolf kills his mother but the wolf is alone too when chirin follows him into the mountain the wolf does not kill the lamb even though each night he says may...\n",
            "Name: review, Length: 25000, dtype: object\n"
          ],
          "name": "stdout"
        }
      ]
    },
    {
      "cell_type": "markdown",
      "metadata": {
        "id": "ZbVIlMwAPtQx",
        "colab_type": "text"
      },
      "source": [
        "Cleaning text for test file\n"
      ]
    },
    {
      "cell_type": "code",
      "metadata": {
        "id": "Jb58x8V0PWvm",
        "colab_type": "code",
        "colab": {}
      },
      "source": [
        "df_test['review'] = df_test['review'].apply(lambda text: clean_text(text))"
      ],
      "execution_count": 0,
      "outputs": []
    },
    {
      "cell_type": "code",
      "metadata": {
        "id": "MCYS-eZQPxM7",
        "colab_type": "code",
        "colab": {
          "base_uri": "https://localhost:8080/",
          "height": 241
        },
        "outputId": "98d2bab9-b4e7-4eee-b8c5-924330b3da81"
      },
      "source": [
        "print(df_test['review'])"
      ],
      "execution_count": 14,
      "outputs": [
        {
          "output_type": "stream",
          "text": [
            "0        naturally in a film who main themes are of mortality nostalgia and loss of innocence it is perhaps not surprising that it is rated more highly by older viewers than younger ones however there is a craftsmanship and completeness to the film which anyone can enjoy the pace is steady and constant the characters full and engaging the relationships and interactions natural showing that you do not need floods of tears to show emotion screams to show fear shouting to show dispute or violence to sho...\n",
            "1        this movie is a disaster within a disaster film it is full of great action scenes which are only meaningful if you throw away all sense of reality let us see word to the wise lava burns you steam burns you you cannot stand next to lava diverting a minor lava flow is difficult let alone a significant one scares me to think that some might actually believe what they saw in this movie even worse is the significant amount of talent that went into making this film i mean the acting is actually ve...\n",
            "2        all in all this is a movie for kids we saw it tonight and my child loved it at one point my kid excitement was so great that sitting was impossible however i am a great fan of a a milne books which are very subtle and hide a wry intelligence behind the childlike quality of its leading characters this film was not subtle it seems a shame that disney cannot see the benefit of making movies from more of the stories contained in those pages although perhaps it does not have the permission to use...\n",
            "3        afraid of the dark left me with the impression that several different screenplays were written all too short for a feature length film then spliced together clumsily into this frankenstein monster at his best the protagonist lucas is creepy as hard as it is to draw a bead on the secondary characters they are far more sympathetic afraid of the dark could have achieved mediocrity had it taken just one approach and seen it through and had it made lucas simply psychotic and confused instead of g...\n",
            "4        a very accurate depiction of small time mob life filmed in new jersey the story characters and script are believable but the acting drops the ball still it worth watching especially for the strong images some still with me even though i first viewed this years ago a young hood steps up and starts doing bigger things tries to but these things keep going wrong leading the local boss to suspect that his end is being skimmed off not a good place to be if you enjoy your health or life this is the...\n",
            "                                                                                                                                                                                                                                                                ...                                                                                                                                                                                                                                                         \n",
            "24995    sony pictures classics i am looking at you sony got the rights to harry records you need to distribute the film and you will get radically increased sales of his back catalog anyhow this is a great study of a fascinating musician woefully underknown full of great stories greater music and it could have been hours longer and i d have loved it even more saw it at the american cinemateque mods rockers festival at the aero theatre in santa monica where it played to a packed house they were turni...\n",
            "24996    i always felt that ms merkerson had never gotten a role fitting her skills familiar to millions as the lt on law and order she has been seen in a number of theatrical releases always in a supporting role hbo lackawanna blues changes that and allows this talented actress to shine as nanny successful entrepreneur in a world changing from segregation to integration but the story is really about the colorful array of characters that she and her adopted son meet in a boarding house in lackawanna ...\n",
            "24997    i was so disappointed in this movie i am very familiar with the case having read not only mark fuhrman book but also the far superior a wealth of evil the true story of the murder of martha moxley in america richest community by timothy dumas anyone who watches murder in greenwich should be aware they are watching the mark fuhrman story not the martha moxley story this film is nothing more than an ego trip for fuhrman just watch his character strut around as if he is the second coming yes ev...\n",
            "24998    from the opening sequence filled with black and white shots reminiscent of gordan parks photos this film draws the viewer into a feeling of artistic renaissance the backdrop of a poetry cafe aptly named the sanctuary provides just that the jazz that permeates the film and the cinematography will seduce you this story of love actually allows love to grow to evolve and ultimately mature a rarity in hollywood everyone can identify with some stage of their journey towards each other this tale of...\n",
            "24999    this is a great horror film for people who do not want all that vomit retching gore and sensationalism this movie has equal amounts of horror suspense humor and even a little light nudity but nothing big linnea quigley is not over the top as she was in return of the living dead where she danced naked on a crypt but she is still essentially the same slutty character cathy podewell is a virginal and chaste character before going on to dallas and we are also introduced to amelia soon mimi kinka...\n",
            "Name: review, Length: 25000, dtype: object\n"
          ],
          "name": "stdout"
        }
      ]
    },
    {
      "cell_type": "markdown",
      "metadata": {
        "id": "7R8yRlitQQ1b",
        "colab_type": "text"
      },
      "source": [
        "Splitting into X and y features"
      ]
    },
    {
      "cell_type": "code",
      "metadata": {
        "id": "n5q7_gQSCHrE",
        "colab_type": "code",
        "colab": {}
      },
      "source": [
        "# For train file\n",
        "\n",
        "X = df_train['review']\n",
        "y = df_train['sentiment']\n",
        "\n",
        "# For test file\n",
        "\n",
        "X_test = df_test['review']"
      ],
      "execution_count": 0,
      "outputs": []
    },
    {
      "cell_type": "markdown",
      "metadata": {
        "id": "7xh7seOGTuMm",
        "colab_type": "text"
      },
      "source": [
        "## 4) Tokenizing text words\n",
        "\n",
        "we will use tfidftokenizer and will remove all the stop words from text and take only top 5000 words."
      ]
    },
    {
      "cell_type": "code",
      "metadata": {
        "id": "8jvHQerHUQJa",
        "colab_type": "code",
        "colab": {}
      },
      "source": [
        "from sklearn.feature_extraction.text import TfidfVectorizer\n",
        "from sklearn.metrics import accuracy_score, confusion_matrix,roc_auc_score,roc_curve"
      ],
      "execution_count": 0,
      "outputs": []
    },
    {
      "cell_type": "code",
      "metadata": {
        "id": "oeIJE9cBN8vj",
        "colab_type": "code",
        "colab": {
          "base_uri": "https://localhost:8080/",
          "height": 136
        },
        "outputId": "451d4ffe-ec22-480f-9c2b-92d28a04f78a"
      },
      "source": [
        "tf = TfidfVectorizer(stop_words='english',max_features=5000)\n",
        "tf"
      ],
      "execution_count": 17,
      "outputs": [
        {
          "output_type": "execute_result",
          "data": {
            "text/plain": [
              "TfidfVectorizer(analyzer='word', binary=False, decode_error='strict',\n",
              "                dtype=<class 'numpy.float64'>, encoding='utf-8',\n",
              "                input='content', lowercase=True, max_df=1.0, max_features=5000,\n",
              "                min_df=1, ngram_range=(1, 1), norm='l2', preprocessor=None,\n",
              "                smooth_idf=True, stop_words='english', strip_accents=None,\n",
              "                sublinear_tf=False, token_pattern='(?u)\\\\b\\\\w\\\\w+\\\\b',\n",
              "                tokenizer=None, use_idf=True, vocabulary=None)"
            ]
          },
          "metadata": {
            "tags": []
          },
          "execution_count": 17
        }
      ]
    },
    {
      "cell_type": "code",
      "metadata": {
        "id": "1ZsMv7oCUm_-",
        "colab_type": "code",
        "colab": {}
      },
      "source": [
        "# For training\n",
        "\n",
        "X = tf.fit_transform(X)\n",
        "\n",
        "# For test \n",
        "\n",
        "X_test = tf.transform(X_test)"
      ],
      "execution_count": 0,
      "outputs": []
    },
    {
      "cell_type": "code",
      "metadata": {
        "id": "sjyraeRVU7on",
        "colab_type": "code",
        "colab": {
          "base_uri": "https://localhost:8080/",
          "height": 34
        },
        "outputId": "813b08a6-320b-414d-f50d-49fcf99a3e51"
      },
      "source": [
        "len(tf.get_feature_names()) , \n",
        "#tf.get_feature_names()"
      ],
      "execution_count": 20,
      "outputs": [
        {
          "output_type": "execute_result",
          "data": {
            "text/plain": [
              "(5000,)"
            ]
          },
          "metadata": {
            "tags": []
          },
          "execution_count": 20
        }
      ]
    },
    {
      "cell_type": "code",
      "metadata": {
        "id": "po9pTM07Z-cf",
        "colab_type": "code",
        "colab": {
          "base_uri": "https://localhost:8080/",
          "height": 255
        },
        "outputId": "9aaaeaf5-ad41-473a-82d6-43c65a030985"
      },
      "source": [
        "print(X.toarray().shape)\n",
        "X.toarray()"
      ],
      "execution_count": 22,
      "outputs": [
        {
          "output_type": "stream",
          "text": [
            "(25000, 5000)\n"
          ],
          "name": "stdout"
        },
        {
          "output_type": "execute_result",
          "data": {
            "text/plain": [
              "array([[0.        , 0.        , 0.        , ..., 0.        , 0.        ,\n",
              "        0.        ],\n",
              "       [0.        , 0.        , 0.        , ..., 0.        , 0.        ,\n",
              "        0.        ],\n",
              "       [0.        , 0.08119347, 0.04721605, ..., 0.        , 0.        ,\n",
              "        0.        ],\n",
              "       ...,\n",
              "       [0.        , 0.        , 0.08454332, ..., 0.        , 0.        ,\n",
              "        0.        ],\n",
              "       [0.        , 0.        , 0.        , ..., 0.        , 0.        ,\n",
              "        0.        ],\n",
              "       [0.        , 0.        , 0.        , ..., 0.        , 0.        ,\n",
              "        0.        ]])"
            ]
          },
          "metadata": {
            "tags": []
          },
          "execution_count": 22
        }
      ]
    },
    {
      "cell_type": "markdown",
      "metadata": {
        "id": "5xQc7B3ibJDw",
        "colab_type": "text"
      },
      "source": [
        "Splitting into train, val and test set"
      ]
    },
    {
      "cell_type": "code",
      "metadata": {
        "id": "4ydW75ZBbNEI",
        "colab_type": "code",
        "colab": {}
      },
      "source": [
        "from sklearn.model_selection import train_test_split\n",
        "X_train, X_val, y_train, y_val = train_test_split(X,y,test_size=0.1,random_state=100)"
      ],
      "execution_count": 0,
      "outputs": []
    },
    {
      "cell_type": "markdown",
      "metadata": {
        "id": "NiQgogxpaYMl",
        "colab_type": "text"
      },
      "source": [
        "## 5) Building the model"
      ]
    },
    {
      "cell_type": "markdown",
      "metadata": {
        "id": "Y9ECIlh_d7_8",
        "colab_type": "text"
      },
      "source": [
        "### 5.1) Using random forest classifier."
      ]
    },
    {
      "cell_type": "code",
      "metadata": {
        "id": "pXJNcLwSaAbk",
        "colab_type": "code",
        "colab": {}
      },
      "source": [
        "from sklearn.ensemble import RandomForestClassifier\n",
        "rf_clf = RandomForestClassifier()"
      ],
      "execution_count": 0,
      "outputs": []
    },
    {
      "cell_type": "code",
      "metadata": {
        "id": "t1nFCyXJalAh",
        "colab_type": "code",
        "colab": {
          "base_uri": "https://localhost:8080/",
          "height": 153
        },
        "outputId": "55e3878a-3b81-4b13-b8cf-f5ed1ca8505d"
      },
      "source": [
        "rf_clf.fit(X_train,y_train)"
      ],
      "execution_count": 29,
      "outputs": [
        {
          "output_type": "execute_result",
          "data": {
            "text/plain": [
              "RandomForestClassifier(bootstrap=True, ccp_alpha=0.0, class_weight=None,\n",
              "                       criterion='gini', max_depth=None, max_features='auto',\n",
              "                       max_leaf_nodes=None, max_samples=None,\n",
              "                       min_impurity_decrease=0.0, min_impurity_split=None,\n",
              "                       min_samples_leaf=1, min_samples_split=2,\n",
              "                       min_weight_fraction_leaf=0.0, n_estimators=100,\n",
              "                       n_jobs=None, oob_score=False, random_state=None,\n",
              "                       verbose=0, warm_start=False)"
            ]
          },
          "metadata": {
            "tags": []
          },
          "execution_count": 29
        }
      ]
    },
    {
      "cell_type": "code",
      "metadata": {
        "id": "CvccmCF8brTG",
        "colab_type": "code",
        "colab": {}
      },
      "source": [
        "y_val_pred = rf_clf.predict(X_val)"
      ],
      "execution_count": 0,
      "outputs": []
    },
    {
      "cell_type": "code",
      "metadata": {
        "id": "vOq53Tcibwmb",
        "colab_type": "code",
        "colab": {
          "base_uri": "https://localhost:8080/",
          "height": 34
        },
        "outputId": "fd5c8b6b-8ebd-46c1-fe15-6a64dbee0c48"
      },
      "source": [
        "print(accuracy_score(y_val_pred,y_val))"
      ],
      "execution_count": 31,
      "outputs": [
        {
          "output_type": "stream",
          "text": [
            "0.8496\n"
          ],
          "name": "stdout"
        }
      ]
    },
    {
      "cell_type": "code",
      "metadata": {
        "id": "PhIHK-npcmYl",
        "colab_type": "code",
        "colab": {
          "base_uri": "https://localhost:8080/",
          "height": 34
        },
        "outputId": "fa48c468-42db-4bf6-cab5-9a61290fd7b6"
      },
      "source": [
        "print(roc_curve(y_val_pred,y_val))"
      ],
      "execution_count": 37,
      "outputs": [
        {
          "output_type": "stream",
          "text": [
            "(array([0.        , 0.16167192, 1.        ]), array([0.       , 0.8612013, 1.       ]), array([2, 1, 0]))\n"
          ],
          "name": "stdout"
        }
      ]
    },
    {
      "cell_type": "code",
      "metadata": {
        "id": "xWcKno46cwhs",
        "colab_type": "code",
        "colab": {
          "base_uri": "https://localhost:8080/",
          "height": 34
        },
        "outputId": "c605db2a-7557-4fb2-f5e6-dd273239659d"
      },
      "source": [
        "print(roc_auc_score(y_val_pred,y_val))"
      ],
      "execution_count": 39,
      "outputs": [
        {
          "output_type": "stream",
          "text": [
            "0.8497646872055389\n"
          ],
          "name": "stdout"
        }
      ]
    },
    {
      "cell_type": "code",
      "metadata": {
        "id": "KE6iIYM3as0C",
        "colab_type": "code",
        "colab": {}
      },
      "source": [
        "y_pred = rf_clf.predict(X_test)"
      ],
      "execution_count": 0,
      "outputs": []
    },
    {
      "cell_type": "code",
      "metadata": {
        "id": "4flmduZha9Sk",
        "colab_type": "code",
        "colab": {
          "base_uri": "https://localhost:8080/",
          "height": 34
        },
        "outputId": "9da67373-680a-46ed-ba74-7238012e544e"
      },
      "source": [
        "y_pred"
      ],
      "execution_count": 33,
      "outputs": [
        {
          "output_type": "execute_result",
          "data": {
            "text/plain": [
              "array([1, 0, 1, ..., 1, 1, 1])"
            ]
          },
          "metadata": {
            "tags": []
          },
          "execution_count": 33
        }
      ]
    },
    {
      "cell_type": "code",
      "metadata": {
        "id": "zLq8xVDaa-1E",
        "colab_type": "code",
        "colab": {
          "base_uri": "https://localhost:8080/",
          "height": 204
        },
        "outputId": "ddcdc0b4-5e04-4653-ed01-926f3c1e8a65"
      },
      "source": [
        "# putting result in submission file\n",
        "\n",
        "submission_file = pd.read_csv('drive/My Drive/Pytorch_DataSet/Bag Of Words Meets Bags of popcorn/sampleSubmission.csv')\n",
        "submission_file.head()"
      ],
      "execution_count": 35,
      "outputs": [
        {
          "output_type": "execute_result",
          "data": {
            "text/html": [
              "<div>\n",
              "<style scoped>\n",
              "    .dataframe tbody tr th:only-of-type {\n",
              "        vertical-align: middle;\n",
              "    }\n",
              "\n",
              "    .dataframe tbody tr th {\n",
              "        vertical-align: top;\n",
              "    }\n",
              "\n",
              "    .dataframe thead th {\n",
              "        text-align: right;\n",
              "    }\n",
              "</style>\n",
              "<table border=\"1\" class=\"dataframe\">\n",
              "  <thead>\n",
              "    <tr style=\"text-align: right;\">\n",
              "      <th></th>\n",
              "      <th>id</th>\n",
              "      <th>sentiment</th>\n",
              "    </tr>\n",
              "  </thead>\n",
              "  <tbody>\n",
              "    <tr>\n",
              "      <th>0</th>\n",
              "      <td>12311_10</td>\n",
              "      <td>0</td>\n",
              "    </tr>\n",
              "    <tr>\n",
              "      <th>1</th>\n",
              "      <td>8348_2</td>\n",
              "      <td>0</td>\n",
              "    </tr>\n",
              "    <tr>\n",
              "      <th>2</th>\n",
              "      <td>5828_4</td>\n",
              "      <td>0</td>\n",
              "    </tr>\n",
              "    <tr>\n",
              "      <th>3</th>\n",
              "      <td>7186_2</td>\n",
              "      <td>0</td>\n",
              "    </tr>\n",
              "    <tr>\n",
              "      <th>4</th>\n",
              "      <td>12128_7</td>\n",
              "      <td>0</td>\n",
              "    </tr>\n",
              "  </tbody>\n",
              "</table>\n",
              "</div>"
            ],
            "text/plain": [
              "         id  sentiment\n",
              "0  12311_10          0\n",
              "1    8348_2          0\n",
              "2    5828_4          0\n",
              "3    7186_2          0\n",
              "4   12128_7          0"
            ]
          },
          "metadata": {
            "tags": []
          },
          "execution_count": 35
        }
      ]
    },
    {
      "cell_type": "code",
      "metadata": {
        "id": "t2ROdx2OcQ5O",
        "colab_type": "code",
        "colab": {}
      },
      "source": [
        "submission_file['sentiment'] = y_pred"
      ],
      "execution_count": 0,
      "outputs": []
    },
    {
      "cell_type": "code",
      "metadata": {
        "id": "ZouM5H1HdIAC",
        "colab_type": "code",
        "colab": {
          "base_uri": "https://localhost:8080/",
          "height": 419
        },
        "outputId": "17c4a963-af80-455b-aa65-b33f58e4771d"
      },
      "source": [
        "submission_file"
      ],
      "execution_count": 43,
      "outputs": [
        {
          "output_type": "execute_result",
          "data": {
            "text/html": [
              "<div>\n",
              "<style scoped>\n",
              "    .dataframe tbody tr th:only-of-type {\n",
              "        vertical-align: middle;\n",
              "    }\n",
              "\n",
              "    .dataframe tbody tr th {\n",
              "        vertical-align: top;\n",
              "    }\n",
              "\n",
              "    .dataframe thead th {\n",
              "        text-align: right;\n",
              "    }\n",
              "</style>\n",
              "<table border=\"1\" class=\"dataframe\">\n",
              "  <thead>\n",
              "    <tr style=\"text-align: right;\">\n",
              "      <th></th>\n",
              "      <th>id</th>\n",
              "      <th>sentiment</th>\n",
              "    </tr>\n",
              "  </thead>\n",
              "  <tbody>\n",
              "    <tr>\n",
              "      <th>0</th>\n",
              "      <td>12311_10</td>\n",
              "      <td>1</td>\n",
              "    </tr>\n",
              "    <tr>\n",
              "      <th>1</th>\n",
              "      <td>8348_2</td>\n",
              "      <td>0</td>\n",
              "    </tr>\n",
              "    <tr>\n",
              "      <th>2</th>\n",
              "      <td>5828_4</td>\n",
              "      <td>1</td>\n",
              "    </tr>\n",
              "    <tr>\n",
              "      <th>3</th>\n",
              "      <td>7186_2</td>\n",
              "      <td>1</td>\n",
              "    </tr>\n",
              "    <tr>\n",
              "      <th>4</th>\n",
              "      <td>12128_7</td>\n",
              "      <td>1</td>\n",
              "    </tr>\n",
              "    <tr>\n",
              "      <th>...</th>\n",
              "      <td>...</td>\n",
              "      <td>...</td>\n",
              "    </tr>\n",
              "    <tr>\n",
              "      <th>24995</th>\n",
              "      <td>2155_10</td>\n",
              "      <td>1</td>\n",
              "    </tr>\n",
              "    <tr>\n",
              "      <th>24996</th>\n",
              "      <td>59_10</td>\n",
              "      <td>1</td>\n",
              "    </tr>\n",
              "    <tr>\n",
              "      <th>24997</th>\n",
              "      <td>2531_1</td>\n",
              "      <td>1</td>\n",
              "    </tr>\n",
              "    <tr>\n",
              "      <th>24998</th>\n",
              "      <td>7772_8</td>\n",
              "      <td>1</td>\n",
              "    </tr>\n",
              "    <tr>\n",
              "      <th>24999</th>\n",
              "      <td>11465_10</td>\n",
              "      <td>1</td>\n",
              "    </tr>\n",
              "  </tbody>\n",
              "</table>\n",
              "<p>25000 rows × 2 columns</p>\n",
              "</div>"
            ],
            "text/plain": [
              "             id  sentiment\n",
              "0      12311_10          1\n",
              "1        8348_2          0\n",
              "2        5828_4          1\n",
              "3        7186_2          1\n",
              "4       12128_7          1\n",
              "...         ...        ...\n",
              "24995   2155_10          1\n",
              "24996     59_10          1\n",
              "24997    2531_1          1\n",
              "24998    7772_8          1\n",
              "24999  11465_10          1\n",
              "\n",
              "[25000 rows x 2 columns]"
            ]
          },
          "metadata": {
            "tags": []
          },
          "execution_count": 43
        }
      ]
    },
    {
      "cell_type": "code",
      "metadata": {
        "id": "vYNUNOeWdJnq",
        "colab_type": "code",
        "colab": {}
      },
      "source": [
        "submission_file.to_csv('Using ensemble model.csv',index=False)"
      ],
      "execution_count": 0,
      "outputs": []
    },
    {
      "cell_type": "markdown",
      "metadata": {
        "id": "Wvx1IX55eluR",
        "colab_type": "text"
      },
      "source": [
        "### 5.2) Using xgboost"
      ]
    },
    {
      "cell_type": "code",
      "metadata": {
        "id": "UCRb5l8NdajV",
        "colab_type": "code",
        "colab": {}
      },
      "source": [
        "import xgboost as xgb"
      ],
      "execution_count": 0,
      "outputs": []
    },
    {
      "cell_type": "code",
      "metadata": {
        "id": "LxdbV_bYexCc",
        "colab_type": "code",
        "colab": {}
      },
      "source": [
        "xg_clf = xgb.XGBClassifier(objective ='binary:logistic',learning_rate=0.2,n_estimators=1000,max_depth=20)"
      ],
      "execution_count": 0,
      "outputs": []
    },
    {
      "cell_type": "code",
      "metadata": {
        "id": "UYA8blDlfQ4Y",
        "colab_type": "code",
        "colab": {
          "base_uri": "https://localhost:8080/",
          "height": 136
        },
        "outputId": "16dd5dd2-8796-43e7-8369-b7cdb5d3942c"
      },
      "source": [
        "xg_clf.fit(X_train,y_train)"
      ],
      "execution_count": 55,
      "outputs": [
        {
          "output_type": "execute_result",
          "data": {
            "text/plain": [
              "XGBClassifier(base_score=0.5, booster='gbtree', colsample_bylevel=1,\n",
              "              colsample_bynode=1, colsample_bytree=1, gamma=0,\n",
              "              learning_rate=0.2, max_delta_step=0, max_depth=20,\n",
              "              min_child_weight=1, missing=None, n_estimators=1000, n_jobs=1,\n",
              "              nthread=None, objective='binary:logistic', random_state=0,\n",
              "              reg_alpha=0, reg_lambda=1, scale_pos_weight=1, seed=None,\n",
              "              silent=None, subsample=1, verbosity=1)"
            ]
          },
          "metadata": {
            "tags": []
          },
          "execution_count": 55
        }
      ]
    },
    {
      "cell_type": "code",
      "metadata": {
        "id": "V9dgkEzofUYF",
        "colab_type": "code",
        "colab": {}
      },
      "source": [
        "y_val_pred = xg_clf.predict(X_val)"
      ],
      "execution_count": 0,
      "outputs": []
    },
    {
      "cell_type": "code",
      "metadata": {
        "id": "kLrOyCCYfe5G",
        "colab_type": "code",
        "colab": {
          "base_uri": "https://localhost:8080/",
          "height": 34
        },
        "outputId": "aee7e2a5-db1e-4a0b-d83a-aff80d9cb28e"
      },
      "source": [
        "print(roc_auc_score(y_val_pred,y_val))"
      ],
      "execution_count": 57,
      "outputs": [
        {
          "output_type": "stream",
          "text": [
            "0.8559715821812597\n"
          ],
          "name": "stdout"
        }
      ]
    },
    {
      "cell_type": "code",
      "metadata": {
        "id": "2oIkhjpUfja6",
        "colab_type": "code",
        "colab": {}
      },
      "source": [
        "y_pred = rf_clf.predict(X_test)"
      ],
      "execution_count": 0,
      "outputs": []
    },
    {
      "cell_type": "code",
      "metadata": {
        "id": "Q-Cdhp8tjP4C",
        "colab_type": "code",
        "colab": {
          "base_uri": "https://localhost:8080/",
          "height": 204
        },
        "outputId": "5ee5f4ee-360a-4097-9a19-2e688444d0b1"
      },
      "source": [
        "# putting result in submission file\n",
        "\n",
        "submission_file = pd.read_csv('drive/My Drive/Pytorch_DataSet/Bag Of Words Meets Bags of popcorn/sampleSubmission.csv')\n",
        "submission_file.head()"
      ],
      "execution_count": 59,
      "outputs": [
        {
          "output_type": "execute_result",
          "data": {
            "text/html": [
              "<div>\n",
              "<style scoped>\n",
              "    .dataframe tbody tr th:only-of-type {\n",
              "        vertical-align: middle;\n",
              "    }\n",
              "\n",
              "    .dataframe tbody tr th {\n",
              "        vertical-align: top;\n",
              "    }\n",
              "\n",
              "    .dataframe thead th {\n",
              "        text-align: right;\n",
              "    }\n",
              "</style>\n",
              "<table border=\"1\" class=\"dataframe\">\n",
              "  <thead>\n",
              "    <tr style=\"text-align: right;\">\n",
              "      <th></th>\n",
              "      <th>id</th>\n",
              "      <th>sentiment</th>\n",
              "    </tr>\n",
              "  </thead>\n",
              "  <tbody>\n",
              "    <tr>\n",
              "      <th>0</th>\n",
              "      <td>12311_10</td>\n",
              "      <td>0</td>\n",
              "    </tr>\n",
              "    <tr>\n",
              "      <th>1</th>\n",
              "      <td>8348_2</td>\n",
              "      <td>0</td>\n",
              "    </tr>\n",
              "    <tr>\n",
              "      <th>2</th>\n",
              "      <td>5828_4</td>\n",
              "      <td>0</td>\n",
              "    </tr>\n",
              "    <tr>\n",
              "      <th>3</th>\n",
              "      <td>7186_2</td>\n",
              "      <td>0</td>\n",
              "    </tr>\n",
              "    <tr>\n",
              "      <th>4</th>\n",
              "      <td>12128_7</td>\n",
              "      <td>0</td>\n",
              "    </tr>\n",
              "  </tbody>\n",
              "</table>\n",
              "</div>"
            ],
            "text/plain": [
              "         id  sentiment\n",
              "0  12311_10          0\n",
              "1    8348_2          0\n",
              "2    5828_4          0\n",
              "3    7186_2          0\n",
              "4   12128_7          0"
            ]
          },
          "metadata": {
            "tags": []
          },
          "execution_count": 59
        }
      ]
    },
    {
      "cell_type": "code",
      "metadata": {
        "id": "W1uD9ipijUSP",
        "colab_type": "code",
        "colab": {}
      },
      "source": [
        "submission_file['sentiment'] = y_pred\n",
        "submission_file.to_csv('Using xgboost.csv',index=False)"
      ],
      "execution_count": 0,
      "outputs": []
    },
    {
      "cell_type": "markdown",
      "metadata": {
        "id": "udsm-gB3jsri",
        "colab_type": "text"
      },
      "source": [
        "### 5.3) Using Logistic Regression"
      ]
    },
    {
      "cell_type": "code",
      "metadata": {
        "id": "MOHy9vhbjcjd",
        "colab_type": "code",
        "colab": {}
      },
      "source": [
        "from sklearn.linear_model import LogisticRegression"
      ],
      "execution_count": 0,
      "outputs": []
    }
  ]
}