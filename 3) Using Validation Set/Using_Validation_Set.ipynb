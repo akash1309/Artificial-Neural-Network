{
  "nbformat": 4,
  "nbformat_minor": 0,
  "metadata": {
    "colab": {
      "name": "Using Validation Set.ipynb",
      "provenance": [],
      "toc_visible": true
    },
    "kernelspec": {
      "name": "python3",
      "display_name": "Python 3"
    },
    "accelerator": "GPU"
  },
  "cells": [
    {
      "cell_type": "markdown",
      "metadata": {
        "id": "lof6yK_DJd6c",
        "colab_type": "text"
      },
      "source": [
        "# ANN Model Training Using Validation Set (Regression)\n"
      ]
    },
    {
      "cell_type": "markdown",
      "metadata": {
        "id": "o9mQS5XWMO1g",
        "colab_type": "text"
      },
      "source": [
        "- For ANN modeling (or other ML algorithms)  we typically partition the dataset into three parts: a training set (say, 60%), a validation set (e.g. 20%) and a test set (e.g. 20%). Normally, you are training the network with the training set to adjust the weights. To make sure you don't overfit the network and also fine-tune models you need to input the validation set to the network and check if the error is within some range (This set is not being using directly to adjust the weights but used to give the optimal number of hidden units or determine a stopping point for the back-propagation algorithm). Finally, the accuracy of the model on the test data gives a realistic estimate of the performance of the model on completely unseen data and in order to confirm the actual predictive power of the network.\n",
        "\n",
        " <u>To summarize all :</u>\n",
        "* <b>Training set</b>  --> to fit the parameters [i.e., weights]\n",
        "* <b>Validation set</b> --> to tune the parameters [i.e., architecture]\n",
        "* <b>Test set</b> --> to assess the performance [i.e., generalization and predictive power]"
      ]
    },
    {
      "cell_type": "markdown",
      "metadata": {
        "id": "S4n9UfOpJvYs",
        "colab_type": "text"
      },
      "source": [
        "## 1) Importing the Libraries"
      ]
    },
    {
      "cell_type": "code",
      "metadata": {
        "id": "ddEU7QjDJdRN",
        "colab_type": "code",
        "colab": {}
      },
      "source": [
        "import numpy as np\n",
        "import pandas as pd\n",
        "import matplotlib.pyplot as plt\n",
        "import torch\n",
        "import torch.nn as nn\n",
        "import time"
      ],
      "execution_count": 0,
      "outputs": []
    },
    {
      "cell_type": "markdown",
      "metadata": {
        "id": "tV-mWJpJNCje",
        "colab_type": "text"
      },
      "source": [
        "## 2) Checking for GPU availability"
      ]
    },
    {
      "cell_type": "code",
      "metadata": {
        "id": "FLOH9tHSJXsr",
        "colab_type": "code",
        "outputId": "b6a706a9-66f6-4122-964f-1029c9398056",
        "colab": {
          "base_uri": "https://localhost:8080/",
          "height": 34
        }
      },
      "source": [
        "torch.cuda.is_available()"
      ],
      "execution_count": 0,
      "outputs": [
        {
          "output_type": "execute_result",
          "data": {
            "text/plain": [
              "True"
            ]
          },
          "metadata": {
            "tags": []
          },
          "execution_count": 3
        }
      ]
    },
    {
      "cell_type": "markdown",
      "metadata": {
        "id": "8bvMj9g6NUvE",
        "colab_type": "text"
      },
      "source": [
        "## 3) Creating the dataset \n",
        "\n",
        "Here, in the beginning we are creating our own datasets. Later on, we will be using datasets from kaggle"
      ]
    },
    {
      "cell_type": "code",
      "metadata": {
        "id": "5UdF2Nh2NQO4",
        "colab_type": "code",
        "outputId": "720b27b8-e1fc-4fb3-c00e-ee963d778075",
        "colab": {
          "base_uri": "https://localhost:8080/",
          "height": 119
        }
      },
      "source": [
        "#Feature\n",
        "X = torch.linspace(1,10000,10000)\n",
        "\n",
        "#noise\n",
        "noise = np.random.randint(-10,10,10000)\n",
        "\n",
        "#Label\n",
        "y = 5*X + noise\n",
        "\n",
        "X = X.reshape(-1,1).cuda()\n",
        "y = y.reshape(-1,1).cuda()\n",
        "\n",
        "len(X), len(y), X.shape, y.shape , type(X), type(y)"
      ],
      "execution_count": 0,
      "outputs": [
        {
          "output_type": "execute_result",
          "data": {
            "text/plain": [
              "(10000,\n",
              " 10000,\n",
              " torch.Size([10000, 1]),\n",
              " torch.Size([10000, 1]),\n",
              " torch.Tensor,\n",
              " torch.Tensor)"
            ]
          },
          "metadata": {
            "tags": []
          },
          "execution_count": 8
        }
      ]
    },
    {
      "cell_type": "markdown",
      "metadata": {
        "id": "OKsZ-IBgPwEr",
        "colab_type": "text"
      },
      "source": [
        "## 4) Dividing the dataset\n",
        "\n",
        "Normally there are 2 ways to divide the dataset :\n",
        "- Using Scikit learn (train_test_split)\n",
        "- Using Pytorch ( DataLoader and TensorDataset)\n",
        "\n",
        "But these will divide your dataset into only 2 parts(train and test). Here,we want validation set as well. So,lets divide the dataset by ourself.\n",
        "\n",
        "We will train on 80% data, will use 10% for validation and the remaining for testing"
      ]
    },
    {
      "cell_type": "code",
      "metadata": {
        "id": "KiyYu1l6OXPJ",
        "colab_type": "code",
        "outputId": "73afbba7-08e8-448a-d5f2-3939bb04d677",
        "colab": {
          "base_uri": "https://localhost:8080/",
          "height": 34
        }
      },
      "source": [
        "size = int(0.8*len(X))\n",
        "X_train, y_train = X[:size] , y[:size]\n",
        "X_val, y_val = X[size:size+int(0.1*len(X))], y[size:size+int(0.1*len(X))]\n",
        "X_test, y_test = X[size+int(0.1*len(X)):], y[size+int(0.1*len(X)):]\n",
        "\n",
        "len(X_train), len(y_train), len(X_val), len(y_val), len(X_test), len(y_test)"
      ],
      "execution_count": 0,
      "outputs": [
        {
          "output_type": "execute_result",
          "data": {
            "text/plain": [
              "(8000, 8000, 1000, 1000, 1000, 1000)"
            ]
          },
          "metadata": {
            "tags": []
          },
          "execution_count": 9
        }
      ]
    },
    {
      "cell_type": "markdown",
      "metadata": {
        "id": "VQHHov_2RhLh",
        "colab_type": "text"
      },
      "source": [
        "## 5) ANN model"
      ]
    },
    {
      "cell_type": "code",
      "metadata": {
        "id": "Qmds-0QrRbiI",
        "colab_type": "code",
        "colab": {}
      },
      "source": [
        "class ANN(nn.Module):\n",
        "  def __init__(self,in_features,out_features,hidden_neurons,n_layers = 3):\n",
        "    super().__init__()\n",
        "\n",
        "    self.in_features = in_features\n",
        "    self.hidden_neurons = hidden_neurons\n",
        "    self.out_features = out_features\n",
        "\n",
        "    layer_list = []\n",
        "    layer_list.append(nn.Linear(self.in_features,self.hidden_neurons))\n",
        "    layer_list.append(nn.Linear(self.hidden_neurons,self.hidden_neurons))\n",
        "    layer_list.append(nn.Linear(self.hidden_neurons,self.out_features))\n",
        "\n",
        "    self.layers = nn.Sequential(*layer_list)\n",
        "\n",
        "  def forward(self,X):\n",
        "\n",
        "    y_pred = self.layers(X)\n",
        "    return y_pred"
      ],
      "execution_count": 0,
      "outputs": []
    },
    {
      "cell_type": "markdown",
      "metadata": {
        "id": "aAEJfbh0TYmt",
        "colab_type": "text"
      },
      "source": [
        "## 6) Initialising the ANN model"
      ]
    },
    {
      "cell_type": "code",
      "metadata": {
        "id": "MhaXUTi4TXQx",
        "colab_type": "code",
        "outputId": "a3c270ed-8795-4875-a246-03a2e9c31cff",
        "colab": {
          "base_uri": "https://localhost:8080/",
          "height": 136
        }
      },
      "source": [
        "model = ANN(1,1,256,2)\n",
        "gpu_model = model.cuda()\n",
        "gpu_model"
      ],
      "execution_count": 0,
      "outputs": [
        {
          "output_type": "execute_result",
          "data": {
            "text/plain": [
              "ANN(\n",
              "  (layers): Sequential(\n",
              "    (0): Linear(in_features=1, out_features=256, bias=True)\n",
              "    (1): Linear(in_features=256, out_features=256, bias=True)\n",
              "    (2): Linear(in_features=256, out_features=1, bias=True)\n",
              "  )\n",
              ")"
            ]
          },
          "metadata": {
            "tags": []
          },
          "execution_count": 25
        }
      ]
    },
    {
      "cell_type": "markdown",
      "metadata": {
        "id": "3S9tNuadYQGE",
        "colab_type": "text"
      },
      "source": [
        "## 7) Loss function and optimizer"
      ]
    },
    {
      "cell_type": "code",
      "metadata": {
        "id": "oSDxhN3QXQS2",
        "colab_type": "code",
        "colab": {}
      },
      "source": [
        "criterion = nn.MSELoss()\n",
        "optimizer = torch.optim.Adam(model.parameters(),lr=0.001)"
      ],
      "execution_count": 0,
      "outputs": []
    },
    {
      "cell_type": "markdown",
      "metadata": {
        "id": "BqunJr-BYjLQ",
        "colab_type": "text"
      },
      "source": [
        "## 8) Training the model\n",
        "\n",
        "Here, we will be training the model on X_train set and simultenously checking it on validation set."
      ]
    },
    {
      "cell_type": "code",
      "metadata": {
        "id": "Br69oI7RYhWp",
        "colab_type": "code",
        "outputId": "cdf0a468-fc5e-4c6f-f22d-72bbca684951",
        "colab": {
          "base_uri": "https://localhost:8080/",
          "height": 153
        }
      },
      "source": [
        "epochs = 200\n",
        "losses = []\n",
        "\n",
        "gpu_model.train()\n",
        "\n",
        "for i in range(epochs):\n",
        "  i+=1\n",
        "\n",
        "  ####### Training #######\n",
        "\n",
        "  y_pred = gpu_model(X_train)\n",
        "\n",
        "  loss = criterion(y_train,y_pred)\n",
        "  losses.append(loss)\n",
        "  optimizer.zero_grad()\n",
        "  loss.backward()\n",
        "  optimizer.step()\n",
        "\n",
        "  if i%25 == 0:\n",
        "\n",
        "    ####### Validation #########\n",
        "\n",
        "    gpu_model.eval()\n",
        "    y_val_pred = gpu_model(X_val)\n",
        "    losse = criterion(y_val,y_val_pred)\n",
        "\n",
        "    print(f'Epoch : {i} Loss : {losse.item()}')\n",
        "\n",
        "    gpu_model.train()"
      ],
      "execution_count": 0,
      "outputs": [
        {
          "output_type": "stream",
          "text": [
            "Epoch : 25 Loss : 29102668.778937493\n",
            "Epoch : 50 Loss : 868014.1380434292\n",
            "Epoch : 75 Loss : 109482.30662011319\n",
            "Epoch : 100 Loss : 15103.039376535531\n",
            "Epoch : 125 Loss : 2093.999352313021\n",
            "Epoch : 150 Loss : 134.92826136785467\n",
            "Epoch : 175 Loss : 44.75182011876136\n",
            "Epoch : 200 Loss : 33.381890150618105\n"
          ],
          "name": "stdout"
        }
      ]
    },
    {
      "cell_type": "markdown",
      "metadata": {
        "id": "b79yPwppVS61",
        "colab_type": "text"
      },
      "source": [
        "Here, we are going for evaluation of validation set.All depends on the loss function. If you want to decrease it, go for manual hyperparameter tuning."
      ]
    },
    {
      "cell_type": "markdown",
      "metadata": {
        "id": "NMAyHuJuenq2",
        "colab_type": "text"
      },
      "source": [
        "## 9) Predicting the result on the Test Set"
      ]
    },
    {
      "cell_type": "code",
      "metadata": {
        "id": "_atQvkrxdxdg",
        "colab_type": "code",
        "outputId": "e2504151-7edf-420c-e6ec-2b88afd7dc79",
        "colab": {
          "base_uri": "https://localhost:8080/",
          "height": 34
        }
      },
      "source": [
        "with torch.no_grad():\n",
        "  y_test_pred = gpu_model(X_test)\n",
        "  loss = criterion(y_test,y_test_pred)\n",
        "  print(loss.item())\n"
      ],
      "execution_count": 0,
      "outputs": [
        {
          "output_type": "stream",
          "text": [
            "33.14591844446376\n"
          ],
          "name": "stdout"
        }
      ]
    },
    {
      "cell_type": "code",
      "metadata": {
        "id": "s26k0oBZfT36",
        "colab_type": "code",
        "outputId": "487af99d-a0cf-4fdd-bda8-986d23f4daf5",
        "colab": {
          "base_uri": "https://localhost:8080/",
          "height": 282
        }
      },
      "source": [
        "plt.plot(y_test.cpu().numpy().flatten(),'g',label = 'Actual')\n",
        "plt.plot(y_test_pred.cpu().numpy().flatten(),'b' , label = 'Predicted')\n",
        "plt.legend()"
      ],
      "execution_count": 0,
      "outputs": [
        {
          "output_type": "execute_result",
          "data": {
            "text/plain": [
              "<matplotlib.legend.Legend at 0x7fba07a6e828>"
            ]
          },
          "metadata": {
            "tags": []
          },
          "execution_count": 35
        },
        {
          "output_type": "display_data",
          "data": {
            "image/png": "[encoded data removed]",
            "text/plain": [
              "<Figure size 432x288 with 1 Axes>"
            ]
          },
          "metadata": {
            "tags": [],
            "needs_background": "light"
          }
        }
      ]
    },
    {
      "cell_type": "code",
      "metadata": {
        "id": "2qSyPApgfmce",
        "colab_type": "code",
        "outputId": "b671529c-8c8f-4061-91f8-df9332c4f7db",
        "colab": {
          "base_uri": "https://localhost:8080/",
          "height": 419
        }
      },
      "source": [
        "df = pd.DataFrame(y_test.cpu().numpy())\n",
        "df['Predicted'] = y_test_pred.cpu().numpy()\n",
        "df.rename(columns= {0 : 'Actual'},inplace= True)\n",
        "df"
      ],
      "execution_count": 0,
      "outputs": [
        {
          "output_type": "execute_result",
          "data": {
            "text/html": [
              "<div>\n",
              "<style scoped>\n",
              "    .dataframe tbody tr th:only-of-type {\n",
              "        vertical-align: middle;\n",
              "    }\n",
              "\n",
              "    .dataframe tbody tr th {\n",
              "        vertical-align: top;\n",
              "    }\n",
              "\n",
              "    .dataframe thead th {\n",
              "        text-align: right;\n",
              "    }\n",
              "</style>\n",
              "<table border=\"1\" class=\"dataframe\">\n",
              "  <thead>\n",
              "    <tr style=\"text-align: right;\">\n",
              "      <th></th>\n",
              "      <th>Actual</th>\n",
              "      <th>Predicted</th>\n",
              "    </tr>\n",
              "  </thead>\n",
              "  <tbody>\n",
              "    <tr>\n",
              "      <th>0</th>\n",
              "      <td>45005.0</td>\n",
              "      <td>45005.121094</td>\n",
              "    </tr>\n",
              "    <tr>\n",
              "      <th>1</th>\n",
              "      <td>45000.0</td>\n",
              "      <td>45010.121094</td>\n",
              "    </tr>\n",
              "    <tr>\n",
              "      <th>2</th>\n",
              "      <td>45010.0</td>\n",
              "      <td>45015.121094</td>\n",
              "    </tr>\n",
              "    <tr>\n",
              "      <th>3</th>\n",
              "      <td>45015.0</td>\n",
              "      <td>45020.125000</td>\n",
              "    </tr>\n",
              "    <tr>\n",
              "      <th>4</th>\n",
              "      <td>45017.0</td>\n",
              "      <td>45025.121094</td>\n",
              "    </tr>\n",
              "    <tr>\n",
              "      <th>...</th>\n",
              "      <td>...</td>\n",
              "      <td>...</td>\n",
              "    </tr>\n",
              "    <tr>\n",
              "      <th>995</th>\n",
              "      <td>49977.0</td>\n",
              "      <td>49980.175781</td>\n",
              "    </tr>\n",
              "    <tr>\n",
              "      <th>996</th>\n",
              "      <td>49978.0</td>\n",
              "      <td>49985.171875</td>\n",
              "    </tr>\n",
              "    <tr>\n",
              "      <th>997</th>\n",
              "      <td>49980.0</td>\n",
              "      <td>49990.175781</td>\n",
              "    </tr>\n",
              "    <tr>\n",
              "      <th>998</th>\n",
              "      <td>49998.0</td>\n",
              "      <td>49995.175781</td>\n",
              "    </tr>\n",
              "    <tr>\n",
              "      <th>999</th>\n",
              "      <td>50006.0</td>\n",
              "      <td>50000.179688</td>\n",
              "    </tr>\n",
              "  </tbody>\n",
              "</table>\n",
              "<p>1000 rows × 2 columns</p>\n",
              "</div>"
            ],
            "text/plain": [
              "      Actual     Predicted\n",
              "0    45005.0  45005.121094\n",
              "1    45000.0  45010.121094\n",
              "2    45010.0  45015.121094\n",
              "3    45015.0  45020.125000\n",
              "4    45017.0  45025.121094\n",
              "..       ...           ...\n",
              "995  49977.0  49980.175781\n",
              "996  49978.0  49985.171875\n",
              "997  49980.0  49990.175781\n",
              "998  49998.0  49995.175781\n",
              "999  50006.0  50000.179688\n",
              "\n",
              "[1000 rows x 2 columns]"
            ]
          },
          "metadata": {
            "tags": []
          },
          "execution_count": 41
        }
      ]
    },
    {
      "cell_type": "markdown",
      "metadata": {
        "id": "oaaiT9b5jmTr",
        "colab_type": "text"
      },
      "source": [
        "#"
      ]
    },
    {
      "cell_type": "code",
      "metadata": {
        "id": "nb3IXFCJhu0v",
        "colab_type": "code",
        "colab": {}
      },
      "source": [
        ""
      ],
      "execution_count": 0,
      "outputs": []
    }
  ]
}